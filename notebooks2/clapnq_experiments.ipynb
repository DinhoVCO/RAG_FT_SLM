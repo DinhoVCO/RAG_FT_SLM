{
 "cells": [
  {
   "cell_type": "code",
   "execution_count": 1,
   "id": "c521d0de-d688-4b42-b241-e02f0b459c73",
   "metadata": {},
   "outputs": [],
   "source": [
    "## Experiments clapnq top k10"
   ]
  },
  {
   "cell_type": "code",
   "execution_count": null,
   "id": "96504ef3-4f61-4e6d-8330-2a2c8639ef64",
   "metadata": {},
   "outputs": [],
   "source": [
    "## Phi\n",
    "## Phi Ft <- ajustar el modelo sin pasajes\n",
    "## Emb Phi\n",
    "## Emb Ft Phi\n",
    "## Emb Phi Ft\n",
    "## Emb Ft Phi Ft\n",
    "## Gpt 3.5"
   ]
  },
  {
   "cell_type": "markdown",
   "id": "2a53353d-518c-49e1-a838-82258c57ccb2",
   "metadata": {
    "jp-MarkdownHeadingCollapsed": true
   },
   "source": [
    "## Phi"
   ]
  },
  {
   "cell_type": "code",
   "execution_count": 2,
   "id": "8e1c8404-472f-4d95-98a6-fde537772d48",
   "metadata": {
    "scrolled": true
   },
   "outputs": [
    {
     "name": "stdout",
     "output_type": "stream",
     "text": [
      "Using device: cuda\n",
      "Loading base model: microsoft/phi-2\n",
      "Loading checkpoint shards: 100%|██████████████████| 2/2 [00:00<00:00, 18.21it/s]\n",
      "Device set to use cuda:0\n",
      "Loading dataset splits for clapnq\n",
      "Train: 2996\n",
      "Val: 749\n",
      "Test: 600\n",
      "Datasets loaded and prepared.\n",
      "Dataset({\n",
      "    features: ['id', 'question', 'passages', 'output'],\n",
      "    num_rows: 600\n",
      "})\n",
      "Generating prompts: 100%|███████████████████| 600/600 [00:00<00:00, 3259.89it/s]\n",
      "Example prompt\n",
      "Instruct: Only answer the question if you are certain based on your knowledge. Otherwise, respond with unanswerable.\n",
      "Question:\n",
      "which method of forecasting uses averages to predict future weather\n",
      "\n",
      "Output:\n",
      "Processing inference\n",
      "inference completed\n",
      "answer save in ../results/clapnq/phi_k10_clapnq.csv\n"
     ]
    }
   ],
   "source": [
    "!python ../scripts/inference_rag.py \\\n",
    "  --gen_model \"microsoft/phi-2\" \\\n",
    "  --max_new_tokens 60 \\\n",
    "  --dataset_name \"clapnq\" \\\n",
    "  --output_csv_path \"../results/clapnq/phi_k10_clapnq.csv\" \\\n",
    "  --bs_emb 10 \\\n",
    "  --bs_gen 10\\\n",
    "  --top_k 10"
   ]
  },
  {
   "cell_type": "code",
   "execution_count": 3,
   "id": "c77d10df-cd4b-44bc-b03b-7ff3c2124ae0",
   "metadata": {},
   "outputs": [
    {
     "name": "stdout",
     "output_type": "stream",
     "text": [
      "Loading dataset splits for clapnq\n",
      "Train: 2996\n",
      "Val: 749\n",
      "Test: 600\n",
      "Datasets loaded and prepared.\n",
      "Results saved in: ../results/clapnq/phi_k10_clapnq.csv\n"
     ]
    }
   ],
   "source": [
    "from utils.evaluate_inference import evaluate_answer\n",
    "evaluate_answer('clapnq', '../results/clapnq/phi_k10_clapnq.csv')"
   ]
  },
  {
   "cell_type": "markdown",
   "id": "5b6e24f5-e154-45fe-879a-40a9275e1fac",
   "metadata": {},
   "source": [
    "## Phi FT"
   ]
  },
  {
   "cell_type": "code",
   "execution_count": 8,
   "id": "f7f12e4e-cbfa-4ab7-8965-34958ebe07e4",
   "metadata": {},
   "outputs": [
    {
     "name": "stdout",
     "output_type": "stream",
     "text": [
      "Using device: cuda\n",
      "Loading base model from LoRA adapter: ../models/clapnq/adapters/best_phi_2_rag_k1_clapnq-5e_10bs\n",
      "Loading checkpoint shards: 100%|██████████████████| 2/2 [00:00<00:00, 18.40it/s]\n",
      "Device set to use cuda:0\n",
      "Loading dataset splits for clapnq\n",
      "Train: 2996\n",
      "Val: 749\n",
      "Test: 600\n",
      "Datasets loaded and prepared.\n",
      "Dataset({\n",
      "    features: ['id', 'question', 'passages', 'output'],\n",
      "    num_rows: 600\n",
      "})\n",
      "Generating prompts: 100%|███████████████████| 600/600 [00:00<00:00, 8485.14it/s]\n",
      "Example prompt\n",
      "Instruct: Only answer the question if you are certain based on your knowledge. Otherwise, respond with unanswerable.\n",
      "Question:\n",
      "which method of forecasting uses averages to predict future weather\n",
      "\n",
      "Output:\n",
      "Processing inference\n",
      "inference completed\n",
      "answer save in ../results/clapnq/phi_ft_k10_clapnq.csv\n"
     ]
    }
   ],
   "source": [
    "!python ../scripts/inference_rag.py \\\n",
    "  --lora_adapter_path \"../models/clapnq/adapters/best_phi_2_rag_k1_clapnq-5e_10bs\" \\\n",
    "  --max_new_tokens 60 \\\n",
    "  --dataset_name \"clapnq\" \\\n",
    "  --output_csv_path \"../results/clapnq/phi_ft_k10_clapnq.csv\" \\\n",
    "  --bs_emb 10 \\\n",
    "  --bs_gen 10\\\n",
    "  --top_k 10"
   ]
  },
  {
   "cell_type": "code",
   "execution_count": 7,
   "id": "58ddef80-c420-4b86-a5ed-2ad67efb4a94",
   "metadata": {},
   "outputs": [
    {
     "name": "stdout",
     "output_type": "stream",
     "text": [
      "Loading dataset splits for clapnq\n",
      "Train: 2996\n",
      "Val: 749\n",
      "Test: 600\n",
      "Datasets loaded and prepared.\n",
      "Results saved in: ../results/clapnq/phi_ft_k10_clapnq.csv\n"
     ]
    }
   ],
   "source": [
    "from utils.evaluate_inference import evaluate_answer\n",
    "evaluate_answer('clapnq', '../results/clapnq/phi_ft_k10_clapnq.csv')"
   ]
  },
  {
   "cell_type": "markdown",
   "id": "c65d1978-4c17-449a-851b-434ac1babc41",
   "metadata": {
    "jp-MarkdownHeadingCollapsed": true
   },
   "source": [
    "## Emb phi"
   ]
  },
  {
   "cell_type": "code",
   "execution_count": 9,
   "id": "f50c3f83-150c-4152-9df5-0d11ba5e5e75",
   "metadata": {
    "scrolled": true
   },
   "outputs": [
    {
     "name": "stdout",
     "output_type": "stream",
     "text": [
      "Using device: cuda\n",
      "Loading base model: microsoft/phi-2\n",
      "Loading checkpoint shards: 100%|██████████████████| 2/2 [00:00<00:00, 18.04it/s]\n",
      "Load model embedding : BAAI/bge-small-en-v1.5\n",
      "Using device: cuda\n",
      "💾 Vector store loaded from../vector_stores/clapnq/base_vs_clapnq_150_20\n",
      "Device set to use cuda:0\n",
      "Loading dataset splits for clapnq\n",
      "Train: 2996\n",
      "Val: 749\n",
      "Test: 600\n",
      "Datasets loaded and prepared.\n",
      "Dataset({\n",
      "    features: ['id', 'question', 'passages', 'output'],\n",
      "    num_rows: 600\n",
      "})\n",
      "🔍 Buscando: 100%|██████████████████████████████| 60/60 [00:04<00:00, 12.90it/s]\n",
      "Generating prompts: 100%|███████████████████| 600/600 [00:00<00:00, 7743.78it/s]\n",
      "Example prompt\n",
      "Instruct: Using the information in the context, answer the question as concisely and faithfully as possible. If the context does not contain enough information,  respond with unanswerable.\n",
      "Context:\n",
      "\n",
      "Document 1:Forecasting, Forecasting has applications in a wide range of fields where estimates of future conditions are useful . Not everything can be forecasted reliably , if the factors that relate to what is being forecast are known and well understood and there is a significant amount of data that can be used very reliable forecasts can often be obtained . If this is not the case or if the actual outcome is effected by the forecasts , the reliability of the forecasts can be significantly lower .\n",
      "Document 2:Forecasting, Quantitative forecasting models are used to forecast future data as a function of past data . They are appropriate to use when past numerical data is available and when it is reasonable to assume that some of the patterns in the data are expected to continue into the future . These methods are usually applied to short - or intermediate - range decisions . Examples of quantitative forecasting methods are last period demand , simple and weighted N - Period moving averages , simple exponential smoothing , poisson process model based forecasting and multiplicative seasonal indexes . Previous research shows that different methods may lead to different level of forecasting accuarcy\n",
      "Document 3:Forecasting, A variation on the naïve method is to allow the forecasts to increase or decrease over time , where the amount of change over time ( called the drift ) is set to be the average change seen in the historical data . So the forecast for time T + h ( \\ displaystyle T + h ) is given by\n",
      "Document 4:Forecasting, Some forecasting methods try to identify the underlying factors that might influence the variable that is being forecast . For example , including information about climate patterns might improve the ability of a model to predict umbrella sales . Forecasting models often take account of regular seasonal variations . In addition to climate , such variations can also be due to holidays and customs : for example , one might predict that sales of college football apparel will be higher during the football season than during the off season .\n",
      "Document 5:Forecasting, Forecasting has also been used to predict the development of conflict situations . Forecasters perform research that uses empirical results to gauge the effectiveness of certain forecasting models . However research has shown that there is little difference between the accuracy of the forecasts of experts knowledgeable in the conflict situation and those by individuals who knew much less .\n",
      "Document 6:Forecasting, In this approach , the predictions of all future values are equal to the mean of the past data . This approach can be used with any sort of data where past data is available . In time series notation :\n",
      "Document 7:Forecasting, Although the time series notation has been used here , the average approach can also be used for cross-sectional data ( when we are predicting unobserved values ; values that are not included in the data set ) . Then , the prediction for unobserved values is the average of the observed values .\n",
      "Document 8:Forecasting, A good forecasting method will yield residuals that are uncorrelated and have zero mean . If there are correlations between residual values , then there is information left in the residuals which should be used in computing forecasts . If the residuals have a mean other than zero , then the forecasts are biased .\n",
      "Document 9:Forecasting, for time series data , the training set can only include observations prior to the test set . therefore no future observations can be used in constructing the forecast . Suppose k observations are needed to produce a reliable forecast then the process works as :\n",
      "Document 10:Forecasting, Naïve forecasts are the most cost - effective forecasting model , and provide a benchmark against which more sophisticated models can be compared . This forecasting method is only suitable for time series data . Using the naïve approach , forecasts are produced that are equal to the last observed value . This method works quite well for economic and financial time series , which often have patterns that are difficult to reliably and accurately predict . If the time series is believed to have seasonality , seasonal naïve approach may be more appropriate where the forecasts are equal to the value from last season . The naïve method may also use a drift , which will take the last observation plus the average change from the first observation to the last observation\n",
      "\n",
      "Question:\n",
      "which method of forecasting uses averages to predict future weather\n",
      "\n",
      "Output:\n",
      "Processing inference\n",
      "inference completed\n",
      "answer save in ../results/clapnq/basic_rag_k10_clapnq.csv\n"
     ]
    }
   ],
   "source": [
    "!python ../scripts/inference_rag.py \\\n",
    "  --gen_model \"microsoft/phi-2\" \\\n",
    "  --max_new_tokens 60 \\\n",
    "  --vector_store_path \"../vector_stores/clapnq/base_vs_clapnq_150_20\" \\\n",
    "  --dataset_name \"clapnq\" \\\n",
    "  --output_csv_path \"../results/clapnq/basic_rag_k10_clapnq.csv\" \\\n",
    "  --bs_emb 10 \\\n",
    "  --bs_gen 10\\\n",
    "  --top_k 10 \\\n",
    "  --use_rag"
   ]
  },
  {
   "cell_type": "code",
   "execution_count": 10,
   "id": "8c11f6c6-e695-4e06-883c-51bf2b6d1611",
   "metadata": {
    "scrolled": true
   },
   "outputs": [
    {
     "name": "stdout",
     "output_type": "stream",
     "text": [
      "Loading dataset splits for clapnq\n",
      "Train: 2996\n",
      "Val: 749\n",
      "Test: 600\n",
      "Datasets loaded and prepared.\n",
      "Results saved in: ../results/clapnq/basic_rag_k10_clapnq.csv\n"
     ]
    }
   ],
   "source": [
    "from utils.evaluate_inference import evaluate_answer\n",
    "evaluate_answer('clapnq', '../results/clapnq/basic_rag_k10_clapnq.csv')"
   ]
  },
  {
   "cell_type": "markdown",
   "id": "489f36f9-4583-4716-af13-2bef48a69193",
   "metadata": {},
   "source": [
    "## Emb ft Phi"
   ]
  },
  {
   "cell_type": "code",
   "execution_count": 11,
   "id": "80b097a3-88fe-4960-ae5a-d543a5d085cc",
   "metadata": {
    "scrolled": true
   },
   "outputs": [
    {
     "name": "stdout",
     "output_type": "stream",
     "text": [
      "Using device: cuda\n",
      "Loading base model: microsoft/phi-2\n",
      "Loading checkpoint shards: 100%|██████████████████| 2/2 [00:00<00:00, 13.78it/s]\n",
      "Load model embedding : ../models/clapnq/embedding/bge-small-clapnq_10e_128bs\n",
      "Using device: cuda\n",
      "💾 Vector store loaded from../vector_stores/clapnq/ft_vs_clapnq_150_20\n",
      "Device set to use cuda:0\n",
      "Loading dataset splits for clapnq\n",
      "Train: 2996\n",
      "Val: 749\n",
      "Test: 600\n",
      "Datasets loaded and prepared.\n",
      "Dataset({\n",
      "    features: ['id', 'question', 'passages', 'output'],\n",
      "    num_rows: 600\n",
      "})\n",
      "🔍 Buscando: 100%|██████████████████████████████| 60/60 [00:04<00:00, 12.87it/s]\n",
      "Generating prompts: 100%|███████████████████| 600/600 [00:00<00:00, 7800.77it/s]\n",
      "Example prompt\n",
      "Instruct: Using the information in the context, answer the question as concisely and faithfully as possible. If the context does not contain enough information,  respond with unanswerable.\n",
      "Context:\n",
      "\n",
      "Document 1:Forecasting, Forecasting has applications in a wide range of fields where estimates of future conditions are useful . Not everything can be forecasted reliably , if the factors that relate to what is being forecast are known and well understood and there is a significant amount of data that can be used very reliable forecasts can often be obtained . If this is not the case or if the actual outcome is effected by the forecasts , the reliability of the forecasts can be significantly lower .\n",
      "Document 2:Forecasting, As proposed by Edward Lorenz in 1963 , long range weather forecasts , those made at a range of two weeks or more , are impossible to definitively predict the state of the atmosphere , owing to the chaotic nature of the fluid dynamics equations involved . Extremely small errors in the initial input , such as temperatures and winds , within numerical models double every five days .\n",
      "Document 3:Forecasting, A variation on the naïve method is to allow the forecasts to increase or decrease over time , where the amount of change over time ( called the drift ) is set to be the average change seen in the historical data . So the forecast for time T + h ( \\ displaystyle T + h ) is given by\n",
      "Document 4:Forecasting, Although the time series notation has been used here , the average approach can also be used for cross-sectional data ( when we are predicting unobserved values ; values that are not included in the data set ) . Then , the prediction for unobserved values is the average of the observed values .\n",
      "Document 5:Forecasting, E t = Y t − F t ( \\ displaystyle \\ E_ ( t ) = Y_ ( t ) - F_ ( t ) )\n",
      "Document 6:Forecasting, y ^ T + h T = y T + h T − 1 ∑ t = 2 T ( y t − y t − 1 ) = y T + h ( y T − y 1 T − 1 ) . ( \\ displaystyle ( \\ hat ( y ) ) _ ( T + h T ) = y_ ( T ) + ( \\ frac ( h ) ( T - 1 ) ) \\ sum _ ( t = 2 ) ^ ( T ) ( y_ ( t ) - y_ ( t - 1 ) ) = y_ ( T ) + h \\ left ( ( \\ frac ( y_ ( T ) - y_ ( 1 ) ) ( T - 1 ) ) \\ right )\n",
      "Document 7:Forecasting, y ^ T + h T = y  ̄ = ( y 1 + ... + y T ) / T ( \\ displaystyle ( \\ hat ( y ) ) _ ( T + h T ) = ( \\ bar ( y ) ) = ( y_ ( 1 ) + ... + y_ ( T ) ) / T )\n",
      "Document 8:Forecasting, This is equivalent to drawing a line between the first and last observation , and extrapolating it into the future .\n",
      "Document 9:Forecasting, Some forecasting methods try to identify the underlying factors that might influence the variable that is being forecast . For example , including information about climate patterns might improve the ability of a model to predict umbrella sales . Forecasting models often take account of regular seasonal variations . In addition to climate , such variations can also be due to holidays and customs : for example , one might predict that sales of college football apparel will be higher during the football season than during the off season .\n",
      "Document 10:Forecasting, It is important to evaluate forecast accuracy using genuine forecasts . That is , it is invalid to look at how well a model fits the historical data ; the accuracy of forecasts can only be determined by considering how well a model performs on new data that were not used when fitting the model . When choosing models , it is common to use a portion of the available data for fitting , and use the rest of the data for testing the model , as was done in the above examples .\n",
      "\n",
      "Question:\n",
      "which method of forecasting uses averages to predict future weather\n",
      "\n",
      "Output:\n",
      "Processing inference\n",
      "inference completed\n",
      "answer save in ../results/clapnq/emb_ft_phi_k10_clapnq.csv\n"
     ]
    }
   ],
   "source": [
    "!python ../scripts/inference_rag.py \\\n",
    "  --gen_model \"microsoft/phi-2\" \\\n",
    "  --max_new_tokens 60 \\\n",
    "  --vector_store_path \"../vector_stores/clapnq/ft_vs_clapnq_150_20\" \\\n",
    "  --dataset_name \"clapnq\" \\\n",
    "  --output_csv_path \"../results/clapnq/emb_ft_phi_k10_clapnq.csv\" \\\n",
    "  --bs_emb 10 \\\n",
    "  --bs_gen 10\\\n",
    "  --top_k 10 \\\n",
    "  --use_rag"
   ]
  },
  {
   "cell_type": "code",
   "execution_count": 12,
   "id": "0d318a60-6903-429e-b2ea-01f653ad497a",
   "metadata": {},
   "outputs": [
    {
     "name": "stdout",
     "output_type": "stream",
     "text": [
      "Loading dataset splits for clapnq\n",
      "Train: 2996\n",
      "Val: 749\n",
      "Test: 600\n",
      "Datasets loaded and prepared.\n",
      "Results saved in: ../results/clapnq/emb_ft_phi_k10_clapnq.csv\n"
     ]
    }
   ],
   "source": [
    "from utils.evaluate_inference import evaluate_answer\n",
    "evaluate_answer('clapnq', '../results/clapnq/emb_ft_phi_k10_clapnq.csv')"
   ]
  },
  {
   "cell_type": "markdown",
   "id": "2074c5ee-38b7-4a15-9bfa-db9eacfaf942",
   "metadata": {},
   "source": [
    "## Emb Phi ft"
   ]
  },
  {
   "cell_type": "code",
   "execution_count": 14,
   "id": "71503c49-75a1-49a7-9c6a-72a5e4789712",
   "metadata": {
    "scrolled": true
   },
   "outputs": [
    {
     "name": "stdout",
     "output_type": "stream",
     "text": [
      "Using device: cuda\n",
      "Loading base model from LoRA adapter: ../models/clapnq/adapters/best_phi_2_rag_k1_clapnq-5e_10bs\n",
      "Loading checkpoint shards: 100%|██████████████████| 2/2 [00:00<00:00, 18.81it/s]\n",
      "Load model embedding : BAAI/bge-small-en-v1.5\n",
      "Using device: cuda\n",
      "💾 Vector store loaded from../vector_stores/clapnq/base_vs_clapnq_150_20\n",
      "Device set to use cuda:0\n",
      "Loading dataset splits for clapnq\n",
      "Train: 2996\n",
      "Val: 749\n",
      "Test: 600\n",
      "Datasets loaded and prepared.\n",
      "Dataset({\n",
      "    features: ['id', 'question', 'passages', 'output'],\n",
      "    num_rows: 600\n",
      "})\n",
      "🔍 Buscando: 100%|██████████████████████████████| 60/60 [00:04<00:00, 13.89it/s]\n",
      "Generating prompts: 100%|███████████████████| 600/600 [00:00<00:00, 8135.88it/s]\n",
      "Example prompt\n",
      "Instruct: Using the information in the context, answer the question as concisely and faithfully as possible. If the context does not contain enough information,  respond with unanswerable.\n",
      "Context:\n",
      "\n",
      "Document 1:Forecasting, Forecasting has applications in a wide range of fields where estimates of future conditions are useful . Not everything can be forecasted reliably , if the factors that relate to what is being forecast are known and well understood and there is a significant amount of data that can be used very reliable forecasts can often be obtained . If this is not the case or if the actual outcome is effected by the forecasts , the reliability of the forecasts can be significantly lower .\n",
      "Document 2:Forecasting, Quantitative forecasting models are used to forecast future data as a function of past data . They are appropriate to use when past numerical data is available and when it is reasonable to assume that some of the patterns in the data are expected to continue into the future . These methods are usually applied to short - or intermediate - range decisions . Examples of quantitative forecasting methods are last period demand , simple and weighted N - Period moving averages , simple exponential smoothing , poisson process model based forecasting and multiplicative seasonal indexes . Previous research shows that different methods may lead to different level of forecasting accuarcy\n",
      "Document 3:Forecasting, A variation on the naïve method is to allow the forecasts to increase or decrease over time , where the amount of change over time ( called the drift ) is set to be the average change seen in the historical data . So the forecast for time T + h ( \\ displaystyle T + h ) is given by\n",
      "Document 4:Forecasting, Some forecasting methods try to identify the underlying factors that might influence the variable that is being forecast . For example , including information about climate patterns might improve the ability of a model to predict umbrella sales . Forecasting models often take account of regular seasonal variations . In addition to climate , such variations can also be due to holidays and customs : for example , one might predict that sales of college football apparel will be higher during the football season than during the off season .\n",
      "Document 5:Forecasting, Forecasting has also been used to predict the development of conflict situations . Forecasters perform research that uses empirical results to gauge the effectiveness of certain forecasting models . However research has shown that there is little difference between the accuracy of the forecasts of experts knowledgeable in the conflict situation and those by individuals who knew much less .\n",
      "Document 6:Forecasting, In this approach , the predictions of all future values are equal to the mean of the past data . This approach can be used with any sort of data where past data is available . In time series notation :\n",
      "Document 7:Forecasting, Although the time series notation has been used here , the average approach can also be used for cross-sectional data ( when we are predicting unobserved values ; values that are not included in the data set ) . Then , the prediction for unobserved values is the average of the observed values .\n",
      "Document 8:Forecasting, A good forecasting method will yield residuals that are uncorrelated and have zero mean . If there are correlations between residual values , then there is information left in the residuals which should be used in computing forecasts . If the residuals have a mean other than zero , then the forecasts are biased .\n",
      "Document 9:Forecasting, for time series data , the training set can only include observations prior to the test set . therefore no future observations can be used in constructing the forecast . Suppose k observations are needed to produce a reliable forecast then the process works as :\n",
      "Document 10:Forecasting, Naïve forecasts are the most cost - effective forecasting model , and provide a benchmark against which more sophisticated models can be compared . This forecasting method is only suitable for time series data . Using the naïve approach , forecasts are produced that are equal to the last observed value . This method works quite well for economic and financial time series , which often have patterns that are difficult to reliably and accurately predict . If the time series is believed to have seasonality , seasonal naïve approach may be more appropriate where the forecasts are equal to the value from last season . The naïve method may also use a drift , which will take the last observation plus the average change from the first observation to the last observation\n",
      "\n",
      "Question:\n",
      "which method of forecasting uses averages to predict future weather\n",
      "\n",
      "Output:\n",
      "Processing inference\n",
      "inference completed\n",
      "answer save in ../results/clapnq/emb_phi_ft_k10_clapnq.csv\n"
     ]
    }
   ],
   "source": [
    "!python ../scripts/inference_rag.py \\\n",
    "  --lora_adapter_path \"../models/clapnq/adapters/best_phi_2_rag_k1_clapnq-5e_10bs\" \\\n",
    "  --max_new_tokens 60 \\\n",
    "  --vector_store_path \"../vector_stores/clapnq/base_vs_clapnq_150_20\" \\\n",
    "  --dataset_name \"clapnq\" \\\n",
    "  --output_csv_path \"../results/clapnq/emb_phi_ft_k10_clapnq.csv\" \\\n",
    "  --bs_emb 10 \\\n",
    "  --bs_gen 10\\\n",
    "  --top_k 10 \\\n",
    "  --use_rag"
   ]
  },
  {
   "cell_type": "code",
   "execution_count": 15,
   "id": "dc864021-7721-4a60-99ad-78cb8cc72c8f",
   "metadata": {},
   "outputs": [
    {
     "name": "stdout",
     "output_type": "stream",
     "text": [
      "Loading dataset splits for clapnq\n",
      "Train: 2996\n",
      "Val: 749\n",
      "Test: 600\n",
      "Datasets loaded and prepared.\n",
      "Results saved in: ../results/clapnq/emb_phi_ft_k10_clapnq.csv\n"
     ]
    }
   ],
   "source": [
    "from utils.evaluate_inference import evaluate_answer\n",
    "evaluate_answer('clapnq', '../results/clapnq/emb_phi_ft_k10_clapnq.csv')"
   ]
  },
  {
   "cell_type": "code",
   "execution_count": 16,
   "id": "49143a73-19b7-4f78-97fb-9ea2fad2003e",
   "metadata": {},
   "outputs": [
    {
     "name": "stdout",
     "output_type": "stream",
     "text": [
      "Using device: cuda\n",
      "Loading base model from LoRA adapter: ../models/clapnq/adapters/best_phi_2_rag_k1_clapnq-5e_10bs\n",
      "Loading checkpoint shards: 100%|██████████████████| 2/2 [00:00<00:00, 18.99it/s]\n",
      "Load model embedding : ../models/clapnq/embedding/bge-small-clapnq_10e_128bs\n",
      "Using device: cuda\n",
      "💾 Vector store loaded from../vector_stores/clapnq/ft_vs_clapnq_150_20\n",
      "Device set to use cuda:0\n",
      "Loading dataset splits for clapnq\n",
      "Train: 2996\n",
      "Val: 749\n",
      "Test: 600\n",
      "Datasets loaded and prepared.\n",
      "Dataset({\n",
      "    features: ['id', 'question', 'passages', 'output'],\n",
      "    num_rows: 600\n",
      "})\n",
      "🔍 Buscando: 100%|██████████████████████████████| 60/60 [00:04<00:00, 14.00it/s]\n",
      "Generating prompts: 100%|███████████████████| 600/600 [00:00<00:00, 8149.63it/s]\n",
      "Example prompt\n",
      "Instruct: Using the information in the context, answer the question as concisely and faithfully as possible. If the context does not contain enough information,  respond with unanswerable.\n",
      "Context:\n",
      "\n",
      "Document 1:Forecasting, Forecasting has applications in a wide range of fields where estimates of future conditions are useful . Not everything can be forecasted reliably , if the factors that relate to what is being forecast are known and well understood and there is a significant amount of data that can be used very reliable forecasts can often be obtained . If this is not the case or if the actual outcome is effected by the forecasts , the reliability of the forecasts can be significantly lower .\n",
      "Document 2:Forecasting, As proposed by Edward Lorenz in 1963 , long range weather forecasts , those made at a range of two weeks or more , are impossible to definitively predict the state of the atmosphere , owing to the chaotic nature of the fluid dynamics equations involved . Extremely small errors in the initial input , such as temperatures and winds , within numerical models double every five days .\n",
      "Document 3:Forecasting, A variation on the naïve method is to allow the forecasts to increase or decrease over time , where the amount of change over time ( called the drift ) is set to be the average change seen in the historical data . So the forecast for time T + h ( \\ displaystyle T + h ) is given by\n",
      "Document 4:Forecasting, Although the time series notation has been used here , the average approach can also be used for cross-sectional data ( when we are predicting unobserved values ; values that are not included in the data set ) . Then , the prediction for unobserved values is the average of the observed values .\n",
      "Document 5:Forecasting, E t = Y t − F t ( \\ displaystyle \\ E_ ( t ) = Y_ ( t ) - F_ ( t ) )\n",
      "Document 6:Forecasting, y ^ T + h T = y T + h T − 1 ∑ t = 2 T ( y t − y t − 1 ) = y T + h ( y T − y 1 T − 1 ) . ( \\ displaystyle ( \\ hat ( y ) ) _ ( T + h T ) = y_ ( T ) + ( \\ frac ( h ) ( T - 1 ) ) \\ sum _ ( t = 2 ) ^ ( T ) ( y_ ( t ) - y_ ( t - 1 ) ) = y_ ( T ) + h \\ left ( ( \\ frac ( y_ ( T ) - y_ ( 1 ) ) ( T - 1 ) ) \\ right )\n",
      "Document 7:Forecasting, y ^ T + h T = y  ̄ = ( y 1 + ... + y T ) / T ( \\ displaystyle ( \\ hat ( y ) ) _ ( T + h T ) = ( \\ bar ( y ) ) = ( y_ ( 1 ) + ... + y_ ( T ) ) / T )\n",
      "Document 8:Forecasting, This is equivalent to drawing a line between the first and last observation , and extrapolating it into the future .\n",
      "Document 9:Forecasting, Some forecasting methods try to identify the underlying factors that might influence the variable that is being forecast . For example , including information about climate patterns might improve the ability of a model to predict umbrella sales . Forecasting models often take account of regular seasonal variations . In addition to climate , such variations can also be due to holidays and customs : for example , one might predict that sales of college football apparel will be higher during the football season than during the off season .\n",
      "Document 10:Forecasting, It is important to evaluate forecast accuracy using genuine forecasts . That is , it is invalid to look at how well a model fits the historical data ; the accuracy of forecasts can only be determined by considering how well a model performs on new data that were not used when fitting the model . When choosing models , it is common to use a portion of the available data for fitting , and use the rest of the data for testing the model , as was done in the above examples .\n",
      "\n",
      "Question:\n",
      "which method of forecasting uses averages to predict future weather\n",
      "\n",
      "Output:\n",
      "Processing inference\n",
      "inference completed\n",
      "answer save in ../results/clapnq/full_rag_ft_k10_clapnq.csv\n"
     ]
    }
   ],
   "source": [
    "!python ../scripts/inference_rag.py \\\n",
    "  --lora_adapter_path \"../models/clapnq/adapters/best_phi_2_rag_k1_clapnq-5e_10bs\" \\\n",
    "  --max_new_tokens 60 \\\n",
    "  --vector_store_path \"../vector_stores/clapnq/ft_vs_clapnq_150_20\" \\\n",
    "  --dataset_name \"clapnq\" \\\n",
    "  --output_csv_path \"../results/clapnq/full_rag_ft_k10_clapnq.csv\" \\\n",
    "  --bs_emb 10 \\\n",
    "  --bs_gen 10\\\n",
    "  --top_k 10 \\\n",
    "  --use_rag"
   ]
  },
  {
   "cell_type": "code",
   "execution_count": 17,
   "id": "08dc2721-76e9-4ac8-9836-1b7f3c0a7a12",
   "metadata": {},
   "outputs": [
    {
     "name": "stdout",
     "output_type": "stream",
     "text": [
      "Loading dataset splits for clapnq\n",
      "Train: 2996\n",
      "Val: 749\n",
      "Test: 600\n",
      "Datasets loaded and prepared.\n",
      "Results saved in: ../results/clapnq/full_rag_ft_k10_clapnq.csv\n"
     ]
    }
   ],
   "source": [
    "from utils.evaluate_inference import evaluate_answer\n",
    "evaluate_answer('clapnq', '../results/clapnq/full_rag_ft_k10_clapnq.csv')"
   ]
  },
  {
   "cell_type": "code",
   "execution_count": null,
   "id": "91cc016e-4845-4321-a3e8-6de2e7c5e811",
   "metadata": {},
   "outputs": [],
   "source": []
  }
 ],
 "metadata": {
  "kernelspec": {
   "display_name": "Python 3.10 (env_sbbd)",
   "language": "python",
   "name": "env_sbbd"
  },
  "language_info": {
   "codemirror_mode": {
    "name": "ipython",
    "version": 3
   },
   "file_extension": ".py",
   "mimetype": "text/x-python",
   "name": "python",
   "nbconvert_exporter": "python",
   "pygments_lexer": "ipython3",
   "version": "3.10.14"
  }
 },
 "nbformat": 4,
 "nbformat_minor": 5
}
