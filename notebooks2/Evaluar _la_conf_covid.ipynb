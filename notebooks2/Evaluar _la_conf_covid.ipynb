{
 "cells": [
  {
   "cell_type": "markdown",
   "id": "96a2bd65-7bf1-4db3-93a1-d5a073b9f5f7",
   "metadata": {},
   "source": [
    "## Evaluation best covid"
   ]
  },
  {
   "cell_type": "code",
   "execution_count": 4,
   "id": "a42ac7de-2a3f-4410-b135-d288fcd63fae",
   "metadata": {},
   "outputs": [],
   "source": [
    "# 1epoca tok 3 sin stop\n",
    "from utils.evaluate_inference import evaluate_answer"
   ]
  },
  {
   "cell_type": "code",
   "execution_count": 5,
   "id": "a20ec08b-a5f0-4991-93cf-10ea79f63ffc",
   "metadata": {},
   "outputs": [
    {
     "name": "stdout",
     "output_type": "stream",
     "text": [
      "Loading dataset splits for covid\n",
      "Train: 1292\n",
      "Val: 323\n",
      "Test: 404\n",
      "Datasets loaded and prepared.\n",
      "Results saved in: ../results/covid/una_epoca_full_ft_covid.csv\n"
     ]
    }
   ],
   "source": [
    "evaluate_answer('covid', '../results/covid/una_epoca_full_ft_covid.csv')"
   ]
  },
  {
   "cell_type": "code",
   "execution_count": 6,
   "id": "1ec330da-7cc5-4d32-b6ef-2fc34667f612",
   "metadata": {},
   "outputs": [
    {
     "name": "stdout",
     "output_type": "stream",
     "text": [
      "Loading dataset splits for covid\n",
      "Train: 1292\n",
      "Val: 323\n",
      "Test: 404\n",
      "Datasets loaded and prepared.\n",
      "Results saved in: ../results/covid/sin_estop_full_ft_covid.csv\n"
     ]
    }
   ],
   "source": [
    "#5 epocas sin early stop\n",
    "evaluate_answer('covid', '../results/covid/sin_estop_full_ft_covid.csv')"
   ]
  },
  {
   "cell_type": "code",
   "execution_count": 7,
   "id": "00bce378-47db-47bb-aa94-a31c7a69aea2",
   "metadata": {},
   "outputs": [
    {
     "name": "stdout",
     "output_type": "stream",
     "text": [
      "Loading dataset splits for covid\n",
      "Train: 1292\n",
      "Val: 323\n",
      "Test: 404\n",
      "Datasets loaded and prepared.\n",
      "Results saved in: ../results/covid/con_stop_full_ft_covid.csv\n"
     ]
    }
   ],
   "source": [
    "#5 epocas con early stop\n",
    "evaluate_answer('covid', '../results/covid/con_stop_full_ft_covid.csv')"
   ]
  }
 ],
 "metadata": {
  "kernelspec": {
   "display_name": "Python 3.10 (env_sbbd)",
   "language": "python",
   "name": "env_sbbd"
  },
  "language_info": {
   "codemirror_mode": {
    "name": "ipython",
    "version": 3
   },
   "file_extension": ".py",
   "mimetype": "text/x-python",
   "name": "python",
   "nbconvert_exporter": "python",
   "pygments_lexer": "ipython3",
   "version": "3.10.14"
  }
 },
 "nbformat": 4,
 "nbformat_minor": 5
}
