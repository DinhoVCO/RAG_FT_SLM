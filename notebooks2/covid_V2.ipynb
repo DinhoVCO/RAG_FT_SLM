{
 "cells": [
  {
   "cell_type": "markdown",
   "id": "96b25fa5-17f5-4145-a1fb-e68ab083ff58",
   "metadata": {
    "jp-MarkdownHeadingCollapsed": true
   },
   "source": [
    "## Create initial vector store"
   ]
  },
  {
   "cell_type": "code",
   "execution_count": 1,
   "id": "28f944d5-f884-4259-8edf-d520fc2dbbe0",
   "metadata": {},
   "outputs": [
    {
     "name": "stdout",
     "output_type": "stream",
     "text": [
      "Load model embedding\n",
      "Using device: cuda\n",
      "Total number of documents: 2019\n",
      "Creating passages\n",
      "  0%|                                                  | 0/2019 [00:00<?, ?it/s]Token indices sequence length is longer than the specified maximum sequence length for this model (655 > 512). Running this sequence through the model will result in indexing errors\n",
      "100%|███████████████████████████████████████| 2019/2019 [02:57<00:00, 11.38it/s]\n",
      "Total number of passages: 138891\n",
      "Removing duplicate passages\n",
      "Total number of passages created: 8397\n",
      "Creating vector store\n",
      "Load model embedding : BAAI/bge-small-en-v1.5\n",
      "Using device: cuda\n",
      "Generando embeddings: 100%|███████████████████████| 5/5 [00:07<00:00,  1.46s/it]\n",
      "✅ Índice FAISS creado exitosamente.\n",
      "💾 Vector store saved in ../vector_stores/covid/base_vs_covid_150_20\n"
     ]
    }
   ],
   "source": [
    "!python ../scripts/create_vector_store.py \\\n",
    "  --dataset \"covid\" \\\n",
    "  --emb_model \"BAAI/bge-small-en-v1.5\" \\\n",
    "  --cs 150 \\\n",
    "  --co 20 \\\n",
    "  --bs_emb 2048 \\\n",
    "  --output_dir \"../vector_stores/covid/base_\""
   ]
  },
  {
   "cell_type": "code",
   "execution_count": 2,
   "id": "209bb917-fc14-48e2-8194-7ad216ca072b",
   "metadata": {},
   "outputs": [
    {
     "name": "stdout",
     "output_type": "stream",
     "text": [
      "Load model embedding : BAAI/bge-small-en-v1.5\n",
      "Using device: cuda\n",
      "💾 Vector store loaded from../vector_stores/covid/base_vs_covid_150_20\n"
     ]
    },
    {
     "name": "stderr",
     "output_type": "stream",
     "text": [
      "🔍 Buscando: 100%|████████████████████████████████████████████████████████████████████████| 1/1 [00:00<00:00,  2.99it/s]\n"
     ]
    },
    {
     "data": {
      "text/plain": [
       "[(['We carried out an association study of DC-SIGNR polymorphism in 197 infants born to untreated HIV-1-infected mothers recruited in Harare, Zimbabwe. Among them, 97 infants were HIV-1-infected and 100 infants remained uninfected. Of the 97 HIV-1-infected infants, 57 were infected IU, 11 were infected IP, and 17 were infected PP. Timing of infection was not determined for 12 HIV-1-infected infants. Baseline characteristics of mothers and infants are presented in Table 1 . Maternal age and CD4 cell count, child sex, mode of delivery, duration of membrane rupture and gestational age were similar among all groups. However, maternal viral load',\n",
       "   'The single strongest risk factor for pneumonia is HIV infection, which is especially prevalent in children in sub-Saharan Africa. HIV-infected children have 6 times increased odds of developing severe pneumonia or of death compared to HIV-uninfected children [52] . Since the effective prevention of mother-to-child transmission of HIV, there is a growing population of HIV-exposed children who are uninfected; their excess risk of pneumonia, compared to HIV unexposed children, has been described as 1.3-to 3.4-fold higher [53] [54] [55] [56] [57] .'],\n",
       "  array([0.7539171 , 0.74739456], dtype=float32))]"
      ]
     },
     "execution_count": 2,
     "metadata": {},
     "output_type": "execute_result"
    }
   ],
   "source": [
    "from vector_stores.faiss import VectorStoreFaiss\n",
    "vector_store = VectorStoreFaiss.load_local(\"../vector_stores/covid/base_vs_covid_150_20\")\n",
    "results = vector_store.buscar_por_batches(['What is the main cause of HIV-1 infection in children?'],2)\n",
    "results"
   ]
  },
  {
   "cell_type": "code",
   "execution_count": 3,
   "id": "ea2d78bb-8ccb-4b07-a2da-41dada541232",
   "metadata": {},
   "outputs": [
    {
     "data": {
      "text/plain": [
       "'BAAI/bge-small-en-v1.5'"
      ]
     },
     "execution_count": 3,
     "metadata": {},
     "output_type": "execute_result"
    }
   ],
   "source": [
    "vector_store.embedding_model_name_or_path"
   ]
  },
  {
   "cell_type": "markdown",
   "id": "e5af04f5-8a4a-428f-8966-531ce073b575",
   "metadata": {
    "jp-MarkdownHeadingCollapsed": true
   },
   "source": [
    "## Train embedding"
   ]
  },
  {
   "cell_type": "code",
   "execution_count": 4,
   "id": "3cc54f7b-3dab-43da-a564-e0d3f5304c20",
   "metadata": {},
   "outputs": [
    {
     "name": "stdout",
     "output_type": "stream",
     "text": [
      "Loading dataset splits for covid\n",
      "Train: 1292\n",
      "Val: 323\n",
      "Test: 404\n",
      "Datasets loaded and prepared.\n",
      "Datasets loaded and prepared.\n"
     ]
    },
    {
     "data": {
      "text/plain": [
       "{'q_id': 1891,\n",
       " 'question': 'As of 26 January 2020, what countries had sporadic cases?',\n",
       " 'relevant_docs': '0. As of 26 January 2020, the still ongoing outbreak had resulted in 2066 (618 of them are in Wuhan) confirmed cases and 56 (45 of them were in Wuhan) deaths in mainland China [4] , and sporadic cases exported from Wuhan were reported in Thailand, Japan, Republic of Korea, Hong Kong, Taiwan, Australia, and the United States, please see the World Health Organization (WHO) news release via https://www.who.int/csr/don/en/ from 14 to 21 Jan'}"
      ]
     },
     "execution_count": 4,
     "metadata": {},
     "output_type": "execute_result"
    }
   ],
   "source": [
    "import sys\n",
    "from utils.data_for_train_emb import load_and_prepare_datasets\n",
    "train_dataset, val_dataset, test_dataset = load_and_prepare_datasets('covid')\n",
    "train_dataset[0]"
   ]
  },
  {
   "cell_type": "code",
   "execution_count": 5,
   "id": "46c6e0fd-4085-46f6-b592-acbe3a2f9f51",
   "metadata": {
    "scrolled": true
   },
   "outputs": [
    {
     "name": "stderr",
     "output_type": "stream",
     "text": [
      "huggingface/tokenizers: The current process just got forked, after parallelism has already been used. Disabling parallelism to avoid deadlocks...\n",
      "To disable this warning, you can either:\n",
      "\t- Avoid using `tokenizers` before the fork if possible\n",
      "\t- Explicitly set the environment variable TOKENIZERS_PARALLELISM=(true | false)\n"
     ]
    },
    {
     "name": "stdout",
     "output_type": "stream",
     "text": [
      "\u001b[34m\u001b[1mwandb\u001b[0m: Currently logged in as: \u001b[33mdinho15971\u001b[0m (\u001b[33mdinho15971-unicamp\u001b[0m) to \u001b[32mhttps://api.wandb.ai\u001b[0m. Use \u001b[1m`wandb login --relogin`\u001b[0m to force relogin\n",
      "Starting main process...\n",
      "Loading dataset splits for covid\n",
      "Train: 1292\n",
      "Val: 323\n",
      "Test: 404\n",
      "Datasets loaded and prepared.\n",
      "Datasets loaded and prepared.\n",
      "Creating evaluator...\n",
      "Evaluator created.\n",
      "\u001b[34m\u001b[1mwandb\u001b[0m: Tracking run with wandb version 0.19.10\n",
      "\u001b[34m\u001b[1mwandb\u001b[0m: Run data is saved locally in \u001b[35m\u001b[1m/local1/ronaldinho/projects/test_sbbd/notebooks2/wandb/run-20250501_212312-79va16v5\u001b[0m\n",
      "\u001b[34m\u001b[1mwandb\u001b[0m: Run \u001b[1m`wandb offline`\u001b[0m to turn off syncing.\n",
      "\u001b[34m\u001b[1mwandb\u001b[0m: Syncing run \u001b[33mbge-small-covid_10e_128bs\u001b[0m\n",
      "\u001b[34m\u001b[1mwandb\u001b[0m: ⭐️ View project at \u001b[34m\u001b[4mhttps://wandb.ai/dinho15971-unicamp/SBBD_embeddings\u001b[0m\n",
      "\u001b[34m\u001b[1mwandb\u001b[0m: 🚀 View run at \u001b[34m\u001b[4mhttps://wandb.ai/dinho15971-unicamp/SBBD_embeddings/runs/79va16v5\u001b[0m\n",
      "Loading model: BAAI/bge-small-en-v1.5\n",
      "Model and loss function initialized.\n",
      "Configuring training arguments...\n",
      "Training arguments configured.\n",
      "Starting training process...\n",
      "{'loss': 1.6314, 'grad_norm': 3.8557729721069336, 'learning_rate': 4.988679806432712e-05, 'epoch': 1.3636363636363638}\n",
      "{'eval_loss': 0.7266051769256592, 'eval_telecom-ir-eval_cosine_accuracy@1': 0.739938080495356, 'eval_telecom-ir-eval_cosine_accuracy@3': 0.8730650154798761, 'eval_telecom-ir-eval_cosine_accuracy@5': 0.9164086687306502, 'eval_telecom-ir-eval_cosine_accuracy@10': 0.9535603715170279, 'eval_telecom-ir-eval_cosine_precision@1': 0.739938080495356, 'eval_telecom-ir-eval_cosine_recall@1': 0.739938080495356, 'eval_telecom-ir-eval_cosine_ndcg@10': 0.8511960723698525, 'eval_telecom-ir-eval_cosine_mrr@3': 0.8018575851393189, 'eval_telecom-ir-eval_cosine_mrr@5': 0.8123839009287929, 'eval_telecom-ir-eval_cosine_mrr@10': 0.8178387144331416, 'eval_telecom-ir-eval_cosine_map@100': 0.8190042723287869, 'eval_runtime': 0.5909, 'eval_samples_per_second': 546.607, 'eval_steps_per_second': 5.077, 'epoch': 1.3636363636363638}\n",
      "{'loss': 0.6731, 'grad_norm': 3.0493714809417725, 'learning_rate': 4.6031338320779534e-05, 'epoch': 2.7272727272727275}\n",
      "{'eval_loss': 0.5168565511703491, 'eval_telecom-ir-eval_cosine_accuracy@1': 0.7925696594427245, 'eval_telecom-ir-eval_cosine_accuracy@3': 0.9071207430340558, 'eval_telecom-ir-eval_cosine_accuracy@5': 0.934984520123839, 'eval_telecom-ir-eval_cosine_accuracy@10': 0.9659442724458205, 'eval_telecom-ir-eval_cosine_precision@1': 0.7925696594427245, 'eval_telecom-ir-eval_cosine_recall@1': 0.7925696594427245, 'eval_telecom-ir-eval_cosine_ndcg@10': 0.8837240966203733, 'eval_telecom-ir-eval_cosine_mrr@3': 0.8462332301341591, 'eval_telecom-ir-eval_cosine_mrr@5': 0.8530443756449951, 'eval_telecom-ir-eval_cosine_mrr@10': 0.8570150867364492, 'eval_telecom-ir-eval_cosine_map@100': 0.8584156288934561, 'eval_runtime': 0.5939, 'eval_samples_per_second': 543.889, 'eval_steps_per_second': 5.052, 'epoch': 2.7272727272727275}\n",
      "{'loss': 0.3454, 'grad_norm': 2.652599811553955, 'learning_rate': 3.7500000000000003e-05, 'epoch': 4.090909090909091}\n",
      "{'eval_loss': 0.4398583471775055, 'eval_telecom-ir-eval_cosine_accuracy@1': 0.7956656346749226, 'eval_telecom-ir-eval_cosine_accuracy@3': 0.9164086687306502, 'eval_telecom-ir-eval_cosine_accuracy@5': 0.9473684210526315, 'eval_telecom-ir-eval_cosine_accuracy@10': 0.9721362229102167, 'eval_telecom-ir-eval_cosine_precision@1': 0.7956656346749226, 'eval_telecom-ir-eval_cosine_recall@1': 0.7956656346749226, 'eval_telecom-ir-eval_cosine_ndcg@10': 0.8886658613171351, 'eval_telecom-ir-eval_cosine_mrr@3': 0.8513931888544893, 'eval_telecom-ir-eval_cosine_mrr@5': 0.858359133126935, 'eval_telecom-ir-eval_cosine_mrr@10': 0.8614723082215343, 'eval_telecom-ir-eval_cosine_map@100': 0.8627189157501888, 'eval_runtime': 0.5877, 'eval_samples_per_second': 549.585, 'eval_steps_per_second': 5.105, 'epoch': 4.090909090909091}\n",
      "{'loss': 0.2325, 'grad_norm': 1.9334290027618408, 'learning_rate': 2.6189547895593562e-05, 'epoch': 5.454545454545454}\n",
      "{'eval_loss': 0.4409172236919403, 'eval_telecom-ir-eval_cosine_accuracy@1': 0.7987616099071208, 'eval_telecom-ir-eval_cosine_accuracy@3': 0.9164086687306502, 'eval_telecom-ir-eval_cosine_accuracy@5': 0.9442724458204335, 'eval_telecom-ir-eval_cosine_accuracy@10': 0.9659442724458205, 'eval_telecom-ir-eval_cosine_precision@1': 0.7987616099071208, 'eval_telecom-ir-eval_cosine_recall@1': 0.7987616099071208, 'eval_telecom-ir-eval_cosine_ndcg@10': 0.8892766430867954, 'eval_telecom-ir-eval_cosine_mrr@3': 0.8539731682146544, 'eval_telecom-ir-eval_cosine_mrr@5': 0.8606295149638803, 'eval_telecom-ir-eval_cosine_mrr@10': 0.8639097744360902, 'eval_telecom-ir-eval_cosine_map@100': 0.865580485950781, 'eval_runtime': 0.6066, 'eval_samples_per_second': 532.451, 'eval_steps_per_second': 4.945, 'epoch': 5.454545454545454}\n",
      "{'loss': 0.1762, 'grad_norm': 1.82016122341156, 'learning_rate': 1.4614624674952842e-05, 'epoch': 6.818181818181818}\n",
      "{'eval_loss': 0.4344771206378937, 'eval_telecom-ir-eval_cosine_accuracy@1': 0.7894736842105263, 'eval_telecom-ir-eval_cosine_accuracy@3': 0.9164086687306502, 'eval_telecom-ir-eval_cosine_accuracy@5': 0.9473684210526315, 'eval_telecom-ir-eval_cosine_accuracy@10': 0.9690402476780186, 'eval_telecom-ir-eval_cosine_precision@1': 0.7894736842105263, 'eval_telecom-ir-eval_cosine_recall@1': 0.7894736842105263, 'eval_telecom-ir-eval_cosine_ndcg@10': 0.8868124216576491, 'eval_telecom-ir-eval_cosine_mrr@3': 0.8488132094943242, 'eval_telecom-ir-eval_cosine_mrr@5': 0.8563983488132095, 'eval_telecom-ir-eval_cosine_mrr@10': 0.8595803233574133, 'eval_telecom-ir-eval_cosine_map@100': 0.8610131730999645, 'eval_runtime': 0.5905, 'eval_samples_per_second': 546.996, 'eval_steps_per_second': 5.08, 'epoch': 6.818181818181818}\n",
      "{'loss': 0.142, 'grad_norm': 2.3159828186035156, 'learning_rate': 5.348672631430318e-06, 'epoch': 8.181818181818182}\n",
      "{'eval_loss': 0.42907625436782837, 'eval_telecom-ir-eval_cosine_accuracy@1': 0.7956656346749226, 'eval_telecom-ir-eval_cosine_accuracy@3': 0.9195046439628483, 'eval_telecom-ir-eval_cosine_accuracy@5': 0.9504643962848297, 'eval_telecom-ir-eval_cosine_accuracy@10': 0.9721362229102167, 'eval_telecom-ir-eval_cosine_precision@1': 0.7956656346749226, 'eval_telecom-ir-eval_cosine_recall@1': 0.7956656346749226, 'eval_telecom-ir-eval_cosine_ndcg@10': 0.8904933406000962, 'eval_telecom-ir-eval_cosine_mrr@3': 0.8534571723426213, 'eval_telecom-ir-eval_cosine_mrr@5': 0.860732714138287, 'eval_telecom-ir-eval_cosine_mrr@10': 0.8636259767064721, 'eval_telecom-ir-eval_cosine_map@100': 0.8647534457902016, 'eval_runtime': 0.5937, 'eval_samples_per_second': 544.005, 'eval_steps_per_second': 5.053, 'epoch': 8.181818181818182}\n",
      "{'loss': 0.1595, 'grad_norm': 2.1368274688720703, 'learning_rate': 4.517825684323324e-07, 'epoch': 9.545454545454545}\n",
      "{'eval_loss': 0.4296259880065918, 'eval_telecom-ir-eval_cosine_accuracy@1': 0.7956656346749226, 'eval_telecom-ir-eval_cosine_accuracy@3': 0.9164086687306502, 'eval_telecom-ir-eval_cosine_accuracy@5': 0.9504643962848297, 'eval_telecom-ir-eval_cosine_accuracy@10': 0.9721362229102167, 'eval_telecom-ir-eval_cosine_precision@1': 0.7956656346749226, 'eval_telecom-ir-eval_cosine_recall@1': 0.7956656346749226, 'eval_telecom-ir-eval_cosine_ndcg@10': 0.8901768127105085, 'eval_telecom-ir-eval_cosine_mrr@3': 0.8524251805985553, 'eval_telecom-ir-eval_cosine_mrr@5': 0.8603199174406605, 'eval_telecom-ir-eval_cosine_mrr@10': 0.8632524939800482, 'eval_telecom-ir-eval_cosine_map@100': 0.8643698454976594, 'eval_runtime': 0.5934, 'eval_samples_per_second': 544.331, 'eval_steps_per_second': 5.056, 'epoch': 9.545454545454545}\n",
      "{'train_runtime': 28.6404, 'train_samples_per_second': 451.11, 'train_steps_per_second': 3.841, 'train_loss': 0.46439685550603, 'epoch': 10.0}\n",
      "Training completed.\n",
      "Saving the trained model...\n",
      "Model saved successfully.\n",
      "Process completed successfully.\n",
      "\u001b[1;34mwandb\u001b[0m: \n",
      "\u001b[1;34mwandb\u001b[0m: 🚀 View run \u001b[33mbge-small-covid_10e_128bs\u001b[0m at: \u001b[34mhttps://wandb.ai/dinho15971-unicamp/SBBD_embeddings/runs/79va16v5\u001b[0m\n",
      "\u001b[1;34mwandb\u001b[0m: Find logs at: \u001b[1;35mwandb/run-20250501_212312-79va16v5/logs\u001b[0m\n"
     ]
    }
   ],
   "source": [
    "!python  ../scripts/train_embedding.py \\\n",
    "  --name_dataset \"covid\" \\\n",
    "  --model_name \"BAAI/bge-small-en-v1.5\" \\\n",
    "  --new_model_name \"bge-small-covid\" \\\n",
    "  --epochs 10 \\\n",
    "  --batch_size 128 \\\n",
    "  --output_dir \"../models/covid/embedding/\""
   ]
  },
  {
   "cell_type": "markdown",
   "id": "df7f932a-3261-49ad-a1e2-e2e80ef9168d",
   "metadata": {
    "jp-MarkdownHeadingCollapsed": true
   },
   "source": [
    "## Evaluate embedding"
   ]
  },
  {
   "cell_type": "code",
   "execution_count": 6,
   "id": "43de0efa-29fd-4d06-9571-b45672a92481",
   "metadata": {},
   "outputs": [
    {
     "name": "stderr",
     "output_type": "stream",
     "text": [
      "huggingface/tokenizers: The current process just got forked, after parallelism has already been used. Disabling parallelism to avoid deadlocks...\n",
      "To disable this warning, you can either:\n",
      "\t- Avoid using `tokenizers` before the fork if possible\n",
      "\t- Explicitly set the environment variable TOKENIZERS_PARALLELISM=(true | false)\n"
     ]
    },
    {
     "name": "stdout",
     "output_type": "stream",
     "text": [
      "Cargando modelos...\n",
      "Models loaded\n",
      "Loading datasets...\n",
      "Loading dataset splits for covid\n",
      "Train: 1292\n",
      "Val: 323\n",
      "Test: 404\n",
      "Datasets loaded and prepared.\n",
      "Datasets loaded and prepared.\n",
      "Loaded dataset\n",
      "Creating evaluator...\n",
      "Evaluator created.\n",
      "Evaluating models\n",
      "Save results...\n"
     ]
    }
   ],
   "source": [
    "!python  ../scripts/evaluate_embedding.py \\\n",
    "  --name_dataset \"covid\" \\\n",
    "  --output_dir \"../results/covid/\" \\\n",
    "  --models_dir \"../models/covid/embedding/\""
   ]
  },
  {
   "cell_type": "markdown",
   "id": "a1bb0fb4-e469-4c9b-b642-190dd229f0b3",
   "metadata": {
    "jp-MarkdownHeadingCollapsed": true
   },
   "source": [
    "## create new vector store"
   ]
  },
  {
   "cell_type": "code",
   "execution_count": 1,
   "id": "4ef8dd0d-ffbc-4cad-bb6b-b581ef0a8701",
   "metadata": {},
   "outputs": [
    {
     "name": "stdout",
     "output_type": "stream",
     "text": [
      "Load model embedding\n",
      "Using device: cuda\n",
      "Total number of documents: 2019\n",
      "Creating passages\n",
      "  0%|                                                  | 0/2019 [00:00<?, ?it/s]Token indices sequence length is longer than the specified maximum sequence length for this model (655 > 512). Running this sequence through the model will result in indexing errors\n",
      "100%|███████████████████████████████████████| 2019/2019 [02:57<00:00, 11.39it/s]\n",
      "Total number of passages: 138891\n",
      "Removing duplicate passages\n",
      "Total number of passages created: 8397\n",
      "Creating vector store\n",
      "Load model embedding : ../models/covid/embedding/bge-small-covid_10e_128bs\n",
      "Using device: cuda\n",
      "Generando embeddings: 100%|███████████████████████| 5/5 [00:07<00:00,  1.48s/it]\n",
      "✅ Índice FAISS creado exitosamente.\n",
      "💾 Vector store saved in ../vector_stores/covid/ft_vs_covid_150_20\n"
     ]
    }
   ],
   "source": [
    "!python ../scripts/create_vector_store.py \\\n",
    "  --dataset \"covid\" \\\n",
    "  --emb_model \"../models/covid/embedding/bge-small-covid_10e_128bs\" \\\n",
    "  --cs 150 \\\n",
    "  --co 20 \\\n",
    "  --bs_emb 2048 \\\n",
    "  --output_dir \"../vector_stores/covid/ft_\""
   ]
  },
  {
   "cell_type": "code",
   "execution_count": 2,
   "id": "fabfde37-0c36-40af-9e5b-5c32e3dc7460",
   "metadata": {},
   "outputs": [
    {
     "name": "stdout",
     "output_type": "stream",
     "text": [
      "Load model embedding : ../models/covid/embedding/bge-small-covid_10e_128bs\n",
      "Using device: cuda\n",
      "💾 Vector store loaded from../vector_stores/covid/ft_vs_covid_150_20\n"
     ]
    },
    {
     "name": "stderr",
     "output_type": "stream",
     "text": [
      "🔍 Buscando: 100%|████████████████████████████████████████████████████████████████████████| 1/1 [00:00<00:00,  2.96it/s]\n"
     ]
    },
    {
     "data": {
      "text/plain": [
       "[(['The single strongest risk factor for pneumonia is HIV infection, which is especially prevalent in children in sub-Saharan Africa. HIV-infected children have 6 times increased odds of developing severe pneumonia or of death compared to HIV-uninfected children [52] . Since the effective prevention of mother-to-child transmission of HIV, there is a growing population of HIV-exposed children who are uninfected; their excess risk of pneumonia, compared to HIV unexposed children, has been described as 1.3-to 3.4-fold higher [53] [54] [55] [56] [57] .',\n",
       "   'We carried out an association study of DC-SIGNR polymorphism in 197 infants born to untreated HIV-1-infected mothers recruited in Harare, Zimbabwe. Among them, 97 infants were HIV-1-infected and 100 infants remained uninfected. Of the 97 HIV-1-infected infants, 57 were infected IU, 11 were infected IP, and 17 were infected PP. Timing of infection was not determined for 12 HIV-1-infected infants. Baseline characteristics of mothers and infants are presented in Table 1 . Maternal age and CD4 cell count, child sex, mode of delivery, duration of membrane rupture and gestational age were similar among all groups. However, maternal viral load'],\n",
       "  array([0.5734429, 0.5191362], dtype=float32))]"
      ]
     },
     "execution_count": 2,
     "metadata": {},
     "output_type": "execute_result"
    }
   ],
   "source": [
    "import sys\n",
    "import os\n",
    "from vector_stores.faiss import VectorStoreFaiss\n",
    "vector_store = VectorStoreFaiss.load_local(\"../vector_stores/covid/ft_vs_covid_150_20\")\n",
    "results = vector_store.buscar_por_batches(['What is the main cause of HIV-1 infection in children?'],2)\n",
    "results"
   ]
  },
  {
   "cell_type": "code",
   "execution_count": 3,
   "id": "b5ef6c25-af06-4f09-b066-ee7b5d1e06cc",
   "metadata": {},
   "outputs": [
    {
     "data": {
      "text/plain": [
       "'../models/covid/embedding/bge-small-covid_10e_128bs'"
      ]
     },
     "execution_count": 3,
     "metadata": {},
     "output_type": "execute_result"
    }
   ],
   "source": [
    "vector_store.embedding_model_name_or_path"
   ]
  },
  {
   "cell_type": "markdown",
   "id": "4bf24f54-ff30-4b85-89e2-cd91d2d6e5aa",
   "metadata": {},
   "source": [
    "## Phi fine tuning"
   ]
  },
  {
   "cell_type": "code",
   "execution_count": 4,
   "id": "567630a9-8623-4a9f-a132-3633ac809246",
   "metadata": {},
   "outputs": [
    {
     "name": "stdout",
     "output_type": "stream",
     "text": [
      "Load model embedding : ../models/covid/embedding/bge-small-covid_10e_128bs\n",
      "Using device: cuda\n",
      "💾 Vector store loaded from../vector_stores/covid/ft_vs_covid_150_20\n",
      "Creating dataset for covid\n",
      "Loading dataset splits for covid\n",
      "Train: 1292\n",
      "Val: 323\n",
      "Test: 404\n",
      "Datasets loaded and prepared.\n"
     ]
    },
    {
     "name": "stderr",
     "output_type": "stream",
     "text": [
      "🔍 Buscando: 100%|████████████████████████████████████████████████████████████████████| 162/162 [00:01<00:00, 98.78it/s]\n"
     ]
    },
    {
     "data": {
      "application/vnd.jupyter.widget-view+json": {
       "model_id": "95f91ac26dc6478cb62c765ce754fe67",
       "version_major": 2,
       "version_minor": 0
      },
      "text/plain": [
       "Map:   0%|          | 0/1292 [00:00<?, ? examples/s]"
      ]
     },
     "metadata": {},
     "output_type": "display_data"
    },
    {
     "name": "stderr",
     "output_type": "stream",
     "text": [
      "🔍 Buscando: 100%|██████████████████████████████████████████████████████████████████████| 41/41 [00:00<00:00, 97.71it/s]\n"
     ]
    }
   ],
   "source": [
    "import sys\n",
    "from utils.data_for_train_phi import get_dataset_for_train_phi\n",
    "from vector_stores.faiss import VectorStoreFaiss\n",
    "vector_store = VectorStoreFaiss.load_local(\"../vector_stores/covid/ft_vs_covid_150_20\")\n",
    "train_ds, test_ds = get_dataset_for_train_phi('covid', True, vector_store,4, 8)"
   ]
  },
  {
   "cell_type": "code",
   "execution_count": 5,
   "id": "1746e970-b7c4-4217-b91f-5c036ef911ff",
   "metadata": {},
   "outputs": [
    {
     "name": "stdout",
     "output_type": "stream",
     "text": [
      "Instruct:  Using the information in the context, answer the question as concisely and faithfully as possible.If the context does not provide enough information to answer confidently, answer based on the most likely interpretation from the given text.\n",
      "\n",
      "Context:\n",
      "\n",
      "Document 0:. As of 26 January 2020, the still ongoing outbreak had resulted in 2066 (618 of them are in Wuhan) confirmed cases and 56 (45 of them were in Wuhan) deaths in mainland China [4] , and sporadic cases exported from Wuhan were reported in Thailand, Japan, Republic of Korea, Hong Kong, Taiwan, Australia, and the United States, please see the World Health Organization (WHO) news release via https://www.who.int/csr/don/en/ from 14 to 21 January 2020\n",
      "Document 1:The first three cases detected were reported in France on 24 January 2020 and had onset of symptoms on 17, 19 and 23 January respectively [10] . The first death was reported on 15 February in France. As at 21 February, nine countries had reported cases ( Figure) : Belgium (1), Finland (1), France (12), Germany (16), Italy (3), Russia (2), Spain (2), Sweden (1) and the UK (9 -not included further).\n",
      "Document 2:. Nonetheless, the virus spread from Wuhan to other cities in China and outside the country. By February 4, 2020, a total of 23 locations outside mainland China reported cases, 22 of which reported imported cases; Spain reported a case caused by secondary transmission (3).\n",
      "Document 3:0. As of 26 January 2020, the still ongoing outbreak had resulted in 2066 (618 of them are in Wuhan) confirmed cases and 56 (45 of them were in Wuhan) deaths in mainland China [4] , and sporadic cases exported from Wuhan were reported in Thailand, Japan, Republic of Korea, Hong Kong, Taiwan, Australia, and the United States, please see the World Health Organization (WHO) news release via https://www.who.int/csr/don/en/ from 14 to 21 Jan\n",
      "Document 4:As at 09:00 on 21 February, few COVID-19 cases had been detected in Europe compared with Asia. However the situation is rapidly developing, with a large outbreak recently identified in northern Italy, with transmission in several municipalities and at least two deaths [18] . As at 5 March 2020, there are 4,250 cases including 113 deaths reported among 38 countries in the WHO European region [19] .\n",
      "\n",
      "Question:\n",
      "As of 26 January 2020, what countries had sporadic cases?\n",
      "\n",
      "Output:\n",
      "were reported in Thailand, Japan, Republic of Korea, Hong Kong, Taiwan, Australia, and\n",
      "<|endoftext|>\n"
     ]
    }
   ],
   "source": [
    "print(train_ds[0]['text'])"
   ]
  },
  {
   "cell_type": "code",
   "execution_count": 1,
   "id": "a71330a5-b3ac-40b5-bfae-5d8222f77b78",
   "metadata": {
    "scrolled": true
   },
   "outputs": [
    {
     "name": "stdout",
     "output_type": "stream",
     "text": [
      "\u001b[34m\u001b[1mwandb\u001b[0m: Currently logged in as: \u001b[33mdinho15971\u001b[0m (\u001b[33mdinho15971-unicamp\u001b[0m) to \u001b[32mhttps://api.wandb.ai\u001b[0m. Use \u001b[1m`wandb login --relogin`\u001b[0m to force relogin\n",
      "\u001b[34m\u001b[1mwandb\u001b[0m: Tracking run with wandb version 0.19.10\n",
      "\u001b[34m\u001b[1mwandb\u001b[0m: Run data is saved locally in \u001b[35m\u001b[1m/local1/ronaldinho/projects/test_sbbd/notebooks2/wandb/run-20250502_151504-ro6zxqdv\u001b[0m\n",
      "\u001b[34m\u001b[1mwandb\u001b[0m: Run \u001b[1m`wandb offline`\u001b[0m to turn off syncing.\n",
      "\u001b[34m\u001b[1mwandb\u001b[0m: Syncing run \u001b[33mphi_2_rag_covid_k3_5e_10bs\u001b[0m\n",
      "\u001b[34m\u001b[1mwandb\u001b[0m: ⭐️ View project at \u001b[34m\u001b[4mhttps://wandb.ai/dinho15971-unicamp/SBBD_phi-2-adapters\u001b[0m\n",
      "\u001b[34m\u001b[1mwandb\u001b[0m: 🚀 View run at \u001b[34m\u001b[4mhttps://wandb.ai/dinho15971-unicamp/SBBD_phi-2-adapters/runs/ro6zxqdv\u001b[0m\n",
      "Usando dispositivo: cuda\n",
      "Load model embedding : ../models/covid/embedding/bge-small-covid_10e_128bs\n",
      "Using device: cuda\n",
      "💾 Vector store loaded from../vector_stores/covid/ft_vs_covid_150_20\n",
      "Using k = 3 passages\n",
      "Creating dataset for covid\n",
      "Loading dataset splits for covid\n",
      "Train: 1292\n",
      "Val: 323\n",
      "Test: 404\n",
      "Datasets loaded and prepared.\n",
      "🔍 Buscando: 100%|████████████████████████████| 162/162 [00:01<00:00, 81.72it/s]\n",
      "🔍 Buscando: 100%|██████████████████████████████| 41/41 [00:00<00:00, 95.64it/s]\n",
      "Input Example:\n",
      "Instruct:  Using the information in the context, answer the question as concisely and faithfully as possible.If the context does not provide enough information to answer confidently, answer based on the most likely interpretation from the given text.\n",
      "\n",
      "Context:\n",
      "\n",
      "Document 0:0. As of 26 January 2020, the still ongoing outbreak had resulted in 2066 (618 of them are in Wuhan) confirmed cases and 56 (45 of them were in Wuhan) deaths in mainland China [4] , and sporadic cases exported from Wuhan were reported in Thailand, Japan, Republic of Korea, Hong Kong, Taiwan, Australia, and the United States, please see the World Health Organization (WHO) news release via https://www.who.int/csr/don/en/ from 14 to 21 Jan\n",
      "Document 1:. As of 26 January 2020, the still ongoing outbreak had resulted in 2066 (618 of them are in Wuhan) confirmed cases and 56 (45 of them were in Wuhan) deaths in mainland China [4] , and sporadic cases exported from Wuhan were reported in Thailand, Japan, Republic of Korea, Hong Kong, Taiwan, Australia, and the United States, please see the World Health Organization (WHO) news release via https://www.who.int/csr/don/en/ from 14 to 21 January 2020\n",
      "Document 2:The first three cases detected were reported in France on 24 January 2020 and had onset of symptoms on 17, 19 and 23 January respectively [10] . The first death was reported on 15 February in France. As at 21 February, nine countries had reported cases ( Figure) : Belgium (1), Finland (1), France (12), Germany (16), Italy (3), Russia (2), Spain (2), Sweden (1) and the UK (9 -not included further).\n",
      "Document 3:. Nonetheless, the virus spread from Wuhan to other cities in China and outside the country. By February 4, 2020, a total of 23 locations outside mainland China reported cases, 22 of which reported imported cases; Spain reported a case caused by secondary transmission (3).\n",
      "\n",
      "Question:\n",
      "As of 26 January 2020, what countries had sporadic cases?\n",
      "\n",
      "Output:\n",
      "were reported in Thailand, Japan, Republic of Korea, Hong Kong, Taiwan, Australia, and\n",
      "<|endoftext|>\n",
      "Loading model\n",
      "Loading checkpoint shards: 100%|██████████████████| 2/2 [00:01<00:00,  1.67it/s]\n",
      "Training\n",
      "No label_names provided for model class `PeftModelForCausalLM`. Since `PeftModel` hides base models input arguments, if label_names is not given, label_names can't be set automatically within `Trainer`. Note that empty label_names list will be used instead.\n",
      "🟢 No checkpoints found. Starting training from scratch.\n",
      "\u001b[34m\u001b[1mwandb\u001b[0m: \u001b[33mWARNING\u001b[0m The `run_name` is currently set to the same value as `TrainingArguments.output_dir`. If this was not intended, please specify a different run name by setting the `TrainingArguments.run_name` parameter.\n",
      "{'loss': 1.9707, 'grad_norm': 0.1468178927898407, 'learning_rate': 0.00019267614527653488, 'epoch': 0.7692307692307693}\n",
      "{'eval_loss': 1.8096516132354736, 'eval_runtime': 29.2168, 'eval_samples_per_second': 11.055, 'eval_steps_per_second': 1.129, 'eval_num_tokens': 553039.0, 'eval_mean_token_accuracy': 0.6214157505468889, 'epoch': 0.7692307692307693}\n",
      "{'loss': 1.784, 'grad_norm': 0.17014425992965698, 'learning_rate': 0.00016280068724776797, 'epoch': 1.523076923076923}\n",
      "{'eval_loss': 1.754939079284668, 'eval_runtime': 29.312, 'eval_samples_per_second': 11.019, 'eval_steps_per_second': 1.126, 'eval_num_tokens': 1082518.0, 'eval_mean_token_accuracy': 0.6291666988170508, 'epoch': 1.523076923076923}\n",
      "{'loss': 1.727, 'grad_norm': 0.18193194270133972, 'learning_rate': 0.00011714299149674537, 'epoch': 2.276923076923077}\n",
      "{'eval_loss': 1.717865228652954, 'eval_runtime': 29.1187, 'eval_samples_per_second': 11.093, 'eval_steps_per_second': 1.133, 'eval_num_tokens': 1612505.0, 'eval_mean_token_accuracy': 0.6354417584159158, 'epoch': 2.276923076923077}\n",
      "{'loss': 1.6788, 'grad_norm': 0.23456639051437378, 'learning_rate': 6.717714596378137e-05, 'epoch': 3.0307692307692307}\n",
      "{'eval_loss': 1.695300817489624, 'eval_runtime': 29.4053, 'eval_samples_per_second': 10.984, 'eval_steps_per_second': 1.122, 'eval_num_tokens': 2145327.0, 'eval_mean_token_accuracy': 0.6386161265951215, 'epoch': 3.0307692307692307}\n",
      "{'loss': 1.6355, 'grad_norm': 0.25030219554901123, 'learning_rate': 2.5459905785704042e-05, 'epoch': 3.8}\n",
      "{'eval_loss': 1.6831607818603516, 'eval_runtime': 29.3687, 'eval_samples_per_second': 10.998, 'eval_steps_per_second': 1.124, 'eval_num_tokens': 2694577.0, 'eval_mean_token_accuracy': 0.6403693809653773, 'epoch': 3.8}\n",
      "{'loss': 1.6215, 'grad_norm': 0.2508477568626404, 'learning_rate': 2.4750957494826033e-06, 'epoch': 4.553846153846154}\n",
      "{'eval_loss': 1.6784781217575073, 'eval_runtime': 29.3501, 'eval_samples_per_second': 11.005, 'eval_steps_per_second': 1.124, 'eval_num_tokens': 3225372.0, 'eval_mean_token_accuracy': 0.6416583855946859, 'epoch': 4.553846153846154}\n",
      "{'train_runtime': 2094.1751, 'train_samples_per_second': 3.085, 'train_steps_per_second': 0.076, 'train_loss': 1.7298145413398742, 'num_tokens': 3446295.0, 'mean_token_accuracy': 0.632539070199562, 'epoch': 4.861538461538462}\n",
      "trainable parameters: 26214400\n",
      "\u001b[1;34mwandb\u001b[0m: \n",
      "\u001b[1;34mwandb\u001b[0m: 🚀 View run \u001b[33mphi_2_rag_covid_k3_5e_10bs\u001b[0m at: \u001b[34mhttps://wandb.ai/dinho15971-unicamp/SBBD_phi-2-adapters/runs/ro6zxqdv\u001b[0m\n",
      "\u001b[1;34mwandb\u001b[0m: Find logs at: \u001b[1;35mwandb/run-20250502_151504-ro6zxqdv/logs\u001b[0m\n"
     ]
    }
   ],
   "source": [
    "!python  ../scripts/ft_phi.py \\\n",
    "  --new_model_name \"phi_2_rag_covid_k3_5e_10bs\" \\\n",
    "  --num_epochs 5\\\n",
    "  --batch_size 10 \\\n",
    "  --dataset_name \"covid\" \\\n",
    "  --include_docs \\\n",
    "  --top_k 3 \\\n",
    "  --save_path \"../models/covid/adapters/\" \\\n",
    "  --vector_store_path \"../vector_stores/covid/ft_vs_covid_150_20\""
   ]
  },
  {
   "cell_type": "markdown",
   "id": "1f9fd1e3-7afd-4412-86f2-ae122e18991e",
   "metadata": {
    "jp-MarkdownHeadingCollapsed": true
   },
   "source": [
    "## Inference"
   ]
  },
  {
   "cell_type": "code",
   "execution_count": 1,
   "id": "a2e60f9d-0565-4f82-b7d4-5f41204f38a7",
   "metadata": {},
   "outputs": [
    {
     "name": "stdout",
     "output_type": "stream",
     "text": [
      "Using device: cuda\n",
      "Loading base model from LoRA adapter: ../models/covid/adapters/best_phi_2_rag_covid_k3_5e_10bs\n",
      "Loading checkpoint shards: 100%|██████████████████| 2/2 [00:00<00:00, 18.43it/s]\n",
      "Load model embedding : ../models/covid/embedding/bge-small-covid_10e_128bs\n",
      "Using device: cuda\n",
      "💾 Vector store loaded from../vector_stores/covid/ft_vs_covid_150_20\n",
      "Device set to use cuda:0\n",
      "Loading dataset splits for covid\n",
      "Train: 1292\n",
      "Val: 323\n",
      "Test: 404\n",
      "Datasets loaded and prepared.\n",
      "🔍 Buscando: 100%|██████████████████████████████| 41/41 [00:00<00:00, 93.15it/s]\n",
      "Generating prompts: 100%|███████████████████| 404/404 [00:00<00:00, 7472.26it/s]\n",
      "Processing inference\n"
     ]
    }
   ],
   "source": [
    "!python ../scripts/inference_rag.py \\\n",
    "  --lora_adapter_path \"../models/covid/adapters/best_phi_2_rag_covid_k3_5e_10bs\" \\\n",
    "  --max_new_tokens 120 \\\n",
    "  --vector_store_path \"../vector_stores/covid/ft_vs_covid_150_20\" \\\n",
    "  --dataset_name \"covid\" \\\n",
    "  --output_csv_path \"../results/covid/full_ft_covid.csv\" \\\n",
    "  --bs_emb 10 \\\n",
    "  --bs_gen 5\\\n",
    "  --top_k 10 \\\n",
    "  --use_rag"
   ]
  },
  {
   "cell_type": "markdown",
   "id": "28cb686e-2e6f-4cc6-a27a-157d055e6085",
   "metadata": {},
   "source": [
    "## Evaluation"
   ]
  },
  {
   "cell_type": "code",
   "execution_count": 3,
   "id": "44a7d555-e21b-4f87-84bc-da9719748685",
   "metadata": {},
   "outputs": [
    {
     "name": "stdout",
     "output_type": "stream",
     "text": [
      "Loading dataset splits for covid\n",
      "Train: 1292\n",
      "Val: 323\n",
      "Test: 404\n",
      "Datasets loaded and prepared.\n",
      "Results saved in: ../results/covid/full_ft_covid.csv\n"
     ]
    }
   ],
   "source": [
    "from utils.evaluate_inference import evaluate_answer\n",
    "evaluate_answer('covid', '../results/covid/full_ft_covid.csv')"
   ]
  },
  {
   "cell_type": "code",
   "execution_count": null,
   "id": "147cf7e3-d2f1-4bc0-9092-1b1208fa8089",
   "metadata": {},
   "outputs": [],
   "source": []
  }
 ],
 "metadata": {
  "kernelspec": {
   "display_name": "Python 3.10 (env_sbbd)",
   "language": "python",
   "name": "env_sbbd"
  },
  "language_info": {
   "codemirror_mode": {
    "name": "ipython",
    "version": 3
   },
   "file_extension": ".py",
   "mimetype": "text/x-python",
   "name": "python",
   "nbconvert_exporter": "python",
   "pygments_lexer": "ipython3",
   "version": "3.10.14"
  }
 },
 "nbformat": 4,
 "nbformat_minor": 5
}
