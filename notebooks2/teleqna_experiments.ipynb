{
 "cells": [
  {
   "cell_type": "code",
   "execution_count": 1,
   "id": "c521d0de-d688-4b42-b241-e02f0b459c73",
   "metadata": {},
   "outputs": [],
   "source": [
    "## Experiments teleqna top k10"
   ]
  },
  {
   "cell_type": "code",
   "execution_count": null,
   "id": "96504ef3-4f61-4e6d-8330-2a2c8639ef64",
   "metadata": {},
   "outputs": [],
   "source": [
    "## Phi\n",
    "## Phi Ft <- ajustar el modelo sin pasajes\n",
    "## Emb Phi\n",
    "## Emb Ft Phi\n",
    "## Emb Phi Ft\n",
    "## Emb Ft Phi Ft\n",
    "## Gpt 3.5"
   ]
  },
  {
   "cell_type": "markdown",
   "id": "2a53353d-518c-49e1-a838-82258c57ccb2",
   "metadata": {
    "jp-MarkdownHeadingCollapsed": true
   },
   "source": [
    "## Phi"
   ]
  },
  {
   "cell_type": "code",
   "execution_count": 2,
   "id": "8e1c8404-472f-4d95-98a6-fde537772d48",
   "metadata": {
    "scrolled": true
   },
   "outputs": [
    {
     "name": "stdout",
     "output_type": "stream",
     "text": [
      "Using device: cuda\n",
      "Loading base model: microsoft/phi-2\n",
      "Loading checkpoint shards: 100%|██████████████████| 2/2 [00:00<00:00, 18.53it/s]\n",
      "Device set to use cuda:0\n",
      "Loading dataset splits for teleqna\n",
      "Train: 724\n",
      "Val: 181\n",
      "Test: 905\n",
      "Datasets loaded and prepared.\n",
      "Dataset({\n",
      "    features: ['question_id', 'question', 'A', 'B', 'C', 'D', 'E', 'answer', 'explanation', 'category', 'tag'],\n",
      "    num_rows: 905\n",
      "})\n",
      "Generating prompts: 100%|███████████████████| 905/905 [00:00<00:00, 9282.88it/s]\n",
      "Example prompt\n",
      "Instruct: Answer the following question by selecting the correct option. Select the correct option from A, B, C, D. Respond only with the the correct option. Do not include any explanations.\n",
      "Question:\n",
      "Which evaluation method is considered as the baseline?\n",
      "\n",
      "Options:\n",
      "A) Numerical analysis\n",
      "B) SLS (Symbol Level Simulation)\n",
      "C) LLS (Link Level Simulation)\n",
      "D) All of the above\n",
      "\n",
      "Output:\n",
      "Processing inference\n",
      "inference completed\n",
      "answer save in ../results/teleqna/phi_k10_teleqna.csv\n"
     ]
    }
   ],
   "source": [
    "!python ../scripts/inference_rag.py \\\n",
    "  --gen_model \"microsoft/phi-2\" \\\n",
    "  --max_new_tokens 40 \\\n",
    "  --dataset_name \"teleqna\" \\\n",
    "  --output_csv_path \"../results/teleqna/phi_k10_teleqna.csv\" \\\n",
    "  --bs_emb 10 \\\n",
    "  --bs_gen 10\\\n",
    "  --top_k 10"
   ]
  },
  {
   "cell_type": "code",
   "execution_count": 1,
   "id": "c77d10df-cd4b-44bc-b03b-7ff3c2124ae0",
   "metadata": {},
   "outputs": [
    {
     "name": "stdout",
     "output_type": "stream",
     "text": [
      "Loading dataset splits for teleqna\n",
      "Train: 724\n",
      "Val: 181\n",
      "Test: 905\n",
      "Datasets loaded and prepared.\n",
      "Results saved in: ../results/teleqna/phi_k10_teleqna.csv\n"
     ]
    }
   ],
   "source": [
    "from utils.evaluate_inference import evaluate_answer\n",
    "evaluate_answer('teleqna', '../results/teleqna/phi_k10_teleqna.csv')"
   ]
  },
  {
   "cell_type": "markdown",
   "id": "5b6e24f5-e154-45fe-879a-40a9275e1fac",
   "metadata": {
    "jp-MarkdownHeadingCollapsed": true
   },
   "source": [
    "## Phi FT"
   ]
  },
  {
   "cell_type": "code",
   "execution_count": 3,
   "id": "f7f12e4e-cbfa-4ab7-8965-34958ebe07e4",
   "metadata": {},
   "outputs": [
    {
     "name": "stdout",
     "output_type": "stream",
     "text": [
      "Using device: cuda\n",
      "Loading base model from LoRA adapter: ../models/teleqna/adapters/best_phi-2-rag-k3_teleqna-5e_10bs\n",
      "Loading checkpoint shards: 100%|██████████████████| 2/2 [00:00<00:00, 18.72it/s]\n",
      "Device set to use cuda:0\n",
      "Loading dataset splits for teleqna\n",
      "Train: 724\n",
      "Val: 181\n",
      "Test: 905\n",
      "Datasets loaded and prepared.\n",
      "Dataset({\n",
      "    features: ['question_id', 'question', 'A', 'B', 'C', 'D', 'E', 'answer', 'explanation', 'category', 'tag'],\n",
      "    num_rows: 905\n",
      "})\n",
      "Generating prompts: 100%|███████████████████| 905/905 [00:00<00:00, 9413.41it/s]\n",
      "Example prompt\n",
      "Instruct: Answer the following question by selecting the correct option. Select the correct option from A, B, C, D. Respond only with the the correct option. Do not include any explanations.\n",
      "Question:\n",
      "Which evaluation method is considered as the baseline?\n",
      "\n",
      "Options:\n",
      "A) Numerical analysis\n",
      "B) SLS (Symbol Level Simulation)\n",
      "C) LLS (Link Level Simulation)\n",
      "D) All of the above\n",
      "\n",
      "Output:\n",
      "Processing inference\n",
      "inference completed\n",
      "answer save in ../results/teleqna/phi_ft_k10_teleqna.csv\n"
     ]
    }
   ],
   "source": [
    "!python ../scripts/inference_rag.py \\\n",
    "  --lora_adapter_path \"../models/teleqna/adapters/best_phi-2-rag-k3_teleqna-5e_10bs\" \\\n",
    "  --max_new_tokens 40 \\\n",
    "  --dataset_name \"teleqna\" \\\n",
    "  --output_csv_path \"../results/teleqna/phi_ft_k10_teleqna.csv\" \\\n",
    "  --bs_emb 10 \\\n",
    "  --bs_gen 10\\\n",
    "  --top_k 10"
   ]
  },
  {
   "cell_type": "code",
   "execution_count": 4,
   "id": "58ddef80-c420-4b86-a5ed-2ad67efb4a94",
   "metadata": {},
   "outputs": [
    {
     "name": "stdout",
     "output_type": "stream",
     "text": [
      "Loading dataset splits for teleqna\n",
      "Train: 724\n",
      "Val: 181\n",
      "Test: 905\n",
      "Datasets loaded and prepared.\n",
      "Results saved in: ../results/teleqna/phi_ft_k10_teleqna.csv\n"
     ]
    }
   ],
   "source": [
    "from utils.evaluate_inference import evaluate_answer\n",
    "evaluate_answer('teleqna', '../results/teleqna/phi_ft_k10_teleqna.csv')"
   ]
  },
  {
   "cell_type": "markdown",
   "id": "c65d1978-4c17-449a-851b-434ac1babc41",
   "metadata": {
    "jp-MarkdownHeadingCollapsed": true
   },
   "source": [
    "## Emb phi"
   ]
  },
  {
   "cell_type": "code",
   "execution_count": 5,
   "id": "f50c3f83-150c-4152-9df5-0d11ba5e5e75",
   "metadata": {
    "scrolled": true
   },
   "outputs": [
    {
     "name": "stdout",
     "output_type": "stream",
     "text": [
      "Using device: cuda\n",
      "Loading base model: microsoft/phi-2\n",
      "Loading checkpoint shards: 100%|██████████████████| 2/2 [00:00<00:00, 18.37it/s]\n",
      "Load model embedding : BAAI/bge-small-en-v1.5\n",
      "Using device: cuda\n",
      "💾 Vector store loaded from../vector_stores/teleqna/base_vs_teleqna_150_20\n",
      "Device set to use cuda:0\n",
      "Loading dataset splits for teleqna\n",
      "Train: 724\n",
      "Val: 181\n",
      "Test: 905\n",
      "Datasets loaded and prepared.\n",
      "Dataset({\n",
      "    features: ['question_id', 'question', 'A', 'B', 'C', 'D', 'E', 'answer', 'explanation', 'category', 'tag'],\n",
      "    num_rows: 905\n",
      "})\n",
      "🔍 Buscando: 100%|██████████████████████████████| 91/91 [00:09<00:00,  9.67it/s]\n",
      "Generating prompts: 100%|███████████████████| 905/905 [00:00<00:00, 8740.65it/s]\n",
      "Example prompt\n",
      "Instruct: Use the context provided below to answer the question. Select the correct option from A, B, C, D. Respond only with the the correct option. Do not include any explanations.\n",
      "Context:\n",
      "\n",
      "Document 1:The evaluation baseline includes at least NR R15 mandatory without capability features. Optional features from R15 onwards (e.g. CA, MIMO) as well as implementation-based energy saving techniques are to be explicitly reported and described if used in the evaluation baseline.\n",
      "\n",
      "SLS is considered as baseline evaluation method. Other method, including numerical analysis and LLS can also be considered. At least one of the methods is to be selected and used for evaluation of a specific technique (selection and criteria is up to proponent).\n",
      "Document 2:Realistic as a baseline. Up to companies to choose the error modelling method for realistic channel estimation.\n",
      "\n",
      "Ideal DL channel estimation is optionally taken into the baseline of evaluation methodology for the purpose of calibration and/or comparing intermediate results (e.g., accuracy of AI/ML output CSI, etc.). Up to companies to report whether/how ideal channel is used in the dataset construction and performance evaluation/inference.\n",
      "\n",
      "Note: Eventual performance comparison with the benchmark release and drawing SI conclusions should be based on realistic DL channel estimation.\n",
      "\n",
      "Evaluation Metric\n",
      "\n",
      "Throughput and CSI feedback overhead as baseline metrics.\n",
      "\n",
      "\n",
      "\n",
      "The CSI feedback overhead is calculated as the weighted average of CSI payload per rank and the distribution of ranks reported by the UE.\n",
      "Document 3:An obvious baseline for assessing the radio performance is a transmitter / receiver performance that just meets RAN4 minimum requirements. However, it is to be expected that to a reasonable extent the performance could be extended beyond the minimum needed for meeting for 3GPP requirements and thus examples are provided considering both the baseline and some improvement. The associated complexity of improvement should be considered.\n",
      "Document 4:-\tthe small scale parameters are according to clause 7.6.3.1 of TR 38.901\n",
      "\n",
      "-\tthe absolute time of arrival is according to clause 7.6.9 of TR 38.901\n",
      "\n",
      "Baseline evaluation does not incorporate spatially consistent UT/BS mobility modelling (clause 7.6.3.2 of TR 38.901). It is optional to implement it.\n",
      "\n",
      "Baseline for performance evaluation\n",
      "\n",
      "Existing Rel-16/Rel-17 positioning methods. Specific existing positioning method (e.g., DL-TDOA, Multi-RTT) used as comparison is to be reported.\n",
      "Document 5:In the evaluation, the baseline operation and target operation for each source are as below:\n",
      "\n",
      "\tSource 1 ([19]) and Source 3 ([35]) choose Option 1:\n",
      "\n",
      "-\tBaseline operation for comparison: legacy static TDD {DDDSU} based on Rel-17 specifications\n",
      "\n",
      "-\tTarget flexible TDD operation: legacy static TDD {DSUUU} based on potential enhancements\n",
      "Document 6:-\tBaseline: \n",
      "\n",
      "-\tM=1\n",
      "\n",
      "-\tOptional: \n",
      "\n",
      "-\tM=4\n",
      "\n",
      "-\tOther values of M \n",
      "\n",
      "-\tCompanies should report their assumptions on UE mobility (e.g., speed)\n",
      "\n",
      "NOTE 1: The Doppler frequency can be determined based on the UE speed in the evaluation assumption.\n",
      "\n",
      "\n",
      "\n",
      "A.4\tEvaluation methodology for low power high accuracy positioning\n",
      "\n",
      "Table A.4-1 lists the common assumptions for evaluation of LPHAP. \n",
      "\n",
      "Table A.4-1: Evaluation assumptions common to all evaluations of LPHAP \n",
      "\n",
      "Assumptions\n",
      "\n",
      "Value\n",
      "\n",
      "Frequency range\n",
      "\n",
      "FR1 baseline; FR2 optional\n",
      "\n",
      "SCS\n",
      "\n",
      "30kHz for FR1 (baseline); 120kHz for FR2 (optional)\n",
      "\n",
      "Bandwidth of the DL PRS and UL SRS for positioning\n",
      "Document 7:-\tUp to companies to select one or both of the above values.\n",
      "\n",
      "-\tCandidate value of N to evaluate is 1 for I-DRX cycle of 10.24s.\n",
      "\n",
      "I-DRX configuration\n",
      "\n",
      "Included in the baseline evaluations\n",
      "\n",
      "-\tI-DRX cycles: 1.28s (baseline); 10.24s (optional)\n",
      "\n",
      "-\tNOTE: This does not preclude the case where no I-DRX cycle nor paging is considered in the evaluation of potential solutions to maximize the battery life.\n",
      "\n",
      "e-DRX and/or paging reception\n",
      "\n",
      "The following may be optionally considered:\n",
      "\n",
      "-\te-DRX cycles to evaluate: 20.48s; 30.72s.\n",
      "\n",
      "-\tFor paging reception:\n",
      "Document 8:6.11.2\tSolution evaluation\n",
      "Document 9:Maximum overhead (payload size for CSI feedback)for each rank at one feedback instance is the baseline metric for CSI feedback overhead, and companies can provide other metrics.\n",
      "\n",
      "Baseline for performance evaluation\n",
      "\n",
      "For CSI compression:\n",
      "\n",
      "Companies need to report which option is used between:\n",
      "\n",
      "- Rel-16 TypeII Codebook as the baseline for performance and overhead evaluation.\n",
      "\n",
      "- Rel-17 TypeII Codebook as the baseline for performance and overhead evaluation.\n",
      "\n",
      "\n",
      "\n",
      "Additional assumptions from R17 TypeII EVM: Same consideration with respect to utilizing angle-delay reciprocity should be considered for the AI/ML based CSI feedback and the baseline scheme if R17 TypeII codebook is selected as baseline.\n",
      "Document 10:-\tevaluation results from 1 source indicates that non-AI baseline option 2 (exhaustive search over Set B beams) achieves 89% of the UE average throughput of the BM-Case1 baseline option 1 (exhaustive search over Set A beams).\n",
      "\n",
      "-\tUE 5%ile throughput\n",
      "\n",
      "-\tevaluation results from 2 sources indicate that, AI/ML achieves 95~97% of the UE 5%ile throughput of the BM-Case1 baseline option 1 (exhaustive search over Set A beams).\n",
      "\n",
      "-\t(B) With measurements of fixed Set B of beams that of 1/8 of Set A of beams\n",
      "\n",
      "-\tTop-1 DL Tx beam prediction accuracy:\n",
      "\n",
      "Question:\n",
      "Which evaluation method is considered as the baseline?\n",
      "\n",
      "Options:\n",
      "A) Numerical analysis\n",
      "B) SLS (Symbol Level Simulation)\n",
      "C) LLS (Link Level Simulation)\n",
      "D) All of the above\n",
      "\n",
      "Output:\n",
      "Processing inference\n",
      "Token indices sequence length is longer than the specified maximum sequence length for this model (2169 > 2048). Running this sequence through the model will result in indexing errors\n",
      "This is a friendly reminder - the current text generation call will exceed the model's predefined maximum length (2048). Depending on the model, you may observe exceptions, performance degradation, or nothing at all.\n",
      "inference completed\n",
      "answer save in ../results/teleqna/basic_rag_k10_teleqna.csv\n"
     ]
    }
   ],
   "source": [
    "!python ../scripts/inference_rag.py \\\n",
    "  --gen_model \"microsoft/phi-2\" \\\n",
    "  --max_new_tokens 40 \\\n",
    "  --vector_store_path \"../vector_stores/teleqna/base_vs_teleqna_150_20\" \\\n",
    "  --dataset_name \"teleqna\" \\\n",
    "  --output_csv_path \"../results/teleqna/basic_rag_k10_teleqna.csv\" \\\n",
    "  --bs_emb 10 \\\n",
    "  --bs_gen 10\\\n",
    "  --top_k 10 \\\n",
    "  --use_rag"
   ]
  },
  {
   "cell_type": "code",
   "execution_count": 6,
   "id": "8c11f6c6-e695-4e06-883c-51bf2b6d1611",
   "metadata": {
    "scrolled": true
   },
   "outputs": [
    {
     "name": "stdout",
     "output_type": "stream",
     "text": [
      "Loading dataset splits for teleqna\n",
      "Train: 724\n",
      "Val: 181\n",
      "Test: 905\n",
      "Datasets loaded and prepared.\n",
      "Results saved in: ../results/teleqna/basic_rag_k10_teleqna.csv\n"
     ]
    }
   ],
   "source": [
    "from utils.evaluate_inference import evaluate_answer\n",
    "evaluate_answer('teleqna', '../results/teleqna/basic_rag_k10_teleqna.csv')"
   ]
  },
  {
   "cell_type": "markdown",
   "id": "489f36f9-4583-4716-af13-2bef48a69193",
   "metadata": {
    "jp-MarkdownHeadingCollapsed": true
   },
   "source": [
    "## Emb ft Phi"
   ]
  },
  {
   "cell_type": "code",
   "execution_count": 7,
   "id": "80b097a3-88fe-4960-ae5a-d543a5d085cc",
   "metadata": {
    "scrolled": true
   },
   "outputs": [
    {
     "name": "stdout",
     "output_type": "stream",
     "text": [
      "Using device: cuda\n",
      "Loading base model: microsoft/phi-2\n",
      "Loading checkpoint shards: 100%|██████████████████| 2/2 [00:00<00:00, 18.47it/s]\n",
      "Load model embedding : ../models/teleqna/embedding/bge-small-3gpp_10e_128bs/checkpoint-30\n",
      "Using device: cuda\n",
      "💾 Vector store loaded from../vector_stores/teleqna/ft_vs_teleqna_150_20\n",
      "Device set to use cuda:0\n",
      "Loading dataset splits for teleqna\n",
      "Train: 724\n",
      "Val: 181\n",
      "Test: 905\n",
      "Datasets loaded and prepared.\n",
      "Dataset({\n",
      "    features: ['question_id', 'question', 'A', 'B', 'C', 'D', 'E', 'answer', 'explanation', 'category', 'tag'],\n",
      "    num_rows: 905\n",
      "})\n",
      "🔍 Buscando: 100%|██████████████████████████████| 91/91 [00:09<00:00,  9.72it/s]\n",
      "Generating prompts: 100%|███████████████████| 905/905 [00:00<00:00, 8652.19it/s]\n",
      "Example prompt\n",
      "Instruct: Use the context provided below to answer the question. Select the correct option from A, B, C, D. Respond only with the the correct option. Do not include any explanations.\n",
      "Context:\n",
      "\n",
      "Document 1:The evaluation baseline includes at least NR R15 mandatory without capability features. Optional features from R15 onwards (e.g. CA, MIMO) as well as implementation-based energy saving techniques are to be explicitly reported and described if used in the evaluation baseline.\n",
      "\n",
      "SLS is considered as baseline evaluation method. Other method, including numerical analysis and LLS can also be considered. At least one of the methods is to be selected and used for evaluation of a specific technique (selection and criteria is up to proponent).\n",
      "Document 2:In the evaluation, the baseline operation and target operation for each source are as below:\n",
      "\n",
      "\tSource 1 ([19]) and Source 3 ([35]) choose Option 1:\n",
      "\n",
      "-\tBaseline operation for comparison: legacy static TDD {DDDSU} based on Rel-17 specifications\n",
      "\n",
      "-\tTarget flexible TDD operation: legacy static TDD {DSUUU} based on potential enhancements\n",
      "Document 3:-\tthe small scale parameters are according to clause 7.6.3.1 of TR 38.901\n",
      "\n",
      "-\tthe absolute time of arrival is according to clause 7.6.9 of TR 38.901\n",
      "\n",
      "Baseline evaluation does not incorporate spatially consistent UT/BS mobility modelling (clause 7.6.3.2 of TR 38.901). It is optional to implement it.\n",
      "\n",
      "Baseline for performance evaluation\n",
      "\n",
      "Existing Rel-16/Rel-17 positioning methods. Specific existing positioning method (e.g., DL-TDOA, Multi-RTT) used as comparison is to be reported.\n",
      "Document 4:An obvious baseline for assessing the radio performance is a transmitter / receiver performance that just meets RAN4 minimum requirements. However, it is to be expected that to a reasonable extent the performance could be extended beyond the minimum needed for meeting for 3GPP requirements and thus examples are provided considering both the baseline and some improvement. The associated complexity of improvement should be considered.\n",
      "Document 5:6.11.2\tSolution evaluation\n",
      "Document 6:The performance of Baseline HARQ-ACK (scheme 5.1 in Tables B.1.5-1,2,3) has been compared against different schemes with soft HARQ-ACK. Particularly, the following schemes, with soft HARQ-ACK, have been evaluated:\n",
      "Document 7:-\tevaluation results from 1 source show performance degradation in terms of the top-1 beam accuracy from 73.9% to 34.2% at 4 beams in Set B, from 88.6% to 63.9% at 8 beams in set B, from 97.8% to 88.4% at 16 beams in set B.\n",
      "\n",
      "-\tevaluation results from 5 sources show better performance than non-AI baseline option 2 (based on the measurements from Set B of beams). However, evaluation results from 5 sources similar or even worse performance than non-AI baseline option 2 (based on the measurements from Set B of beams).\n",
      "Document 8:-\tBaseline: \n",
      "\n",
      "-\tOptional: \n",
      "\n",
      "-\t is a dynamic part of power for BS in active, which is scaled based on reference configuration.\n",
      "\n",
      "-\tBaseline: , where ,, is the fraction of active TRxRUs, the ratio between the RF bandwidth and the maximum system BW, and the ratio of PSD per TxRU between the DL transmission and reference configuration, respectively.\n",
      "\n",
      "\n",
      "\n",
      "-\t is the power part related to PA.\n",
      "\n",
      "-\tFor simplicity \n",
      "\n",
      "-\tA = baseline: 0.4; optional: 0.1, 0.7;\n",
      "\n",
      "-\tFor , in evaluation, company to report the assumption from below:\n",
      "\n",
      "-\tIf one value of  is used for evaluation,  for any ;\n",
      "\n",
      "-\tIf two values of are used for evaluation,  if ; otherwise,\n",
      "Document 9:-\tThe UPT gains of the reference scheme(s) and proposed scheme over the baseline operation for comparison are presented in Table 8.3.1A.3-1, Table 8.3.1A.3-2, Table 8.3.1A.3-3, Table 8.3.1A.3-4 and Table 8.3.1A.3-5.\n",
      "Document 10:The baseline ACIR is derived from the ACLR and ACS values listed in Annex E, in Tables E.2.3-1, E.2.3-2, and E.2.4-1. On the other hand, the enhanced ACIR that RAN4 has considered in the coexistence study represents the case where the baseline ACIR is enhanced with x dB, ranging from 2dB till 8dB, while some numbers can’t be met because ACIR enhancement can be limited by the ACLR/ACS of the legacy TDD network or UE operating in the adjacent channel as highlighted below for the different cases:\n",
      "\n",
      "Question:\n",
      "Which evaluation method is considered as the baseline?\n",
      "\n",
      "Options:\n",
      "A) Numerical analysis\n",
      "B) SLS (Symbol Level Simulation)\n",
      "C) LLS (Link Level Simulation)\n",
      "D) All of the above\n",
      "\n",
      "Output:\n",
      "Processing inference\n",
      "Token indices sequence length is longer than the specified maximum sequence length for this model (2236 > 2048). Running this sequence through the model will result in indexing errors\n",
      "This is a friendly reminder - the current text generation call will exceed the model's predefined maximum length (2048). Depending on the model, you may observe exceptions, performance degradation, or nothing at all.\n",
      "inference completed\n",
      "answer save in ../results/teleqna/emb_ft_phi_k10_teleqna.csv\n"
     ]
    }
   ],
   "source": [
    "!python ../scripts/inference_rag.py \\\n",
    "  --gen_model \"microsoft/phi-2\" \\\n",
    "  --max_new_tokens 40 \\\n",
    "  --vector_store_path \"../vector_stores/teleqna/ft_vs_teleqna_150_20\" \\\n",
    "  --dataset_name \"teleqna\" \\\n",
    "  --output_csv_path \"../results/teleqna/emb_ft_phi_k10_teleqna.csv\" \\\n",
    "  --bs_emb 10 \\\n",
    "  --bs_gen 10\\\n",
    "  --top_k 10 \\\n",
    "  --use_rag"
   ]
  },
  {
   "cell_type": "code",
   "execution_count": 8,
   "id": "0d318a60-6903-429e-b2ea-01f653ad497a",
   "metadata": {},
   "outputs": [
    {
     "name": "stdout",
     "output_type": "stream",
     "text": [
      "Loading dataset splits for teleqna\n",
      "Train: 724\n",
      "Val: 181\n",
      "Test: 905\n",
      "Datasets loaded and prepared.\n",
      "Results saved in: ../results/teleqna/emb_ft_phi_k10_teleqna.csv\n"
     ]
    }
   ],
   "source": [
    "from utils.evaluate_inference import evaluate_answer\n",
    "evaluate_answer('teleqna', '../results/teleqna/emb_ft_phi_k10_teleqna.csv')"
   ]
  },
  {
   "cell_type": "markdown",
   "id": "2074c5ee-38b7-4a15-9bfa-db9eacfaf942",
   "metadata": {},
   "source": [
    "## Emb Phi ft"
   ]
  },
  {
   "cell_type": "code",
   "execution_count": 9,
   "id": "71503c49-75a1-49a7-9c6a-72a5e4789712",
   "metadata": {
    "scrolled": true
   },
   "outputs": [
    {
     "name": "stdout",
     "output_type": "stream",
     "text": [
      "Using device: cuda\n",
      "Loading base model from LoRA adapter: ../models/teleqna/adapters/best_phi-2-rag-k3_teleqna-5e_10bs\n",
      "Loading checkpoint shards: 100%|██████████████████| 2/2 [00:00<00:00, 18.18it/s]\n",
      "Load model embedding : BAAI/bge-small-en-v1.5\n",
      "Using device: cuda\n",
      "💾 Vector store loaded from../vector_stores/teleqna/base_vs_teleqna_150_20\n",
      "Device set to use cuda:0\n",
      "Loading dataset splits for teleqna\n",
      "Train: 724\n",
      "Val: 181\n",
      "Test: 905\n",
      "Datasets loaded and prepared.\n",
      "Dataset({\n",
      "    features: ['question_id', 'question', 'A', 'B', 'C', 'D', 'E', 'answer', 'explanation', 'category', 'tag'],\n",
      "    num_rows: 905\n",
      "})\n",
      "🔍 Buscando: 100%|██████████████████████████████| 91/91 [00:09<00:00,  9.82it/s]\n",
      "Generating prompts: 100%|███████████████████| 905/905 [00:00<00:00, 8574.96it/s]\n",
      "Example prompt\n",
      "Instruct: Use the context provided below to answer the question. Select the correct option from A, B, C, D. Respond only with the the correct option. Do not include any explanations.\n",
      "Context:\n",
      "\n",
      "Document 1:The evaluation baseline includes at least NR R15 mandatory without capability features. Optional features from R15 onwards (e.g. CA, MIMO) as well as implementation-based energy saving techniques are to be explicitly reported and described if used in the evaluation baseline.\n",
      "\n",
      "SLS is considered as baseline evaluation method. Other method, including numerical analysis and LLS can also be considered. At least one of the methods is to be selected and used for evaluation of a specific technique (selection and criteria is up to proponent).\n",
      "Document 2:Realistic as a baseline. Up to companies to choose the error modelling method for realistic channel estimation.\n",
      "\n",
      "Ideal DL channel estimation is optionally taken into the baseline of evaluation methodology for the purpose of calibration and/or comparing intermediate results (e.g., accuracy of AI/ML output CSI, etc.). Up to companies to report whether/how ideal channel is used in the dataset construction and performance evaluation/inference.\n",
      "\n",
      "Note: Eventual performance comparison with the benchmark release and drawing SI conclusions should be based on realistic DL channel estimation.\n",
      "\n",
      "Evaluation Metric\n",
      "\n",
      "Throughput and CSI feedback overhead as baseline metrics.\n",
      "\n",
      "\n",
      "\n",
      "The CSI feedback overhead is calculated as the weighted average of CSI payload per rank and the distribution of ranks reported by the UE.\n",
      "Document 3:An obvious baseline for assessing the radio performance is a transmitter / receiver performance that just meets RAN4 minimum requirements. However, it is to be expected that to a reasonable extent the performance could be extended beyond the minimum needed for meeting for 3GPP requirements and thus examples are provided considering both the baseline and some improvement. The associated complexity of improvement should be considered.\n",
      "Document 4:-\tthe small scale parameters are according to clause 7.6.3.1 of TR 38.901\n",
      "\n",
      "-\tthe absolute time of arrival is according to clause 7.6.9 of TR 38.901\n",
      "\n",
      "Baseline evaluation does not incorporate spatially consistent UT/BS mobility modelling (clause 7.6.3.2 of TR 38.901). It is optional to implement it.\n",
      "\n",
      "Baseline for performance evaluation\n",
      "\n",
      "Existing Rel-16/Rel-17 positioning methods. Specific existing positioning method (e.g., DL-TDOA, Multi-RTT) used as comparison is to be reported.\n",
      "Document 5:In the evaluation, the baseline operation and target operation for each source are as below:\n",
      "\n",
      "\tSource 1 ([19]) and Source 3 ([35]) choose Option 1:\n",
      "\n",
      "-\tBaseline operation for comparison: legacy static TDD {DDDSU} based on Rel-17 specifications\n",
      "\n",
      "-\tTarget flexible TDD operation: legacy static TDD {DSUUU} based on potential enhancements\n",
      "Document 6:-\tBaseline: \n",
      "\n",
      "-\tM=1\n",
      "\n",
      "-\tOptional: \n",
      "\n",
      "-\tM=4\n",
      "\n",
      "-\tOther values of M \n",
      "\n",
      "-\tCompanies should report their assumptions on UE mobility (e.g., speed)\n",
      "\n",
      "NOTE 1: The Doppler frequency can be determined based on the UE speed in the evaluation assumption.\n",
      "\n",
      "\n",
      "\n",
      "A.4\tEvaluation methodology for low power high accuracy positioning\n",
      "\n",
      "Table A.4-1 lists the common assumptions for evaluation of LPHAP. \n",
      "\n",
      "Table A.4-1: Evaluation assumptions common to all evaluations of LPHAP \n",
      "\n",
      "Assumptions\n",
      "\n",
      "Value\n",
      "\n",
      "Frequency range\n",
      "\n",
      "FR1 baseline; FR2 optional\n",
      "\n",
      "SCS\n",
      "\n",
      "30kHz for FR1 (baseline); 120kHz for FR2 (optional)\n",
      "\n",
      "Bandwidth of the DL PRS and UL SRS for positioning\n",
      "Document 7:-\tUp to companies to select one or both of the above values.\n",
      "\n",
      "-\tCandidate value of N to evaluate is 1 for I-DRX cycle of 10.24s.\n",
      "\n",
      "I-DRX configuration\n",
      "\n",
      "Included in the baseline evaluations\n",
      "\n",
      "-\tI-DRX cycles: 1.28s (baseline); 10.24s (optional)\n",
      "\n",
      "-\tNOTE: This does not preclude the case where no I-DRX cycle nor paging is considered in the evaluation of potential solutions to maximize the battery life.\n",
      "\n",
      "e-DRX and/or paging reception\n",
      "\n",
      "The following may be optionally considered:\n",
      "\n",
      "-\te-DRX cycles to evaluate: 20.48s; 30.72s.\n",
      "\n",
      "-\tFor paging reception:\n",
      "Document 8:6.11.2\tSolution evaluation\n",
      "Document 9:Maximum overhead (payload size for CSI feedback)for each rank at one feedback instance is the baseline metric for CSI feedback overhead, and companies can provide other metrics.\n",
      "\n",
      "Baseline for performance evaluation\n",
      "\n",
      "For CSI compression:\n",
      "\n",
      "Companies need to report which option is used between:\n",
      "\n",
      "- Rel-16 TypeII Codebook as the baseline for performance and overhead evaluation.\n",
      "\n",
      "- Rel-17 TypeII Codebook as the baseline for performance and overhead evaluation.\n",
      "\n",
      "\n",
      "\n",
      "Additional assumptions from R17 TypeII EVM: Same consideration with respect to utilizing angle-delay reciprocity should be considered for the AI/ML based CSI feedback and the baseline scheme if R17 TypeII codebook is selected as baseline.\n",
      "Document 10:-\tevaluation results from 1 source indicates that non-AI baseline option 2 (exhaustive search over Set B beams) achieves 89% of the UE average throughput of the BM-Case1 baseline option 1 (exhaustive search over Set A beams).\n",
      "\n",
      "-\tUE 5%ile throughput\n",
      "\n",
      "-\tevaluation results from 2 sources indicate that, AI/ML achieves 95~97% of the UE 5%ile throughput of the BM-Case1 baseline option 1 (exhaustive search over Set A beams).\n",
      "\n",
      "-\t(B) With measurements of fixed Set B of beams that of 1/8 of Set A of beams\n",
      "\n",
      "-\tTop-1 DL Tx beam prediction accuracy:\n",
      "\n",
      "Question:\n",
      "Which evaluation method is considered as the baseline?\n",
      "\n",
      "Options:\n",
      "A) Numerical analysis\n",
      "B) SLS (Symbol Level Simulation)\n",
      "C) LLS (Link Level Simulation)\n",
      "D) All of the above\n",
      "\n",
      "Output:\n",
      "Processing inference\n",
      "Token indices sequence length is longer than the specified maximum sequence length for this model (2169 > 2048). Running this sequence through the model will result in indexing errors\n",
      "This is a friendly reminder - the current text generation call will exceed the model's predefined maximum length (2048). Depending on the model, you may observe exceptions, performance degradation, or nothing at all.\n",
      "inference completed\n",
      "answer save in ../results/teleqna/emb_phi_ft_k10_teleqna.csv\n"
     ]
    }
   ],
   "source": [
    "!python ../scripts/inference_rag.py \\\n",
    "  --lora_adapter_path \"../models/teleqna/adapters/best_phi-2-rag-k3_teleqna-5e_10bs\" \\\n",
    "  --max_new_tokens 40 \\\n",
    "  --vector_store_path \"../vector_stores/teleqna/base_vs_teleqna_150_20\" \\\n",
    "  --dataset_name \"teleqna\" \\\n",
    "  --output_csv_path \"../results/teleqna/emb_phi_ft_k10_teleqna.csv\" \\\n",
    "  --bs_emb 10 \\\n",
    "  --bs_gen 10\\\n",
    "  --top_k 10 \\\n",
    "  --use_rag"
   ]
  },
  {
   "cell_type": "code",
   "execution_count": 10,
   "id": "dc864021-7721-4a60-99ad-78cb8cc72c8f",
   "metadata": {},
   "outputs": [
    {
     "name": "stdout",
     "output_type": "stream",
     "text": [
      "Loading dataset splits for teleqna\n",
      "Train: 724\n",
      "Val: 181\n",
      "Test: 905\n",
      "Datasets loaded and prepared.\n",
      "Results saved in: ../results/teleqna/emb_phi_ft_k10_teleqna.csv\n"
     ]
    }
   ],
   "source": [
    "from utils.evaluate_inference import evaluate_answer\n",
    "evaluate_answer('teleqna', '../results/teleqna/emb_phi_ft_k10_teleqna.csv')"
   ]
  },
  {
   "cell_type": "code",
   "execution_count": 11,
   "id": "08dc2721-76e9-4ac8-9836-1b7f3c0a7a12",
   "metadata": {},
   "outputs": [
    {
     "name": "stdout",
     "output_type": "stream",
     "text": [
      "Loading dataset splits for teleqna\n",
      "Train: 724\n",
      "Val: 181\n",
      "Test: 905\n",
      "Datasets loaded and prepared.\n",
      "Results saved in: ../results/teleqna/full_ft_k10_teleqna.csv\n"
     ]
    }
   ],
   "source": [
    "from utils.evaluate_inference import evaluate_answer\n",
    "evaluate_answer('teleqna', '../results/teleqna/full_ft_k10_teleqna.csv')"
   ]
  },
  {
   "cell_type": "code",
   "execution_count": null,
   "id": "91cc016e-4845-4321-a3e8-6de2e7c5e811",
   "metadata": {},
   "outputs": [],
   "source": []
  }
 ],
 "metadata": {
  "kernelspec": {
   "display_name": "Python 3.10 (env_sbbd)",
   "language": "python",
   "name": "env_sbbd"
  },
  "language_info": {
   "codemirror_mode": {
    "name": "ipython",
    "version": 3
   },
   "file_extension": ".py",
   "mimetype": "text/x-python",
   "name": "python",
   "nbconvert_exporter": "python",
   "pygments_lexer": "ipython3",
   "version": "3.10.14"
  }
 },
 "nbformat": 4,
 "nbformat_minor": 5
}
