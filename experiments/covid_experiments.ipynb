{
 "cells": [
  {
   "cell_type": "markdown",
   "id": "2a53353d-518c-49e1-a838-82258c57ccb2",
   "metadata": {},
   "source": [
    "## Phi"
   ]
  },
  {
   "cell_type": "code",
   "execution_count": 2,
   "id": "8e1c8404-472f-4d95-98a6-fde537772d48",
   "metadata": {
    "scrolled": true
   },
   "outputs": [
    {
     "name": "stdout",
     "output_type": "stream",
     "text": [
      "Using device: cuda\n",
      "Loading base model: microsoft/phi-2\n",
      "Loading checkpoint shards: 100%|██████████████████| 2/2 [00:00<00:00, 17.84it/s]\n",
      "Device set to use cuda:0\n",
      "Loading dataset splits for covid\n",
      "Train: 1292\n",
      "Val: 323\n",
      "Test: 404\n",
      "Datasets loaded and prepared.\n",
      "Dataset({\n",
      "    features: ['document_id', 'context', 'question', 'is_impossible', 'id', 'answers'],\n",
      "    num_rows: 404\n",
      "})\n",
      "Generating prompts: 100%|████████████████████| 404/404 [00:01<00:00, 231.91it/s]\n",
      "Example prompt\n",
      "Instruct: Answer the question based on your knowledge.\n",
      "Question:\n",
      "What ion channel is essential for 3a-mediated IL-1Beta secretion?\n",
      "\n",
      "Output:\n",
      "Processing inference\n",
      "inference completed\n",
      "answer save in ../results/covid/phi_k10_covid.csv\n"
     ]
    }
   ],
   "source": [
    "!python ../scripts/inference_rag.py \\\n",
    "  --gen_model \"microsoft/phi-2\" \\\n",
    "  --max_new_tokens 120 \\\n",
    "  --dataset_name \"covid\" \\\n",
    "  --output_csv_path \"../results/covid/phi_k10_covid.csv\" \\\n",
    "  --bs_emb 10 \\\n",
    "  --bs_gen 10\\\n",
    "  --top_k 10"
   ]
  },
  {
   "cell_type": "code",
   "execution_count": 3,
   "id": "c77d10df-cd4b-44bc-b03b-7ff3c2124ae0",
   "metadata": {},
   "outputs": [
    {
     "name": "stdout",
     "output_type": "stream",
     "text": [
      "Loading dataset splits for covid\n",
      "Train: 1292\n",
      "Val: 323\n",
      "Test: 404\n",
      "Datasets loaded and prepared.\n",
      "Results saved in: ../results/covid/phi_k10_covid.csv\n"
     ]
    }
   ],
   "source": [
    "from utils.evaluate_inference import evaluate_answer\n",
    "evaluate_answer('covid', '../results/covid/phi_k10_covid.csv')"
   ]
  },
  {
   "cell_type": "markdown",
   "id": "5b6e24f5-e154-45fe-879a-40a9275e1fac",
   "metadata": {},
   "source": [
    "## Phi FT"
   ]
  },
  {
   "cell_type": "code",
   "execution_count": 4,
   "id": "f7f12e4e-cbfa-4ab7-8965-34958ebe07e4",
   "metadata": {},
   "outputs": [
    {
     "name": "stdout",
     "output_type": "stream",
     "text": [
      "Using device: cuda\n",
      "Loading base model from LoRA adapter: ../models/covid/adapters/best_phi_2_rag_covid_k3_5e_10bs\n",
      "Loading checkpoint shards: 100%|██████████████████| 2/2 [00:00<00:00, 17.96it/s]\n",
      "Device set to use cuda:0\n",
      "Loading dataset splits for covid\n",
      "Train: 1292\n",
      "Val: 323\n",
      "Test: 404\n",
      "Datasets loaded and prepared.\n",
      "Dataset({\n",
      "    features: ['document_id', 'context', 'question', 'is_impossible', 'id', 'answers'],\n",
      "    num_rows: 404\n",
      "})\n",
      "Generating prompts: 100%|███████████████████| 404/404 [00:00<00:00, 8003.98it/s]\n",
      "Example prompt\n",
      "Instruct: Answer the question based on your knowledge.\n",
      "Question:\n",
      "What ion channel is essential for 3a-mediated IL-1Beta secretion?\n",
      "\n",
      "Output:\n",
      "Processing inference\n",
      "inference completed\n",
      "answer save in ../results/covid/phi_ft_k10_covid.csv\n"
     ]
    }
   ],
   "source": [
    "!python ../scripts/inference_rag.py \\\n",
    "  --lora_adapter_path \"../models/covid/adapters/best_phi_2_rag_covid_k3_5e_10bs\" \\\n",
    "  --max_new_tokens 120 \\\n",
    "  --dataset_name \"covid\" \\\n",
    "  --output_csv_path \"../results/covid/phi_ft_k10_covid.csv\" \\\n",
    "  --bs_emb 10 \\\n",
    "  --bs_gen 10\\\n",
    "  --top_k 10"
   ]
  },
  {
   "cell_type": "code",
   "execution_count": 5,
   "id": "58ddef80-c420-4b86-a5ed-2ad67efb4a94",
   "metadata": {},
   "outputs": [
    {
     "name": "stdout",
     "output_type": "stream",
     "text": [
      "Loading dataset splits for covid\n",
      "Train: 1292\n",
      "Val: 323\n",
      "Test: 404\n",
      "Datasets loaded and prepared.\n",
      "Results saved in: ../results/covid/phi_ft_k10_covid.csv\n"
     ]
    }
   ],
   "source": [
    "from utils.evaluate_inference import evaluate_answer\n",
    "evaluate_answer('covid', '../results/covid/phi_ft_k10_covid.csv')"
   ]
  },
  {
   "cell_type": "markdown",
   "id": "c65d1978-4c17-449a-851b-434ac1babc41",
   "metadata": {},
   "source": [
    "## Emb phi"
   ]
  },
  {
   "cell_type": "code",
   "execution_count": 7,
   "id": "f50c3f83-150c-4152-9df5-0d11ba5e5e75",
   "metadata": {
    "scrolled": true
   },
   "outputs": [
    {
     "name": "stdout",
     "output_type": "stream",
     "text": [
      "Using device: cuda\n",
      "Loading base model: microsoft/phi-2\n",
      "Loading checkpoint shards: 100%|██████████████████| 2/2 [00:00<00:00, 18.72it/s]\n",
      "Load model embedding : BAAI/bge-small-en-v1.5\n",
      "Using device: cuda\n",
      "💾 Vector store loaded from../vector_stores/covid/base_vs_covid_150_20\n",
      "Device set to use cuda:0\n",
      "Loading dataset splits for covid\n",
      "Train: 1292\n",
      "Val: 323\n",
      "Test: 404\n",
      "Datasets loaded and prepared.\n",
      "Dataset({\n",
      "    features: ['document_id', 'context', 'question', 'is_impossible', 'id', 'answers'],\n",
      "    num_rows: 404\n",
      "})\n",
      "🔍 Buscando: 100%|██████████████████████████████| 41/41 [00:00<00:00, 50.82it/s]\n",
      "Generating prompts: 100%|███████████████████| 404/404 [00:00<00:00, 7600.46it/s]\n",
      "Example prompt\n",
      "Instruct:  Using the information in the context, answer the question as concisely and faithfully as possible.If the context does not provide enough information to answer confidently, answer based on the most likely interpretation from the given text.\n",
      "\n",
      "Context:\n",
      "\n",
      "Document 1:. Notably, the 3a-CS mutant completely abrogated IL-1β secretion (Figure 2B) , suggesting that the ion channel activity of the 3a protein is required for SARS-CoV 3a-induced IL-1β secretion.\n",
      "Document 2:We previously demonstrated that the influenza virus M2 protein (a proton-selective ion channel), its H37G mutant (which has lost its proton selectivity and enables the transport of other cations such as Na + and K + ), and the EMCV 2B protein (a Ca 2+ channel) stimulates NLRP3 inflammasome-mediated IL-1β secretion (Ichinohe et al., 2010; Ito et al., 2012) . In addition, the SARS-CoV E protein acts as a Ca 2+ -permeable ion channels that activates the NLRP3 inflammasome (Nieto- Torres et al., 2015)\n",
      "Document 3:In summary, we found that the ion channel activity of SARS-CoV 3a protein is essential for activation of the NLRP3 inflammasome. In addition, both K + efflux and mitochondrial ROS production are required for SARS-CoV 3a-mediated IL-1β secretion.\n",
      "Document 4:., 2018) , the ion channel activity-loss mutant 3a-CS (Cys-to-Ser substitution at positions Cys-127, Cys-130, and Cys-133) (Chan et al., 2009 ) completely abrogated IL-1β secretion from LPS-primed BMMs, suggesting that the 3a protein of SARS-CoV has the ability to induce the NLRP3 inflammasome activation by multiple mechanisms. Previous studies show that the 3a protein of SARS-CoV is localized to the plasma membrane (Minakshi and Padhan, 2014) and acts as a K + channel (Lu et al\n",
      "Document 5:., 2012; Triantafilou et al., 2013; Nieto-Torres et al., 2015) . In the case of influenza virus, the proton-selective M2 ion channel in the acidic trans-Golgi network activates the NLRP3 inflammasome (Ichinohe et al., 2010) . Interestingly, an M2 mutant in which histidine was substituted with glycine at position 37 (H37G), causing loss of proton selectivity, enables transport of other cations (i.e\n",
      "Document 6:., 2009;  Figure 2A) . To test whether the ion channel activity of the SARS-CoV 3a protein is required to stimulate secretion of IL-1β, we transduced LPSprimed BMMs with lentiviruses expressing the SARS-CoV E, V25F, 3a, 3a-CS, or M proteins. Consistent with a previous report (Nieto -Torres et al., 2015) , we found that the V25F mutant lentivirus failed to stimulate IL-1β release from BMMs ( Figure 2B)\n",
      "Document 7:. Here, we provide direct evidence that SARS-CoV 3a protein activates the NLRP3 inflammasome in lipopolysaccharide-primed macrophages. SARS-CoV 3a was sufficient to cause the NLRP3 inflammasome activation. The ion channel activity of the 3a protein was essential for 3a-mediated IL-1β secretion. While cells uninfected or infected with a lentivirus expressing a 3a protein defective in ion channel activity expressed NLRP3 uniformly throughout the cytoplasm, NLRP3 was redistributed to the perinuclear space in cells infected with a lentivirus expressing the 3a protein\n",
      "Document 8:. Together, these data provide evidence that the ion channel activity of the SARS-CoV 3a protein is essential for triggering the NLRP3 inflammasome.\n",
      "Document 9:. We next examined the intracellular localization of NLRP3. Activation of the NLRP3 inflammasome led to a redistribution from the cytosol to the perinuclear space, a process considered as a hallmark of NLRP3 activation (Zhou et al., 2011; Ito et al., 2012; Johnson et al., 2013; Moriyama et al., 2016) . Although cells expressing the ion channel activity-loss mutants 3a-CS or V25F uniformly expressed NLRP3 throughout the cytoplasm, it was redistributed to the perinuclear region in SARS-CoV 3a-or E-expressing cells (Figure 4)\n",
      "Document 10:., 2006; Chan et al., 2009) . Thus, mutation of the cysteine-rich domain blocks the ion conductivity by the 3a protein (Chan et al., 2009) . To this end, we substituted amino acids Cys-127, Cys-130, and Cys-133 within the cysteine-rich domain of the SARS-CoV 3a protein with serine to generate a lentivirus expressing the ion channel activity-loss mutant, 3a-CS (Chan et al., 2009;  Figure 2A)\n",
      "\n",
      "Question:\n",
      "What ion channel is essential for 3a-mediated IL-1Beta secretion?\n",
      "\n",
      "Output:\n",
      "Processing inference\n",
      "inference completed\n",
      "answer save in ../results/covid/basic_rag_k10_covid.csv\n"
     ]
    }
   ],
   "source": [
    "!python ../scripts/inference_rag.py \\\n",
    "  --gen_model \"microsoft/phi-2\" \\\n",
    "  --max_new_tokens 120 \\\n",
    "  --vector_store_path \"../vector_stores/covid/base_vs_covid_150_20\" \\\n",
    "  --dataset_name \"covid\" \\\n",
    "  --output_csv_path \"../results/covid/basic_rag_k10_covid.csv\" \\\n",
    "  --bs_emb 10 \\\n",
    "  --bs_gen 10\\\n",
    "  --top_k 10 \\\n",
    "  --use_rag"
   ]
  },
  {
   "cell_type": "code",
   "execution_count": 8,
   "id": "8c11f6c6-e695-4e06-883c-51bf2b6d1611",
   "metadata": {},
   "outputs": [
    {
     "name": "stdout",
     "output_type": "stream",
     "text": [
      "Loading dataset splits for covid\n",
      "Train: 1292\n",
      "Val: 323\n",
      "Test: 404\n",
      "Datasets loaded and prepared.\n",
      "Results saved in: ../results/covid/basic_rag_k10_covid.csv\n"
     ]
    }
   ],
   "source": [
    "from utils.evaluate_inference import evaluate_answer\n",
    "evaluate_answer('covid', '../results/covid/basic_rag_k10_covid.csv')"
   ]
  },
  {
   "cell_type": "markdown",
   "id": "489f36f9-4583-4716-af13-2bef48a69193",
   "metadata": {},
   "source": [
    "## Emb ft Phi"
   ]
  },
  {
   "cell_type": "code",
   "execution_count": 9,
   "id": "80b097a3-88fe-4960-ae5a-d543a5d085cc",
   "metadata": {
    "scrolled": true
   },
   "outputs": [
    {
     "name": "stdout",
     "output_type": "stream",
     "text": [
      "Using device: cuda\n",
      "Loading base model: microsoft/phi-2\n",
      "Loading checkpoint shards: 100%|██████████████████| 2/2 [00:00<00:00, 18.11it/s]\n",
      "Load model embedding : ../models/covid/embedding/bge-small-covid_10e_128bs\n",
      "Using device: cuda\n",
      "💾 Vector store loaded from../vector_stores/covid/ft_vs_covid_150_20\n",
      "Device set to use cuda:0\n",
      "Loading dataset splits for covid\n",
      "Train: 1292\n",
      "Val: 323\n",
      "Test: 404\n",
      "Datasets loaded and prepared.\n",
      "Dataset({\n",
      "    features: ['document_id', 'context', 'question', 'is_impossible', 'id', 'answers'],\n",
      "    num_rows: 404\n",
      "})\n",
      "🔍 Buscando: 100%|██████████████████████████████| 41/41 [00:00<00:00, 52.31it/s]\n",
      "Generating prompts: 100%|███████████████████| 404/404 [00:00<00:00, 7855.19it/s]\n",
      "Example prompt\n",
      "Instruct:  Using the information in the context, answer the question as concisely and faithfully as possible.If the context does not provide enough information to answer confidently, answer based on the most likely interpretation from the given text.\n",
      "\n",
      "Context:\n",
      "\n",
      "Document 1:. Notably, the 3a-CS mutant completely abrogated IL-1β secretion (Figure 2B) , suggesting that the ion channel activity of the 3a protein is required for SARS-CoV 3a-induced IL-1β secretion.\n",
      "Document 2:Both K + Efflux and ROS Production Are Involved in the IL-1β Release Induced by the SARS-CoV 3a Protein\n",
      "Document 3:., 2012; Triantafilou et al., 2013; Nieto-Torres et al., 2015) . In the case of influenza virus, the proton-selective M2 ion channel in the acidic trans-Golgi network activates the NLRP3 inflammasome (Ichinohe et al., 2010) . Interestingly, an M2 mutant in which histidine was substituted with glycine at position 37 (H37G), causing loss of proton selectivity, enables transport of other cations (i.e\n",
      "Document 4:In summary, we found that the ion channel activity of SARS-CoV 3a protein is essential for activation of the NLRP3 inflammasome. In addition, both K + efflux and mitochondrial ROS production are required for SARS-CoV 3a-mediated IL-1β secretion.\n",
      "Document 5:We previously demonstrated that the influenza virus M2 protein (a proton-selective ion channel), its H37G mutant (which has lost its proton selectivity and enables the transport of other cations such as Na + and K + ), and the EMCV 2B protein (a Ca 2+ channel) stimulates NLRP3 inflammasome-mediated IL-1β secretion (Ichinohe et al., 2010; Ito et al., 2012) . In addition, the SARS-CoV E protein acts as a Ca 2+ -permeable ion channels that activates the NLRP3 inflammasome (Nieto- Torres et al., 2015)\n",
      "Document 6:. To this end, BMMs in K + -rich medium were infected with influenza A virus or lentiviruses expressing the SARS-CoV E or 3a proteins. In agreement with a previous result (Ichinohe et al., 2010) , we found that IL-1β secretion caused by influenza virus was completely blocked when the extracellular K + concentration was increased to 130 mM ( Figure 5A) . The inhibitory effect of the K + -rich medium was also observed when cells were stimulated with lentiviruses expressing the SARS-CoV E or 3a proteins ( Figure 5B ). Since mitochondrial ROS are important for NLRP3 inflammasome activation (Nakahira et al\n",
      "Document 7:Finally, we investigated the mechanism by which SARS-CoV 3a triggers NLRP3 inflammasome activation. A previous study showed that the 3a protein of SARS-CoV acts as a K + channel (Lu et al., 2006) . In addition, K + efflux is a well-known activator of the NLRP3 inflammasome (Mariathasan et al., 2006; Petrilli et al., 2007) . These observations prompted us to examine whether K + efflux is required for 3a-mediated IL-1β secretion\n",
      "Document 8:. Here, we provide direct evidence that SARS-CoV 3a protein activates the NLRP3 inflammasome in lipopolysaccharide-primed macrophages. SARS-CoV 3a was sufficient to cause the NLRP3 inflammasome activation. The ion channel activity of the 3a protein was essential for 3a-mediated IL-1β secretion. While cells uninfected or infected with a lentivirus expressing a 3a protein defective in ion channel activity expressed NLRP3 uniformly throughout the cytoplasm, NLRP3 was redistributed to the perinuclear space in cells infected with a lentivirus expressing the 3a protein\n",
      "Document 9:., 2018) , the ion channel activity-loss mutant 3a-CS (Cys-to-Ser substitution at positions Cys-127, Cys-130, and Cys-133) (Chan et al., 2009 ) completely abrogated IL-1β secretion from LPS-primed BMMs, suggesting that the 3a protein of SARS-CoV has the ability to induce the NLRP3 inflammasome activation by multiple mechanisms. Previous studies show that the 3a protein of SARS-CoV is localized to the plasma membrane (Minakshi and Padhan, 2014) and acts as a K + channel (Lu et al\n",
      "Document 10:Once the mRNA sequence was confirmed, a construct was designed beginning with a kozak sequence (5'-CACCGCCGCCACC-3'), followed by a secretion signal consisting of 23 amino acid (aa) (MLLAVLYCLLWSFQTSAGHFPRA) from the human tyrosinase signal peptide as previously described [32] . This is followed by six histidine residues to facilitate protein purification\n",
      "\n",
      "Question:\n",
      "What ion channel is essential for 3a-mediated IL-1Beta secretion?\n",
      "\n",
      "Output:\n",
      "Processing inference\n",
      "inference completed\n",
      "answer save in ../results/covid/emb_ft_phi_k10_covid.csv\n"
     ]
    }
   ],
   "source": [
    "!python ../scripts/inference_rag.py \\\n",
    "  --gen_model \"microsoft/phi-2\" \\\n",
    "  --max_new_tokens 120 \\\n",
    "  --vector_store_path \"../vector_stores/covid/ft_vs_covid_150_20\" \\\n",
    "  --dataset_name \"covid\" \\\n",
    "  --output_csv_path \"../results/covid/emb_ft_phi_k10_covid.csv\" \\\n",
    "  --bs_emb 10 \\\n",
    "  --bs_gen 10\\\n",
    "  --top_k 10 \\\n",
    "  --use_rag"
   ]
  },
  {
   "cell_type": "code",
   "execution_count": 10,
   "id": "0d318a60-6903-429e-b2ea-01f653ad497a",
   "metadata": {},
   "outputs": [
    {
     "name": "stdout",
     "output_type": "stream",
     "text": [
      "Loading dataset splits for covid\n",
      "Train: 1292\n",
      "Val: 323\n",
      "Test: 404\n",
      "Datasets loaded and prepared.\n",
      "Results saved in: ../results/covid/emb_ft_phi_k10_covid.csv\n"
     ]
    }
   ],
   "source": [
    "from utils.evaluate_inference import evaluate_answer\n",
    "evaluate_answer('covid', '../results/covid/emb_ft_phi_k10_covid.csv')"
   ]
  },
  {
   "cell_type": "markdown",
   "id": "2074c5ee-38b7-4a15-9bfa-db9eacfaf942",
   "metadata": {},
   "source": [
    "## Emb Phi ft"
   ]
  },
  {
   "cell_type": "code",
   "execution_count": 12,
   "id": "71503c49-75a1-49a7-9c6a-72a5e4789712",
   "metadata": {
    "scrolled": true
   },
   "outputs": [
    {
     "name": "stdout",
     "output_type": "stream",
     "text": [
      "Using device: cuda\n",
      "Loading base model from LoRA adapter: ../models/covid/adapters/best_phi_2_rag_covid_k3_5e_10bs\n",
      "Loading checkpoint shards: 100%|██████████████████| 2/2 [00:00<00:00, 17.44it/s]\n",
      "Load model embedding : BAAI/bge-small-en-v1.5\n",
      "Using device: cuda\n",
      "💾 Vector store loaded from../vector_stores/covid/base_vs_covid_150_20\n",
      "Device set to use cuda:0\n",
      "Loading dataset splits for covid\n",
      "Train: 1292\n",
      "Val: 323\n",
      "Test: 404\n",
      "Datasets loaded and prepared.\n",
      "Dataset({\n",
      "    features: ['document_id', 'context', 'question', 'is_impossible', 'id', 'answers'],\n",
      "    num_rows: 404\n",
      "})\n",
      "🔍 Buscando: 100%|██████████████████████████████| 41/41 [00:00<00:00, 94.40it/s]\n",
      "Generating prompts: 100%|███████████████████| 404/404 [00:00<00:00, 7692.51it/s]\n",
      "Example prompt\n",
      "Instruct:  Using the information in the context, answer the question as concisely and faithfully as possible.If the context does not provide enough information to answer confidently, answer based on the most likely interpretation from the given text.\n",
      "\n",
      "Context:\n",
      "\n",
      "Document 1:. Notably, the 3a-CS mutant completely abrogated IL-1β secretion (Figure 2B) , suggesting that the ion channel activity of the 3a protein is required for SARS-CoV 3a-induced IL-1β secretion.\n",
      "Document 2:We previously demonstrated that the influenza virus M2 protein (a proton-selective ion channel), its H37G mutant (which has lost its proton selectivity and enables the transport of other cations such as Na + and K + ), and the EMCV 2B protein (a Ca 2+ channel) stimulates NLRP3 inflammasome-mediated IL-1β secretion (Ichinohe et al., 2010; Ito et al., 2012) . In addition, the SARS-CoV E protein acts as a Ca 2+ -permeable ion channels that activates the NLRP3 inflammasome (Nieto- Torres et al., 2015)\n",
      "Document 3:In summary, we found that the ion channel activity of SARS-CoV 3a protein is essential for activation of the NLRP3 inflammasome. In addition, both K + efflux and mitochondrial ROS production are required for SARS-CoV 3a-mediated IL-1β secretion.\n",
      "Document 4:., 2018) , the ion channel activity-loss mutant 3a-CS (Cys-to-Ser substitution at positions Cys-127, Cys-130, and Cys-133) (Chan et al., 2009 ) completely abrogated IL-1β secretion from LPS-primed BMMs, suggesting that the 3a protein of SARS-CoV has the ability to induce the NLRP3 inflammasome activation by multiple mechanisms. Previous studies show that the 3a protein of SARS-CoV is localized to the plasma membrane (Minakshi and Padhan, 2014) and acts as a K + channel (Lu et al\n",
      "Document 5:., 2012; Triantafilou et al., 2013; Nieto-Torres et al., 2015) . In the case of influenza virus, the proton-selective M2 ion channel in the acidic trans-Golgi network activates the NLRP3 inflammasome (Ichinohe et al., 2010) . Interestingly, an M2 mutant in which histidine was substituted with glycine at position 37 (H37G), causing loss of proton selectivity, enables transport of other cations (i.e\n",
      "Document 6:., 2009;  Figure 2A) . To test whether the ion channel activity of the SARS-CoV 3a protein is required to stimulate secretion of IL-1β, we transduced LPSprimed BMMs with lentiviruses expressing the SARS-CoV E, V25F, 3a, 3a-CS, or M proteins. Consistent with a previous report (Nieto -Torres et al., 2015) , we found that the V25F mutant lentivirus failed to stimulate IL-1β release from BMMs ( Figure 2B)\n",
      "Document 7:. Here, we provide direct evidence that SARS-CoV 3a protein activates the NLRP3 inflammasome in lipopolysaccharide-primed macrophages. SARS-CoV 3a was sufficient to cause the NLRP3 inflammasome activation. The ion channel activity of the 3a protein was essential for 3a-mediated IL-1β secretion. While cells uninfected or infected with a lentivirus expressing a 3a protein defective in ion channel activity expressed NLRP3 uniformly throughout the cytoplasm, NLRP3 was redistributed to the perinuclear space in cells infected with a lentivirus expressing the 3a protein\n",
      "Document 8:. Together, these data provide evidence that the ion channel activity of the SARS-CoV 3a protein is essential for triggering the NLRP3 inflammasome.\n",
      "Document 9:. We next examined the intracellular localization of NLRP3. Activation of the NLRP3 inflammasome led to a redistribution from the cytosol to the perinuclear space, a process considered as a hallmark of NLRP3 activation (Zhou et al., 2011; Ito et al., 2012; Johnson et al., 2013; Moriyama et al., 2016) . Although cells expressing the ion channel activity-loss mutants 3a-CS or V25F uniformly expressed NLRP3 throughout the cytoplasm, it was redistributed to the perinuclear region in SARS-CoV 3a-or E-expressing cells (Figure 4)\n",
      "Document 10:., 2006; Chan et al., 2009) . Thus, mutation of the cysteine-rich domain blocks the ion conductivity by the 3a protein (Chan et al., 2009) . To this end, we substituted amino acids Cys-127, Cys-130, and Cys-133 within the cysteine-rich domain of the SARS-CoV 3a protein with serine to generate a lentivirus expressing the ion channel activity-loss mutant, 3a-CS (Chan et al., 2009;  Figure 2A)\n",
      "\n",
      "Question:\n",
      "What ion channel is essential for 3a-mediated IL-1Beta secretion?\n",
      "\n",
      "Output:\n",
      "Processing inference\n",
      "inference completed\n",
      "answer save in ../results/covid/emb_phi_ft_k10_covid.csv\n"
     ]
    }
   ],
   "source": [
    "!python ../scripts/inference_rag.py \\\n",
    "  --lora_adapter_path \"../models/covid/adapters/best_phi_2_rag_covid_k3_5e_10bs\" \\\n",
    "  --max_new_tokens 120 \\\n",
    "  --vector_store_path \"../vector_stores/covid/base_vs_covid_150_20\" \\\n",
    "  --dataset_name \"covid\" \\\n",
    "  --output_csv_path \"../results/covid/emb_phi_ft_k10_covid.csv\" \\\n",
    "  --bs_emb 10 \\\n",
    "  --bs_gen 10\\\n",
    "  --top_k 10 \\\n",
    "  --use_rag"
   ]
  },
  {
   "cell_type": "code",
   "execution_count": 13,
   "id": "dc864021-7721-4a60-99ad-78cb8cc72c8f",
   "metadata": {},
   "outputs": [
    {
     "name": "stdout",
     "output_type": "stream",
     "text": [
      "Loading dataset splits for covid\n",
      "Train: 1292\n",
      "Val: 323\n",
      "Test: 404\n",
      "Datasets loaded and prepared.\n",
      "Results saved in: ../results/covid/emb_phi_ft_k10_covid.csv\n"
     ]
    }
   ],
   "source": [
    "from utils.evaluate_inference import evaluate_answer\n",
    "evaluate_answer('covid', '../results/covid/emb_phi_ft_k10_covid.csv')"
   ]
  },
  {
   "cell_type": "code",
   "execution_count": 14,
   "id": "08dc2721-76e9-4ac8-9836-1b7f3c0a7a12",
   "metadata": {},
   "outputs": [
    {
     "name": "stdout",
     "output_type": "stream",
     "text": [
      "Loading dataset splits for covid\n",
      "Train: 1292\n",
      "Val: 323\n",
      "Test: 404\n",
      "Datasets loaded and prepared.\n",
      "Results saved in: ../results/covid/full_ft_k10_covid.csv\n"
     ]
    }
   ],
   "source": [
    "from utils.evaluate_inference import evaluate_answer\n",
    "evaluate_answer('covid', '../results/covid/full_ft_k10_covid.csv')"
   ]
  },
  {
   "cell_type": "code",
   "execution_count": null,
   "id": "91cc016e-4845-4321-a3e8-6de2e7c5e811",
   "metadata": {},
   "outputs": [],
   "source": []
  }
 ],
 "metadata": {
  "kernelspec": {
   "display_name": "Python 3.10 (env_sbbd)",
   "language": "python",
   "name": "env_sbbd"
  },
  "language_info": {
   "codemirror_mode": {
    "name": "ipython",
    "version": 3
   },
   "file_extension": ".py",
   "mimetype": "text/x-python",
   "name": "python",
   "nbconvert_exporter": "python",
   "pygments_lexer": "ipython3",
   "version": "3.10.14"
  }
 },
 "nbformat": 4,
 "nbformat_minor": 5
}
