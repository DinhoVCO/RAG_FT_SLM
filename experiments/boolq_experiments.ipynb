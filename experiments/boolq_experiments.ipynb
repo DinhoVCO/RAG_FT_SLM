{
 "cells": [
  {
   "cell_type": "markdown",
   "id": "2a53353d-518c-49e1-a838-82258c57ccb2",
   "metadata": {
    "jp-MarkdownHeadingCollapsed": true
   },
   "source": [
    "## Phi"
   ]
  },
  {
   "cell_type": "code",
   "execution_count": 4,
   "id": "8e1c8404-472f-4d95-98a6-fde537772d48",
   "metadata": {
    "scrolled": true
   },
   "outputs": [
    {
     "name": "stdout",
     "output_type": "stream",
     "text": [
      "Using device: cuda\n",
      "Loading base model: microsoft/phi-2\n",
      "Loading checkpoint shards: 100%|██████████████████| 2/2 [00:00<00:00, 18.62it/s]\n",
      "Device set to use cuda:0\n",
      "Loading dataset splits for boolq\n",
      "Loading and preparing datasets...\n",
      "Train: 7541\n",
      "Val: 1886\n",
      "Test: 3270\n",
      "Datasets loaded and prepared.\n",
      "Dataset({\n",
      "    features: ['question', 'answer', 'passage'],\n",
      "    num_rows: 3270\n",
      "})\n",
      "Generating prompts: 100%|████████████████| 3270/3270 [00:00<00:00, 20541.53it/s]\n",
      "Example prompt\n",
      "Instruct: Answer the question based on your knowledge. Answer only \"yes\" or \"no\" .\n",
      "Question:\n",
      "does ethanol take more energy make that produces\n",
      "\n",
      "Output:\n",
      "Processing inference\n",
      "inference completed\n",
      "answer save in ../results/boolq/phi_k10_boolq.csv\n"
     ]
    }
   ],
   "source": [
    "!python ../scripts/inference_rag.py \\\n",
    "  --gen_model \"microsoft/phi-2\" \\\n",
    "  --max_new_tokens 3 \\\n",
    "  --dataset_name \"boolq\" \\\n",
    "  --output_csv_path \"../results/boolq/phi_k10_boolq.csv\" \\\n",
    "  --bs_emb 10 \\\n",
    "  --bs_gen 10\\\n",
    "  --top_k 10"
   ]
  },
  {
   "cell_type": "code",
   "execution_count": 1,
   "id": "c77d10df-cd4b-44bc-b03b-7ff3c2124ae0",
   "metadata": {},
   "outputs": [
    {
     "name": "stdout",
     "output_type": "stream",
     "text": [
      "Loading dataset splits for boolq\n",
      "Loading and preparing datasets...\n",
      "Train: 7541\n",
      "Val: 1886\n",
      "Test: 3270\n",
      "Datasets loaded and prepared.\n",
      "Results saved in: ../results/boolq/phi_k10_boolq.csv\n"
     ]
    }
   ],
   "source": [
    "from utils.evaluate_inference import evaluate_answer\n",
    "evaluate_answer('boolq', '../results/boolq/phi_k10_boolq.csv')"
   ]
  },
  {
   "cell_type": "markdown",
   "id": "5b6e24f5-e154-45fe-879a-40a9275e1fac",
   "metadata": {
    "jp-MarkdownHeadingCollapsed": true
   },
   "source": [
    "## Phi FT"
   ]
  },
  {
   "cell_type": "code",
   "execution_count": 3,
   "id": "f7f12e4e-cbfa-4ab7-8965-34958ebe07e4",
   "metadata": {},
   "outputs": [
    {
     "name": "stdout",
     "output_type": "stream",
     "text": [
      "Using device: cuda\n",
      "Loading base model from LoRA adapter: ../models/boolq/adapters/best_phi_2_rag_k1_boolq_2e_10bs\n",
      "Loading checkpoint shards: 100%|██████████████████| 2/2 [00:00<00:00, 18.65it/s]\n",
      "Device set to use cuda:0\n",
      "Loading dataset splits for boolq\n",
      "Loading and preparing datasets...\n",
      "Train: 7541\n",
      "Val: 1886\n",
      "Test: 3270\n",
      "Datasets loaded and prepared.\n",
      "Dataset({\n",
      "    features: ['question', 'answer', 'passage'],\n",
      "    num_rows: 3270\n",
      "})\n",
      "Generating prompts: 100%|████████████████| 3270/3270 [00:00<00:00, 20177.35it/s]\n",
      "Example prompt\n",
      "Instruct: Answer the question based on your knowledge. Answer only \"yes\" or \"no\" .\n",
      "Question:\n",
      "does ethanol take more energy make that produces\n",
      "\n",
      "Output:\n",
      "Processing inference\n",
      "inference completed\n",
      "answer save in ../results/boolq/phi_ft_k10_boolq.csv\n"
     ]
    }
   ],
   "source": [
    "!python ../scripts/inference_rag.py \\\n",
    "  --lora_adapter_path \"../models/boolq/adapters/best_phi_2_rag_k1_boolq_2e_10bs\" \\\n",
    "  --max_new_tokens 3 \\\n",
    "  --dataset_name \"boolq\" \\\n",
    "  --output_csv_path \"../results/boolq/phi_ft_k10_boolq.csv\" \\\n",
    "  --bs_emb 10 \\\n",
    "  --bs_gen 10\\\n",
    "  --top_k 10"
   ]
  },
  {
   "cell_type": "code",
   "execution_count": 4,
   "id": "58ddef80-c420-4b86-a5ed-2ad67efb4a94",
   "metadata": {},
   "outputs": [
    {
     "name": "stdout",
     "output_type": "stream",
     "text": [
      "Loading dataset splits for boolq\n",
      "Loading and preparing datasets...\n",
      "Train: 7541\n",
      "Val: 1886\n",
      "Test: 3270\n",
      "Datasets loaded and prepared.\n",
      "Results saved in: ../results/boolq/phi_ft_k10_boolq.csv\n"
     ]
    }
   ],
   "source": [
    "from utils.evaluate_inference import evaluate_answer\n",
    "evaluate_answer('boolq', '../results/boolq/phi_ft_k10_boolq.csv')"
   ]
  },
  {
   "cell_type": "markdown",
   "id": "c65d1978-4c17-449a-851b-434ac1babc41",
   "metadata": {},
   "source": [
    "## Emb phi"
   ]
  },
  {
   "cell_type": "code",
   "execution_count": 6,
   "id": "f50c3f83-150c-4152-9df5-0d11ba5e5e75",
   "metadata": {
    "scrolled": true
   },
   "outputs": [
    {
     "name": "stdout",
     "output_type": "stream",
     "text": [
      "Using device: cuda\n",
      "Loading base model: microsoft/phi-2\n",
      "Loading checkpoint shards: 100%|██████████████████| 2/2 [00:00<00:00, 18.42it/s]\n",
      "Load model embedding : BAAI/bge-small-en-v1.5\n",
      "Using device: cuda\n",
      "💾 Vector store loaded from../vector_stores/boolq/base_vs_boolq_150_20\n",
      "Device set to use cuda:0\n",
      "Loading dataset splits for boolq\n",
      "Loading and preparing datasets...\n",
      "Train: 7541\n",
      "Val: 1886\n",
      "Test: 3270\n",
      "Datasets loaded and prepared.\n",
      "Dataset({\n",
      "    features: ['question', 'answer', 'passage'],\n",
      "    num_rows: 3270\n",
      "})\n",
      "🔍 Buscando: 100%|████████████████████████████| 327/327 [00:04<00:00, 70.02it/s]\n",
      "Generating prompts: 100%|████████████████| 3270/3270 [00:00<00:00, 16157.92it/s]\n",
      "Example prompt\n",
      "Instruct: You are given a context and a question. Answer only \"yes\" or \"no\" based solely on the information contained in the context. If the context does not provide enough information to answer confidently, answer based on the most likely interpretation from the given text.\n",
      "\n",
      "Context:\n",
      "\n",
      "Document 1:.3 energy units from the resulting ethanol. The energy balance for sugarcane ethanol produced in Brazil is more favorable, with one unit of fossil-fuel energy required to create 8 from the ethanol. Energy balance estimates are not easily produced, thus numerous such reports have been generated that are contradictory. For instance, a separate survey reports that production of ethanol from sugarcane, which requires a tropical climate to grow productively, returns from 8 to 9 units of energy for each unit expended, as compared to corn, which only returns about 1.34 units of fuel energy for each unit of energy expended. A 2006 University of California Berkeley study, after analyzing six separate studies, concluded that producing ethanol from corn uses much less petroleum than producing gasoline.\n",
      "Document 2:All biomass goes through at least some of these steps: it needs to be grown, collected, dried, fermented, distilled, and burned. All of these steps require resources and an infrastructure. The total amount of energy input into the process compared to the energy released by burning the resulting ethanol fuel is known as the energy balance (or ``energy returned on energy invested''). Figures compiled in a 2007 report by National Geographic Magazine point to modest results for corn ethanol produced in the US: one unit of fossil-fuel energy is required to create 1.3 energy units from the resulting ethanol\n",
      "Document 3:.4×10 U.S. gal; 1.1×10 imp gal). From 2007 to 2008, the share of ethanol in global gasoline type fuel use increased from 3.7% to 5.4%. In 2011 worldwide ethanol fuel production reached 8.46×10 liters (2.23×10 U.S. gal; 1.86×10 imp gal) with the United States of America and Brazil being the top producers, accounting for 62.2% and 25% of global production, respectively. US ethanol production reached 57.54×10 liters (1.520×10 U.S. gal; 1.266×10 imp gal) in 2017-04.\n",
      "Document 4:Ethanol fuel is ethyl alcohol, the same type of alcohol found in alcoholic beverages, used as fuel. It is most often used as a motor fuel, mainly as a biofuel additive for gasoline. The first production car running entirely on ethanol was the Fiat 147, introduced in 1978 in Brazil by Fiat. Ethanol is commonly made from biomass such as corn or sugarcane. World ethanol production for transport fuel tripled between 2000 and 2007 from 17×10 liters (4.5×10 U.S. gal; 3.7×10 imp gal) to more than 52×10 liters (1.4×10 U.S. gal; 1.1×10 imp gal)\n",
      "Document 5:Primary producers convert an abiotic source of energy (e.g. light) into energy stored in organic compounds, which can be used by other organisms (e.g. heterotrophs). The primary producers can convert the energy in the light (phototroph and photoautotroph) or the energy in inorganic chemical compounds (chemolithotrophs) to build organic molecules, which is usually accumulated in the form of biomass and will be used as carbon and energy source by other organisms (e.g. heterotrophs and mixotrophs)\n",
      "Document 6:Although showing fermentation to be the result of the action of living microorganisms was a breakthrough, it did not explain the basic nature of the fermentation process, or prove that it is caused by the microorganisms that appear to be always present. Many scientists, including Pasteur, had unsuccessfully attempted to extract the fermentation enzyme from yeast. Success came in 1897 when the German chemist Eduard Buechner ground up yeast, extracted a juice from them, then found to his amazement that this ``dead'' liquid would ferment a sugar solution, forming carbon dioxide and alcohol much like living yeasts. Buechner's results are considered to mark the birth of biochemistry\n",
      "Document 7:. Even proteins, which require the most energy to digest, have a thermic energy of only 20%--30%.\n",
      "Document 8:Wood gasifiers can power either spark ignition engines, where 100% of the normal fuel can be replaced with little change to the carburation, or in a Diesel engine, feeding the gas into the air inlet that is modified to have a throttle valve, if it didn't have it already. On Diesel engines the Diesel fuel is still needed to ignite the gas mixture, so a mechanically regulated Diesel engine's ``stop'' linkage and probably ``throttle'' linkage must be modified to always give the engine a little bit of injected fuel, often under the standard idle per-injection volume. Wood can be used to power cars with ordinary internal combustion engines if a wood gasifier is attached\n",
      "Document 9:. Liquefaction by the Fischer--Tropsch process is another possibility.\n",
      "Document 10:The name of this metabolic pathway is derived from the citric acid (a type of tricarboxylic acid, often called citrate, as the ionized form predominates at biological pH) that is consumed and then regenerated by this sequence of reactions to complete the cycle. The cycle consumes acetate (in the form of acetyl-CoA) and water, reduces NAD to NADH, and produces carbon dioxide as a waste byproduct. The NADH generated by the citric acid cycle is fed into the oxidative phosphorylation (electron transport) pathway. The net result of these two closely linked pathways is the oxidation of nutrients to produce usable chemical energy in the form of ATP\n",
      "\n",
      "Question:\n",
      "does ethanol take more energy make that produces\n",
      "\n",
      "Output:\n",
      "Processing inference\n",
      "inference completed\n",
      "answer save in ../results/boolq/basic_rag_k10_boolq.csv\n"
     ]
    }
   ],
   "source": [
    "!python ../scripts/inference_rag.py \\\n",
    "  --gen_model \"microsoft/phi-2\" \\\n",
    "  --max_new_tokens 3 \\\n",
    "  --vector_store_path \"../vector_stores/boolq/base_vs_boolq_150_20\" \\\n",
    "  --dataset_name \"boolq\" \\\n",
    "  --output_csv_path \"../results/boolq/basic_rag_k10_boolq.csv\" \\\n",
    "  --bs_emb 10 \\\n",
    "  --bs_gen 10\\\n",
    "  --top_k 10 \\\n",
    "  --use_rag"
   ]
  },
  {
   "cell_type": "code",
   "execution_count": 7,
   "id": "8c11f6c6-e695-4e06-883c-51bf2b6d1611",
   "metadata": {
    "scrolled": true
   },
   "outputs": [
    {
     "name": "stdout",
     "output_type": "stream",
     "text": [
      "Loading dataset splits for boolq\n",
      "Loading and preparing datasets...\n",
      "Train: 7541\n",
      "Val: 1886\n",
      "Test: 3270\n",
      "Datasets loaded and prepared.\n",
      "Results saved in: ../results/boolq/basic_rag_k10_boolq.csv\n"
     ]
    }
   ],
   "source": [
    "from utils.evaluate_inference import evaluate_answer\n",
    "evaluate_answer('boolq', '../results/boolq/basic_rag_k10_boolq.csv')"
   ]
  },
  {
   "cell_type": "markdown",
   "id": "489f36f9-4583-4716-af13-2bef48a69193",
   "metadata": {},
   "source": [
    "## Emb ft Phi"
   ]
  },
  {
   "cell_type": "code",
   "execution_count": 8,
   "id": "80b097a3-88fe-4960-ae5a-d543a5d085cc",
   "metadata": {
    "scrolled": true
   },
   "outputs": [
    {
     "name": "stdout",
     "output_type": "stream",
     "text": [
      "Using device: cuda\n",
      "Loading base model: microsoft/phi-2\n",
      "Loading checkpoint shards: 100%|██████████████████| 2/2 [00:00<00:00, 18.17it/s]\n",
      "Load model embedding : ../models/boolq/embedding/bge-small-boolq_10e_128bs\n",
      "Using device: cuda\n",
      "💾 Vector store loaded from../vector_stores/boolq/ft_vs_boolq_150_20\n",
      "Device set to use cuda:0\n",
      "Loading dataset splits for boolq\n",
      "Loading and preparing datasets...\n",
      "Train: 7541\n",
      "Val: 1886\n",
      "Test: 3270\n",
      "Datasets loaded and prepared.\n",
      "Dataset({\n",
      "    features: ['question', 'answer', 'passage'],\n",
      "    num_rows: 3270\n",
      "})\n",
      "🔍 Buscando: 100%|████████████████████████████| 327/327 [00:04<00:00, 69.78it/s]\n",
      "Generating prompts: 100%|████████████████| 3270/3270 [00:00<00:00, 16311.51it/s]\n",
      "Example prompt\n",
      "Instruct: You are given a context and a question. Answer only \"yes\" or \"no\" based solely on the information contained in the context. If the context does not provide enough information to answer confidently, answer based on the most likely interpretation from the given text.\n",
      "\n",
      "Context:\n",
      "\n",
      "Document 1:.4×10 U.S. gal; 1.1×10 imp gal). From 2007 to 2008, the share of ethanol in global gasoline type fuel use increased from 3.7% to 5.4%. In 2011 worldwide ethanol fuel production reached 8.46×10 liters (2.23×10 U.S. gal; 1.86×10 imp gal) with the United States of America and Brazil being the top producers, accounting for 62.2% and 25% of global production, respectively. US ethanol production reached 57.54×10 liters (1.520×10 U.S. gal; 1.266×10 imp gal) in 2017-04.\n",
      "Document 2:All biomass goes through at least some of these steps: it needs to be grown, collected, dried, fermented, distilled, and burned. All of these steps require resources and an infrastructure. The total amount of energy input into the process compared to the energy released by burning the resulting ethanol fuel is known as the energy balance (or ``energy returned on energy invested''). Figures compiled in a 2007 report by National Geographic Magazine point to modest results for corn ethanol produced in the US: one unit of fossil-fuel energy is required to create 1.3 energy units from the resulting ethanol\n",
      "Document 3:Ethanol fuel is ethyl alcohol, the same type of alcohol found in alcoholic beverages, used as fuel. It is most often used as a motor fuel, mainly as a biofuel additive for gasoline. The first production car running entirely on ethanol was the Fiat 147, introduced in 1978 in Brazil by Fiat. Ethanol is commonly made from biomass such as corn or sugarcane. World ethanol production for transport fuel tripled between 2000 and 2007 from 17×10 liters (4.5×10 U.S. gal; 3.7×10 imp gal) to more than 52×10 liters (1.4×10 U.S. gal; 1.1×10 imp gal)\n",
      "Document 4:.3 energy units from the resulting ethanol. The energy balance for sugarcane ethanol produced in Brazil is more favorable, with one unit of fossil-fuel energy required to create 8 from the ethanol. Energy balance estimates are not easily produced, thus numerous such reports have been generated that are contradictory. For instance, a separate survey reports that production of ethanol from sugarcane, which requires a tropical climate to grow productively, returns from 8 to 9 units of energy for each unit expended, as compared to corn, which only returns about 1.34 units of fuel energy for each unit of energy expended. A 2006 University of California Berkeley study, after analyzing six separate studies, concluded that producing ethanol from corn uses much less petroleum than producing gasoline.\n",
      "Document 5:Primary producers convert an abiotic source of energy (e.g. light) into energy stored in organic compounds, which can be used by other organisms (e.g. heterotrophs). The primary producers can convert the energy in the light (phototroph and photoautotroph) or the energy in inorganic chemical compounds (chemolithotrophs) to build organic molecules, which is usually accumulated in the form of biomass and will be used as carbon and energy source by other organisms (e.g. heterotrophs and mixotrophs)\n",
      "Document 6:Historically called white gas (not white spirit), it is a liquid petroleum fuel (100% light hydrotreated distillate) usually sold in one gallon cans in the United States, in Europe it is usually sold in one litre bottles.\n",
      "Document 7:Although showing fermentation to be the result of the action of living microorganisms was a breakthrough, it did not explain the basic nature of the fermentation process, or prove that it is caused by the microorganisms that appear to be always present. Many scientists, including Pasteur, had unsuccessfully attempted to extract the fermentation enzyme from yeast. Success came in 1897 when the German chemist Eduard Buechner ground up yeast, extracted a juice from them, then found to his amazement that this ``dead'' liquid would ferment a sugar solution, forming carbon dioxide and alcohol much like living yeasts. Buechner's results are considered to mark the birth of biochemistry\n",
      "Document 8:However alcoholic beverages cannot be further purified to 0.00% alcohol by volume by distillation. In fact, most beverages labeled non-alcoholic contain 0.5% ABV as it is more profitable than distilling it to 0.05% ABV often found in products sold by companies specializing in non-alcoholic beverages.\n",
      "Document 9:Wood gasifiers can power either spark ignition engines, where 100% of the normal fuel can be replaced with little change to the carburation, or in a Diesel engine, feeding the gas into the air inlet that is modified to have a throttle valve, if it didn't have it already. On Diesel engines the Diesel fuel is still needed to ignite the gas mixture, so a mechanically regulated Diesel engine's ``stop'' linkage and probably ``throttle'' linkage must be modified to always give the engine a little bit of injected fuel, often under the standard idle per-injection volume. Wood can be used to power cars with ordinary internal combustion engines if a wood gasifier is attached\n",
      "Document 10:. Wood can be used to power cars with ordinary internal combustion engines if a wood gasifier is attached. This was quite popular during World War II in several European, African and Asian countries, because the war prevented easy and cost-effective access to oil. In more recent times, wood gas has been suggested as a clean and efficient method to heat and cook in developing countries, or even to produce electricity when combined with an internal combustion engine. Compared to World War II technology, gasifiers have become less dependent on constant attention due to the use of sophisticated electronic control systems, but it remains difficult to get clean gas from them. Purification of the gas and feeding it into natural gas pipelines is one variant to link it to the existing refueling infrastructure\n",
      "\n",
      "Question:\n",
      "does ethanol take more energy make that produces\n",
      "\n",
      "Output:\n",
      "Processing inference\n",
      "inference completed\n",
      "answer save in ../results/boolq/emb_ft_phi_k10_boolq.csv\n"
     ]
    }
   ],
   "source": [
    "!python ../scripts/inference_rag.py \\\n",
    "  --gen_model \"microsoft/phi-2\" \\\n",
    "  --max_new_tokens 3 \\\n",
    "  --vector_store_path \"../vector_stores/boolq/ft_vs_boolq_150_20\" \\\n",
    "  --dataset_name \"boolq\" \\\n",
    "  --output_csv_path \"../results/boolq/emb_ft_phi_k10_boolq.csv\" \\\n",
    "  --bs_emb 10 \\\n",
    "  --bs_gen 10\\\n",
    "  --top_k 10 \\\n",
    "  --use_rag"
   ]
  },
  {
   "cell_type": "code",
   "execution_count": 9,
   "id": "0d318a60-6903-429e-b2ea-01f653ad497a",
   "metadata": {},
   "outputs": [
    {
     "name": "stdout",
     "output_type": "stream",
     "text": [
      "Loading dataset splits for boolq\n",
      "Loading and preparing datasets...\n",
      "Train: 7541\n",
      "Val: 1886\n",
      "Test: 3270\n",
      "Datasets loaded and prepared.\n",
      "Results saved in: ../results/boolq/emb_ft_phi_k10_boolq.csv\n"
     ]
    }
   ],
   "source": [
    "from utils.evaluate_inference import evaluate_answer\n",
    "evaluate_answer('boolq', '../results/boolq/emb_ft_phi_k10_boolq.csv')"
   ]
  },
  {
   "cell_type": "markdown",
   "id": "2074c5ee-38b7-4a15-9bfa-db9eacfaf942",
   "metadata": {},
   "source": [
    "## Emb Phi ft"
   ]
  },
  {
   "cell_type": "code",
   "execution_count": 11,
   "id": "71503c49-75a1-49a7-9c6a-72a5e4789712",
   "metadata": {
    "scrolled": true
   },
   "outputs": [
    {
     "name": "stdout",
     "output_type": "stream",
     "text": [
      "Using device: cuda\n",
      "Loading base model from LoRA adapter: ../models/boolq/adapters/best_phi_2_rag_k1_boolq_2e_10bs\n",
      "Loading checkpoint shards: 100%|██████████████████| 2/2 [00:00<00:00, 18.46it/s]\n",
      "Load model embedding : BAAI/bge-small-en-v1.5\n",
      "Using device: cuda\n",
      "💾 Vector store loaded from../vector_stores/boolq/base_vs_boolq_150_20\n",
      "Device set to use cuda:0\n",
      "Loading dataset splits for boolq\n",
      "Loading and preparing datasets...\n",
      "Train: 7541\n",
      "Val: 1886\n",
      "Test: 3270\n",
      "Datasets loaded and prepared.\n",
      "Dataset({\n",
      "    features: ['question', 'answer', 'passage'],\n",
      "    num_rows: 3270\n",
      "})\n",
      "🔍 Buscando: 100%|████████████████████████████| 327/327 [00:04<00:00, 78.74it/s]\n",
      "Generating prompts: 100%|████████████████| 3270/3270 [00:00<00:00, 16635.42it/s]\n",
      "Example prompt\n",
      "Instruct: You are given a context and a question. Answer only \"yes\" or \"no\" based solely on the information contained in the context. If the context does not provide enough information to answer confidently, answer based on the most likely interpretation from the given text.\n",
      "\n",
      "Context:\n",
      "\n",
      "Document 1:.3 energy units from the resulting ethanol. The energy balance for sugarcane ethanol produced in Brazil is more favorable, with one unit of fossil-fuel energy required to create 8 from the ethanol. Energy balance estimates are not easily produced, thus numerous such reports have been generated that are contradictory. For instance, a separate survey reports that production of ethanol from sugarcane, which requires a tropical climate to grow productively, returns from 8 to 9 units of energy for each unit expended, as compared to corn, which only returns about 1.34 units of fuel energy for each unit of energy expended. A 2006 University of California Berkeley study, after analyzing six separate studies, concluded that producing ethanol from corn uses much less petroleum than producing gasoline.\n",
      "Document 2:All biomass goes through at least some of these steps: it needs to be grown, collected, dried, fermented, distilled, and burned. All of these steps require resources and an infrastructure. The total amount of energy input into the process compared to the energy released by burning the resulting ethanol fuel is known as the energy balance (or ``energy returned on energy invested''). Figures compiled in a 2007 report by National Geographic Magazine point to modest results for corn ethanol produced in the US: one unit of fossil-fuel energy is required to create 1.3 energy units from the resulting ethanol\n",
      "Document 3:.4×10 U.S. gal; 1.1×10 imp gal). From 2007 to 2008, the share of ethanol in global gasoline type fuel use increased from 3.7% to 5.4%. In 2011 worldwide ethanol fuel production reached 8.46×10 liters (2.23×10 U.S. gal; 1.86×10 imp gal) with the United States of America and Brazil being the top producers, accounting for 62.2% and 25% of global production, respectively. US ethanol production reached 57.54×10 liters (1.520×10 U.S. gal; 1.266×10 imp gal) in 2017-04.\n",
      "Document 4:Ethanol fuel is ethyl alcohol, the same type of alcohol found in alcoholic beverages, used as fuel. It is most often used as a motor fuel, mainly as a biofuel additive for gasoline. The first production car running entirely on ethanol was the Fiat 147, introduced in 1978 in Brazil by Fiat. Ethanol is commonly made from biomass such as corn or sugarcane. World ethanol production for transport fuel tripled between 2000 and 2007 from 17×10 liters (4.5×10 U.S. gal; 3.7×10 imp gal) to more than 52×10 liters (1.4×10 U.S. gal; 1.1×10 imp gal)\n",
      "Document 5:Primary producers convert an abiotic source of energy (e.g. light) into energy stored in organic compounds, which can be used by other organisms (e.g. heterotrophs). The primary producers can convert the energy in the light (phototroph and photoautotroph) or the energy in inorganic chemical compounds (chemolithotrophs) to build organic molecules, which is usually accumulated in the form of biomass and will be used as carbon and energy source by other organisms (e.g. heterotrophs and mixotrophs)\n",
      "Document 6:Although showing fermentation to be the result of the action of living microorganisms was a breakthrough, it did not explain the basic nature of the fermentation process, or prove that it is caused by the microorganisms that appear to be always present. Many scientists, including Pasteur, had unsuccessfully attempted to extract the fermentation enzyme from yeast. Success came in 1897 when the German chemist Eduard Buechner ground up yeast, extracted a juice from them, then found to his amazement that this ``dead'' liquid would ferment a sugar solution, forming carbon dioxide and alcohol much like living yeasts. Buechner's results are considered to mark the birth of biochemistry\n",
      "Document 7:. Even proteins, which require the most energy to digest, have a thermic energy of only 20%--30%.\n",
      "Document 8:Wood gasifiers can power either spark ignition engines, where 100% of the normal fuel can be replaced with little change to the carburation, or in a Diesel engine, feeding the gas into the air inlet that is modified to have a throttle valve, if it didn't have it already. On Diesel engines the Diesel fuel is still needed to ignite the gas mixture, so a mechanically regulated Diesel engine's ``stop'' linkage and probably ``throttle'' linkage must be modified to always give the engine a little bit of injected fuel, often under the standard idle per-injection volume. Wood can be used to power cars with ordinary internal combustion engines if a wood gasifier is attached\n",
      "Document 9:. Liquefaction by the Fischer--Tropsch process is another possibility.\n",
      "Document 10:The name of this metabolic pathway is derived from the citric acid (a type of tricarboxylic acid, often called citrate, as the ionized form predominates at biological pH) that is consumed and then regenerated by this sequence of reactions to complete the cycle. The cycle consumes acetate (in the form of acetyl-CoA) and water, reduces NAD to NADH, and produces carbon dioxide as a waste byproduct. The NADH generated by the citric acid cycle is fed into the oxidative phosphorylation (electron transport) pathway. The net result of these two closely linked pathways is the oxidation of nutrients to produce usable chemical energy in the form of ATP\n",
      "\n",
      "Question:\n",
      "does ethanol take more energy make that produces\n",
      "\n",
      "Output:\n",
      "Processing inference\n",
      "inference completed\n",
      "answer save in ../results/boolq/emb_phi_ft_k10_boolq.csv\n"
     ]
    }
   ],
   "source": [
    "!python ../scripts/inference_rag.py \\\n",
    "  --lora_adapter_path \"../models/boolq/adapters/best_phi_2_rag_k1_boolq_2e_10bs\" \\\n",
    "  --max_new_tokens 3 \\\n",
    "  --vector_store_path \"../vector_stores/boolq/base_vs_boolq_150_20\" \\\n",
    "  --dataset_name \"boolq\" \\\n",
    "  --output_csv_path \"../results/boolq/emb_phi_ft_k10_boolq.csv\" \\\n",
    "  --bs_emb 10 \\\n",
    "  --bs_gen 10\\\n",
    "  --top_k 10 \\\n",
    "  --use_rag"
   ]
  },
  {
   "cell_type": "code",
   "execution_count": 12,
   "id": "dc864021-7721-4a60-99ad-78cb8cc72c8f",
   "metadata": {},
   "outputs": [
    {
     "name": "stdout",
     "output_type": "stream",
     "text": [
      "Loading dataset splits for boolq\n",
      "Loading and preparing datasets...\n",
      "Train: 7541\n",
      "Val: 1886\n",
      "Test: 3270\n",
      "Datasets loaded and prepared.\n",
      "Results saved in: ../results/boolq/emb_phi_ft_k10_boolq.csv\n"
     ]
    }
   ],
   "source": [
    "from utils.evaluate_inference import evaluate_answer\n",
    "evaluate_answer('boolq', '../results/boolq/emb_phi_ft_k10_boolq.csv')"
   ]
  },
  {
   "cell_type": "code",
   "execution_count": 13,
   "id": "08dc2721-76e9-4ac8-9836-1b7f3c0a7a12",
   "metadata": {},
   "outputs": [
    {
     "name": "stdout",
     "output_type": "stream",
     "text": [
      "Loading dataset splits for boolq\n",
      "Loading and preparing datasets...\n",
      "Train: 7541\n",
      "Val: 1886\n",
      "Test: 3270\n",
      "Datasets loaded and prepared.\n",
      "Results saved in: ../results/boolq/full_ft_k10_boolq.csv\n"
     ]
    }
   ],
   "source": [
    "from utils.evaluate_inference import evaluate_answer\n",
    "evaluate_answer('boolq', '../results/boolq/full_ft_k10_boolq.csv')"
   ]
  },
  {
   "cell_type": "code",
   "execution_count": null,
   "id": "91cc016e-4845-4321-a3e8-6de2e7c5e811",
   "metadata": {},
   "outputs": [],
   "source": []
  }
 ],
 "metadata": {
  "kernelspec": {
   "display_name": "Python 3.10 (env_sbbd)",
   "language": "python",
   "name": "env_sbbd"
  },
  "language_info": {
   "codemirror_mode": {
    "name": "ipython",
    "version": 3
   },
   "file_extension": ".py",
   "mimetype": "text/x-python",
   "name": "python",
   "nbconvert_exporter": "python",
   "pygments_lexer": "ipython3",
   "version": "3.10.14"
  }
 },
 "nbformat": 4,
 "nbformat_minor": 5
}
