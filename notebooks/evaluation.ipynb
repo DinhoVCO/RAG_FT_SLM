{
 "cells": [
  {
   "cell_type": "markdown",
   "id": "28536608-df86-4e14-8310-51f4aeef20d0",
   "metadata": {},
   "source": [
    "## Evaluation "
   ]
  },
  {
   "cell_type": "code",
   "execution_count": 4,
   "id": "a881ea43-fb53-4380-ab17-64700e1288c5",
   "metadata": {},
   "outputs": [
    {
     "name": "stdout",
     "output_type": "stream",
     "text": [
      "Loading dataset splits for covid\n",
      "Train: 1292\n",
      "Val: 323\n",
      "Test: 404\n",
      "Datasets loaded and prepared.\n"
     ]
    }
   ],
   "source": [
    "import sys\n",
    "from utils.datasets_splits import load_dataset_splits\n",
    "train_ds, val_ds, test_ds = load_dataset_splits('covid')"
   ]
  },
  {
   "cell_type": "code",
   "execution_count": 18,
   "id": "abef4b6a-2f4e-4278-b508-7e1bafaf3387",
   "metadata": {},
   "outputs": [],
   "source": [
    "def get_answer(row):\n",
    "    ans = row['answers']['text'][0]\n",
    "    return {\"answer\": ans}"
   ]
  },
  {
   "cell_type": "code",
   "execution_count": 19,
   "id": "428899de-a950-4e43-8cb5-fa4591a4afcb",
   "metadata": {},
   "outputs": [
    {
     "data": {
      "application/vnd.jupyter.widget-view+json": {
       "model_id": "a6169198533e46f8a25be1530739a9dc",
       "version_major": 2,
       "version_minor": 0
      },
      "text/plain": [
       "Map:   0%|          | 0/404 [00:00<?, ? examples/s]"
      ]
     },
     "metadata": {},
     "output_type": "display_data"
    }
   ],
   "source": [
    "test_ds =test_ds.map(get_answer)"
   ]
  },
  {
   "cell_type": "code",
   "execution_count": 20,
   "id": "1bd507f3-7ec2-45c8-8e01-b9cf80f0d3e2",
   "metadata": {},
   "outputs": [
    {
     "data": {
      "text/plain": [
       "Dataset({\n",
       "    features: ['document_id', 'context', 'question', 'is_impossible', 'id', 'answers', 'answer'],\n",
       "    num_rows: 404\n",
       "})"
      ]
     },
     "execution_count": 20,
     "metadata": {},
     "output_type": "execute_result"
    }
   ],
   "source": [
    "test_ds"
   ]
  },
  {
   "cell_type": "code",
   "execution_count": 33,
   "id": "aaa2182d-a216-4b47-bc2d-4360b198e119",
   "metadata": {},
   "outputs": [],
   "source": [
    "import pandas as pd\n",
    "df = pd.read_csv(\"../results/covid/full_ft_covid.csv\")"
   ]
  },
  {
   "cell_type": "code",
   "execution_count": 34,
   "id": "12fe4c63-9757-4786-8c6f-2ce3577ba805",
   "metadata": {},
   "outputs": [
    {
     "data": {
      "text/html": [
       "<div>\n",
       "<style scoped>\n",
       "    .dataframe tbody tr th:only-of-type {\n",
       "        vertical-align: middle;\n",
       "    }\n",
       "\n",
       "    .dataframe tbody tr th {\n",
       "        vertical-align: top;\n",
       "    }\n",
       "\n",
       "    .dataframe thead th {\n",
       "        text-align: right;\n",
       "    }\n",
       "</style>\n",
       "<table border=\"1\" class=\"dataframe\">\n",
       "  <thead>\n",
       "    <tr style=\"text-align: right;\">\n",
       "      <th></th>\n",
       "      <th>inference</th>\n",
       "    </tr>\n",
       "  </thead>\n",
       "  <tbody>\n",
       "    <tr>\n",
       "      <th>0</th>\n",
       "      <td>\\nthe ion channel activity of the 3a protein i...</td>\n",
       "    </tr>\n",
       "    <tr>\n",
       "      <th>1</th>\n",
       "      <td>\\nMycoplasma mycoides by systematic deletion o...</td>\n",
       "    </tr>\n",
       "    <tr>\n",
       "      <th>2</th>\n",
       "      <td>\\nLandscape fragmentation produces ecotones, d...</td>\n",
       "    </tr>\n",
       "    <tr>\n",
       "      <th>3</th>\n",
       "      <td>\\nwestern blotting using 4 to 15% TGX gel and ...</td>\n",
       "    </tr>\n",
       "    <tr>\n",
       "      <th>4</th>\n",
       "      <td>\\nWetsman [26] acknowledges that there is a la...</td>\n",
       "    </tr>\n",
       "    <tr>\n",
       "      <th>...</th>\n",
       "      <td>...</td>\n",
       "    </tr>\n",
       "    <tr>\n",
       "      <th>399</th>\n",
       "      <td>\\nthe proliferation, migration and differentia...</td>\n",
       "    </tr>\n",
       "    <tr>\n",
       "      <th>400</th>\n",
       "      <td>\\nself-limiting upper respiratory infections i...</td>\n",
       "    </tr>\n",
       "    <tr>\n",
       "      <th>401</th>\n",
       "      <td>\\nInfluenza vaccination during pregnancy is sa...</td>\n",
       "    </tr>\n",
       "    <tr>\n",
       "      <th>402</th>\n",
       "      <td>\\nneuroimaging including full neurological exa...</td>\n",
       "    </tr>\n",
       "    <tr>\n",
       "      <th>403</th>\n",
       "      <td>\\n30% (Argentina), 36% (Chile) and 39% (Brazil...</td>\n",
       "    </tr>\n",
       "  </tbody>\n",
       "</table>\n",
       "<p>404 rows × 1 columns</p>\n",
       "</div>"
      ],
      "text/plain": [
       "                                             inference\n",
       "0    \\nthe ion channel activity of the 3a protein i...\n",
       "1    \\nMycoplasma mycoides by systematic deletion o...\n",
       "2    \\nLandscape fragmentation produces ecotones, d...\n",
       "3    \\nwestern blotting using 4 to 15% TGX gel and ...\n",
       "4    \\nWetsman [26] acknowledges that there is a la...\n",
       "..                                                 ...\n",
       "399  \\nthe proliferation, migration and differentia...\n",
       "400  \\nself-limiting upper respiratory infections i...\n",
       "401  \\nInfluenza vaccination during pregnancy is sa...\n",
       "402  \\nneuroimaging including full neurological exa...\n",
       "403  \\n30% (Argentina), 36% (Chile) and 39% (Brazil...\n",
       "\n",
       "[404 rows x 1 columns]"
      ]
     },
     "execution_count": 34,
     "metadata": {},
     "output_type": "execute_result"
    }
   ],
   "source": [
    "df"
   ]
  },
  {
   "cell_type": "code",
   "execution_count": 35,
   "id": "9a7fb7a6-6a1e-4fd1-83af-1ae7e6175977",
   "metadata": {},
   "outputs": [],
   "source": [
    "lista = df[\"inference\"].tolist()"
   ]
  },
  {
   "cell_type": "code",
   "execution_count": 36,
   "id": "9220ced3-e59a-4596-81aa-79332941a1c2",
   "metadata": {},
   "outputs": [
    {
     "data": {
      "text/plain": [
       "'\\nthe ion channel activity of the 3a protein is essential for 3a-mediated IL-1β secretion. While cells uninfected or infected with a lentivirus expressing a 3a protein defective in ion channel activity expressed NLRP3 uniformly throughout the cytoplasm, NLRP3 was redistributed to the perinuclear space in cells infected with a lentivirus expressing the 3a'"
      ]
     },
     "execution_count": 36,
     "metadata": {},
     "output_type": "execute_result"
    }
   ],
   "source": [
    "lista[0]"
   ]
  },
  {
   "cell_type": "code",
   "execution_count": 37,
   "id": "ec4d40d9-43a6-4658-88f8-59624244b691",
   "metadata": {},
   "outputs": [
    {
     "data": {
      "text/plain": [
       "'ion channel activity of the 3a protein'"
      ]
     },
     "execution_count": 37,
     "metadata": {},
     "output_type": "execute_result"
    }
   ],
   "source": [
    "test_ds[0]['answer']"
   ]
  },
  {
   "cell_type": "code",
   "execution_count": 47,
   "id": "9ef09b1d-aad1-43c5-b6e6-1491d8aecc73",
   "metadata": {},
   "outputs": [
    {
     "data": {
      "text/plain": [
       "0.4324227075463214"
      ]
     },
     "execution_count": 47,
     "metadata": {},
     "output_type": "execute_result"
    }
   ],
   "source": [
    "from ragas.dataset_schema import SingleTurnSample\n",
    "from ragas.metrics import BleuScore\n",
    "from ragas.metrics import RougeScore\n",
    "from ragas.metrics import ExactMatch\n",
    "sample = SingleTurnSample(\n",
    "    response=lista[0],\n",
    "    reference=test_ds[0]['answer']\n",
    ")\n",
    "\n",
    "scorer = BleuScore()\n",
    "await scorer.single_turn_ascore(sample)"
   ]
  },
  {
   "cell_type": "code",
   "execution_count": 44,
   "id": "8f5c5c6d-c1ec-432b-ad41-ca5b347eaa8f",
   "metadata": {},
   "outputs": [
    {
     "data": {
      "text/plain": [
       "0.22580645161290322"
      ]
     },
     "execution_count": 44,
     "metadata": {},
     "output_type": "execute_result"
    }
   ],
   "source": [
    "scorer2 = RougeScore()\n",
    "await scorer2.single_turn_ascore(sample)"
   ]
  },
  {
   "cell_type": "code",
   "execution_count": 48,
   "id": "bcead5d2-ead9-438f-869f-36ecbd3b0cee",
   "metadata": {},
   "outputs": [
    {
     "data": {
      "text/plain": [
       "0.0"
      ]
     },
     "execution_count": 48,
     "metadata": {},
     "output_type": "execute_result"
    }
   ],
   "source": [
    "scorer3 = ExactMatch()\n",
    "await scorer3.single_turn_ascore(sample)"
   ]
  },
  {
   "cell_type": "code",
   "execution_count": 45,
   "id": "2f652a64-d48f-4062-9db3-5f788d118c9b",
   "metadata": {},
   "outputs": [],
   "source": [
    "from rouge_score import rouge_scorer\n",
    "\n",
    "scorer = rouge_scorer.RougeScorer(['rouge1', 'rougeL'], use_stemmer=True)\n",
    "scores = scorer.score(lista[0],\n",
    "                      test_ds[0]['answer'])"
   ]
  },
  {
   "cell_type": "code",
   "execution_count": 46,
   "id": "313a417b-732a-43f4-89e8-7e78ff2549d7",
   "metadata": {},
   "outputs": [
    {
     "data": {
      "text/plain": [
       "{'rouge1': Score(precision=1.0, recall=0.12727272727272726, fmeasure=0.22580645161290322),\n",
       " 'rougeL': Score(precision=1.0, recall=0.12727272727272726, fmeasure=0.22580645161290322)}"
      ]
     },
     "execution_count": 46,
     "metadata": {},
     "output_type": "execute_result"
    }
   ],
   "source": [
    "scores"
   ]
  },
  {
   "cell_type": "markdown",
   "id": "5539e521-a1f2-491f-8d49-99da94c2295b",
   "metadata": {},
   "source": [
    "https://docs.ragas.io/en/stable/concepts/metrics/available_metrics/traditional/#bleu-score"
   ]
  },
  {
   "cell_type": "code",
   "execution_count": 11,
   "id": "3cca1ff7-6688-4fde-a6a1-db5a07d3e4af",
   "metadata": {},
   "outputs": [
    {
     "data": {
      "text/plain": [
       "{'rouge1': Score(precision=1.0, recall=1.0, fmeasure=1.0),\n",
       " 'rougeL': Score(precision=1.0, recall=1.0, fmeasure=1.0)}"
      ]
     },
     "execution_count": 11,
     "metadata": {},
     "output_type": "execute_result"
    }
   ],
   "source": [
    "from rouge_score import rouge_scorer\n",
    "\n",
    "scorer = rouge_scorer.RougeScorer(['rouge1', 'rougeL'], use_stemmer=True)\n",
    "scores = scorer.score(\"\\nhello world\\n\",\n",
    "                      \"Hello world\")\n",
    "scores"
   ]
  },
  {
   "cell_type": "code",
   "execution_count": null,
   "id": "1b8084a9-aa55-416b-9c6f-0eea4cf6af46",
   "metadata": {},
   "outputs": [],
   "source": []
  }
 ],
 "metadata": {
  "kernelspec": {
   "display_name": "Python 3.10 (env_sbbd)",
   "language": "python",
   "name": "env_sbbd"
  },
  "language_info": {
   "codemirror_mode": {
    "name": "ipython",
    "version": 3
   },
   "file_extension": ".py",
   "mimetype": "text/x-python",
   "name": "python",
   "nbconvert_exporter": "python",
   "pygments_lexer": "ipython3",
   "version": "3.10.14"
  }
 },
 "nbformat": 4,
 "nbformat_minor": 5
}
