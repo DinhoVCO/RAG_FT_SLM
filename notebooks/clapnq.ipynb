{
 "cells": [
  {
   "cell_type": "markdown",
   "id": "139c38c8-8865-439a-af75-9f3520fed08e",
   "metadata": {},
   "source": [
    "# ClapNQ"
   ]
  },
  {
   "cell_type": "markdown",
   "id": "b7b68689-7554-49d5-b7e5-13132ffcc2f6",
   "metadata": {},
   "source": [
    "## Create vector store"
   ]
  },
  {
   "cell_type": "code",
   "execution_count": 2,
   "id": "2ac6ad01-3256-4d7e-a79c-5c95f50e4865",
   "metadata": {},
   "outputs": [
    {
     "name": "stdout",
     "output_type": "stream",
     "text": [
      "Load model embedding\n",
      "Using device: cuda\n",
      "  0%|                                     | 332/178890 [00:00<03:35, 828.38it/s]Token indices sequence length is longer than the specified maximum sequence length for this model (571 > 512). Running this sequence through the model will result in indexing errors\n",
      "100%|██████████████████████████████████| 178890/178890 [04:22<00:00, 681.81it/s]\n",
      "Total number of passages: 263742\n",
      "Removing duplicate passages\n",
      "Total number of passages created: 261999\n",
      "Creating vector store\n",
      "Generando embeddings: 100%|███████████████████| 256/256 [03:46<00:00,  1.13it/s]\n",
      "✅ Índice FAISS creado exitosamente.\n",
      "💾 Vector store guardado en ../vector_stores/clapnq/base_vector_store_clapnq\n"
     ]
    }
   ],
   "source": [
    "!python ../scripts/create_vector_store.py \\\n",
    "  --dataset \"clapnq\" \\\n",
    "  --emb_model \"BAAI/bge-small-en-v1.5\" \\\n",
    "  --cs 150 \\\n",
    "  --co 20 \\\n",
    "  --bs_emb 1024 \\\n",
    "  --output_dir \"../vector_stores/clapnq/base_\""
   ]
  },
  {
   "cell_type": "markdown",
   "id": "adf71a69-bd74-48b7-9b57-04ad88cf4d0d",
   "metadata": {},
   "source": [
    "## Train Embedding"
   ]
  },
  {
   "cell_type": "code",
   "execution_count": 3,
   "id": "6964965f-2990-4842-813d-eea54a0c2118",
   "metadata": {
    "scrolled": true
   },
   "outputs": [
    {
     "name": "stdout",
     "output_type": "stream",
     "text": [
      "\u001b[34m\u001b[1mwandb\u001b[0m: Currently logged in as: \u001b[33mdinho15971\u001b[0m (\u001b[33mdinho15971-unicamp\u001b[0m) to \u001b[32mhttps://api.wandb.ai\u001b[0m. Use \u001b[1m`wandb login --relogin`\u001b[0m to force relogin\n",
      "Starting main process...\n",
      "Loading and preparing datasets...\n",
      "Datasets loaded and prepared.\n",
      "Creating evaluator...\n",
      "Evaluator created.\n",
      "\u001b[34m\u001b[1mwandb\u001b[0m: Tracking run with wandb version 0.19.10\n",
      "\u001b[34m\u001b[1mwandb\u001b[0m: Run data is saved locally in \u001b[35m\u001b[1m/local1/ronaldinho/projects/FinalSBBD/notebooks/wandb/run-20250427_035145-q59lpj9i\u001b[0m\n",
      "\u001b[34m\u001b[1mwandb\u001b[0m: Run \u001b[1m`wandb offline`\u001b[0m to turn off syncing.\n",
      "\u001b[34m\u001b[1mwandb\u001b[0m: Syncing run \u001b[33mbge-small-clapnq_10e_128bs\u001b[0m\n",
      "\u001b[34m\u001b[1mwandb\u001b[0m: ⭐️ View project at \u001b[34m\u001b[4mhttps://wandb.ai/dinho15971-unicamp/SBBD_embeddings\u001b[0m\n",
      "\u001b[34m\u001b[1mwandb\u001b[0m: 🚀 View run at \u001b[34m\u001b[4mhttps://wandb.ai/dinho15971-unicamp/SBBD_embeddings/runs/q59lpj9i\u001b[0m\n",
      "Loading model: BAAI/bge-small-en-v1.5\n",
      "Model and loss function initialized.\n",
      "Configuring training arguments...\n",
      "Training arguments configured.\n",
      "Starting training process...\n",
      "{'loss': 0.7902, 'grad_norm': 3.0498416423797607, 'learning_rate': 2.916666666666667e-05, 'epoch': 0.62}\n",
      "  6%|██▋                                       | 15/240 [00:08<01:58,  1.89it/s]\n",
      "  0%|                                                     | 0/6 [00:00<?, ?it/s]\u001b[A\n",
      " 33%|███████████████                              | 2/6 [00:00<00:00, 11.10it/s]\u001b[A\n",
      " 67%|██████████████████████████████               | 4/6 [00:00<00:00,  6.95it/s]\u001b[A\n",
      " 83%|█████████████████████████████████████▌       | 5/6 [00:00<00:00,  6.59it/s]\u001b[A\n",
      "                                                                                \u001b[A\n",
      "\u001b[A{'eval_loss': 0.29546788334846497, 'eval_telecom-ir-eval_cosine_accuracy@1': 0.8811748998664887, 'eval_telecom-ir-eval_cosine_accuracy@3': 0.9546061415220294, 'eval_telecom-ir-eval_cosine_accuracy@5': 0.965287049399199, 'eval_telecom-ir-eval_cosine_accuracy@10': 0.9746328437917223, 'eval_telecom-ir-eval_cosine_precision@1': 0.8811748998664887, 'eval_telecom-ir-eval_cosine_recall@1': 0.8811748998664887, 'eval_telecom-ir-eval_cosine_ndcg@10': 0.9333752096209034, 'eval_telecom-ir-eval_cosine_mrr@3': 0.9158878504672897, 'eval_telecom-ir-eval_cosine_mrr@5': 0.9184245660881176, 'eval_telecom-ir-eval_cosine_mrr@10': 0.9196108038230867, 'eval_telecom-ir-eval_cosine_map@100': 0.9204468370327156, 'eval_runtime': 2.119, 'eval_samples_per_second': 353.472, 'eval_steps_per_second': 2.832, 'epoch': 0.62}\n",
      "  6%|██▋                                       | 15/240 [00:10<01:58,  1.89it/s]\n",
      "100%|█████████████████████████████████████████████| 6/6 [00:02<00:00,  6.79it/s]\u001b[A\n",
      "{'loss': 0.2904, 'grad_norm': 1.840076208114624, 'learning_rate': 4.993392291751431e-05, 'epoch': 1.25}\n",
      " 12%|█████▎                                    | 30/240 [00:18<01:50,  1.90it/s]\n",
      "  0%|                                                     | 0/6 [00:00<?, ?it/s]\u001b[A\n",
      " 33%|███████████████                              | 2/6 [00:00<00:00, 11.38it/s]\u001b[A\n",
      " 67%|██████████████████████████████               | 4/6 [00:00<00:00,  7.03it/s]\u001b[A\n",
      " 83%|█████████████████████████████████████▌       | 5/6 [00:00<00:00,  6.63it/s]\u001b[A\n",
      "                                                                                \u001b[A\n",
      "\u001b[A{'eval_loss': 0.18552523851394653, 'eval_telecom-ir-eval_cosine_accuracy@1': 0.8945260347129506, 'eval_telecom-ir-eval_cosine_accuracy@3': 0.9586114819759679, 'eval_telecom-ir-eval_cosine_accuracy@5': 0.9692923898531375, 'eval_telecom-ir-eval_cosine_accuracy@10': 0.9773030707610146, 'eval_telecom-ir-eval_cosine_precision@1': 0.8945260347129506, 'eval_telecom-ir-eval_cosine_recall@1': 0.8945260347129506, 'eval_telecom-ir-eval_cosine_ndcg@10': 0.94114965948078, 'eval_telecom-ir-eval_cosine_mrr@3': 0.9256786826880286, 'eval_telecom-ir-eval_cosine_mrr@5': 0.9280818869603917, 'eval_telecom-ir-eval_cosine_mrr@10': 0.9290864009155065, 'eval_telecom-ir-eval_cosine_map@100': 0.9297565081575438, 'eval_runtime': 2.1031, 'eval_samples_per_second': 356.133, 'eval_steps_per_second': 2.853, 'epoch': 1.25}\n",
      " 12%|█████▎                                    | 30/240 [00:20<01:50,  1.90it/s]\n",
      "100%|█████████████████████████████████████████████| 6/6 [00:02<00:00,  6.82it/s]\u001b[A\n",
      "{'loss': 0.1791, 'grad_norm': 1.6475026607513428, 'learning_rate': 4.894973780788722e-05, 'epoch': 1.88}\n",
      " 19%|███████▉                                  | 45/240 [00:29<01:44,  1.86it/s]\n",
      "  0%|                                                     | 0/6 [00:00<?, ?it/s]\u001b[A\n",
      " 33%|███████████████                              | 2/6 [00:00<00:00, 11.17it/s]\u001b[A\n",
      " 67%|██████████████████████████████               | 4/6 [00:00<00:00,  6.98it/s]\u001b[A\n",
      " 83%|█████████████████████████████████████▌       | 5/6 [00:00<00:00,  6.59it/s]\u001b[A\n",
      "                                                                                \u001b[A\n",
      "\u001b[A{'eval_loss': 0.16940245032310486, 'eval_telecom-ir-eval_cosine_accuracy@1': 0.9038718291054739, 'eval_telecom-ir-eval_cosine_accuracy@3': 0.9639519359145527, 'eval_telecom-ir-eval_cosine_accuracy@5': 0.9692923898531375, 'eval_telecom-ir-eval_cosine_accuracy@10': 0.9799732977303071, 'eval_telecom-ir-eval_cosine_precision@1': 0.9038718291054739, 'eval_telecom-ir-eval_cosine_recall@1': 0.9038718291054739, 'eval_telecom-ir-eval_cosine_ndcg@10': 0.9464048037483197, 'eval_telecom-ir-eval_cosine_mrr@3': 0.9323542501112594, 'eval_telecom-ir-eval_cosine_mrr@5': 0.9336226079216733, 'eval_telecom-ir-eval_cosine_mrr@10': 0.9352014325979611, 'eval_telecom-ir-eval_cosine_map@100': 0.9356677311725219, 'eval_runtime': 2.1249, 'eval_samples_per_second': 352.481, 'eval_steps_per_second': 2.824, 'epoch': 1.88}\n",
      " 19%|███████▉                                  | 45/240 [00:31<01:44,  1.86it/s]\n",
      "100%|█████████████████████████████████████████████| 6/6 [00:02<00:00,  6.76it/s]\u001b[A\n",
      "{'loss': 0.1083, 'grad_norm': 1.2240256071090698, 'learning_rate': 4.68301438693049e-05, 'epoch': 2.5}\n",
      " 25%|██████████▌                               | 60/240 [00:39<01:38,  1.82it/s]\n",
      "  0%|                                                     | 0/6 [00:00<?, ?it/s]\u001b[A\n",
      " 33%|███████████████                              | 2/6 [00:00<00:00, 11.16it/s]\u001b[A\n",
      " 67%|██████████████████████████████               | 4/6 [00:00<00:00,  6.66it/s]\u001b[A\n",
      " 83%|█████████████████████████████████████▌       | 5/6 [00:00<00:00,  6.37it/s]\u001b[A\n",
      "                                                                                \u001b[A\n",
      "\u001b[A{'eval_loss': 0.16659584641456604, 'eval_telecom-ir-eval_cosine_accuracy@1': 0.9065420560747663, 'eval_telecom-ir-eval_cosine_accuracy@3': 0.965287049399199, 'eval_telecom-ir-eval_cosine_accuracy@5': 0.9706275033377837, 'eval_telecom-ir-eval_cosine_accuracy@10': 0.9799732977303071, 'eval_telecom-ir-eval_cosine_precision@1': 0.9065420560747663, 'eval_telecom-ir-eval_cosine_recall@1': 0.9065420560747663, 'eval_telecom-ir-eval_cosine_ndcg@10': 0.9475237751166912, 'eval_telecom-ir-eval_cosine_mrr@3': 0.934134401424121, 'eval_telecom-ir-eval_cosine_mrr@5': 0.9353360035603026, 'eval_telecom-ir-eval_cosine_mrr@10': 0.9366923093224826, 'eval_telecom-ir-eval_cosine_map@100': 0.937246239395107, 'eval_runtime': 2.1322, 'eval_samples_per_second': 351.275, 'eval_steps_per_second': 2.814, 'epoch': 2.5}\n",
      " 25%|██████████▌                               | 60/240 [00:41<01:38,  1.82it/s]\n",
      "100%|█████████████████████████████████████████████| 6/6 [00:02<00:00,  6.59it/s]\u001b[A\n",
      "{'loss': 0.0824, 'grad_norm': 0.9245112538337708, 'learning_rate': 4.36756267810249e-05, 'epoch': 3.12}\n",
      " 31%|█████████████▏                            | 75/240 [00:49<01:24,  1.95it/s]\n",
      "  0%|                                                     | 0/6 [00:00<?, ?it/s]\u001b[A\n",
      " 33%|███████████████                              | 2/6 [00:00<00:00, 11.22it/s]\u001b[A\n",
      " 67%|██████████████████████████████               | 4/6 [00:00<00:00,  6.93it/s]\u001b[A\n",
      " 83%|█████████████████████████████████████▌       | 5/6 [00:00<00:00,  6.52it/s]\u001b[A\n",
      "                                                                                \u001b[A\n",
      "\u001b[A{'eval_loss': 0.1648896187543869, 'eval_telecom-ir-eval_cosine_accuracy@1': 0.8998664886515354, 'eval_telecom-ir-eval_cosine_accuracy@3': 0.965287049399199, 'eval_telecom-ir-eval_cosine_accuracy@5': 0.9746328437917223, 'eval_telecom-ir-eval_cosine_accuracy@10': 0.9826435246995995, 'eval_telecom-ir-eval_cosine_precision@1': 0.8998664886515354, 'eval_telecom-ir-eval_cosine_recall@1': 0.8998664886515354, 'eval_telecom-ir-eval_cosine_ndcg@10': 0.9460943136335449, 'eval_telecom-ir-eval_cosine_mrr@3': 0.9307966177125057, 'eval_telecom-ir-eval_cosine_mrr@5': 0.9329327992879395, 'eval_telecom-ir-eval_cosine_mrr@10': 0.933911352703075, 'eval_telecom-ir-eval_cosine_map@100': 0.9342169325915936, 'eval_runtime': 2.1221, 'eval_samples_per_second': 352.952, 'eval_steps_per_second': 2.827, 'epoch': 3.12}\n",
      " 31%|█████████████▏                            | 75/240 [00:52<01:24,  1.95it/s]\n",
      "100%|█████████████████████████████████████████████| 6/6 [00:02<00:00,  6.69it/s]\u001b[A\n",
      "{'loss': 0.0565, 'grad_norm': 0.9251174330711365, 'learning_rate': 3.963573584424852e-05, 'epoch': 3.75}\n",
      " 38%|███████████████▊                          | 90/240 [01:00<01:21,  1.83it/s]\n",
      "  0%|                                                     | 0/6 [00:00<?, ?it/s]\u001b[A\n",
      " 33%|███████████████                              | 2/6 [00:00<00:00, 11.07it/s]\u001b[A\n",
      " 67%|██████████████████████████████               | 4/6 [00:00<00:00,  6.86it/s]\u001b[A\n",
      " 83%|█████████████████████████████████████▌       | 5/6 [00:00<00:00,  6.28it/s]\u001b[A\n",
      "                                                                                \u001b[A\n",
      "\u001b[A{'eval_loss': 0.1664600819349289, 'eval_telecom-ir-eval_cosine_accuracy@1': 0.8998664886515354, 'eval_telecom-ir-eval_cosine_accuracy@3': 0.9626168224299065, 'eval_telecom-ir-eval_cosine_accuracy@5': 0.9706275033377837, 'eval_telecom-ir-eval_cosine_accuracy@10': 0.9799732977303071, 'eval_telecom-ir-eval_cosine_precision@1': 0.8998664886515354, 'eval_telecom-ir-eval_cosine_recall@1': 0.8998664886515354, 'eval_telecom-ir-eval_cosine_ndcg@10': 0.9444569047531756, 'eval_telecom-ir-eval_cosine_mrr@3': 0.9294615042278594, 'eval_telecom-ir-eval_cosine_mrr@5': 0.9313306631063641, 'eval_telecom-ir-eval_cosine_mrr@10': 0.9326228622290038, 'eval_telecom-ir-eval_cosine_map@100': 0.9331624742472864, 'eval_runtime': 2.1449, 'eval_samples_per_second': 349.195, 'eval_steps_per_second': 2.797, 'epoch': 3.75}\n",
      " 38%|███████████████▊                          | 90/240 [01:02<01:21,  1.83it/s]\n",
      "100%|█████████████████████████████████████████████| 6/6 [00:02<00:00,  6.52it/s]\u001b[A\n",
      "{'loss': 0.0438, 'grad_norm': 0.29182249307632446, 'learning_rate': 3.490199415097892e-05, 'epoch': 4.38}\n",
      " 44%|█████████████████▉                       | 105/240 [01:11<01:13,  1.85it/s]\n",
      "  0%|                                                     | 0/6 [00:00<?, ?it/s]\u001b[A\n",
      " 33%|███████████████                              | 2/6 [00:00<00:00, 11.14it/s]\u001b[A\n",
      " 67%|██████████████████████████████               | 4/6 [00:00<00:00,  6.88it/s]\u001b[A\n",
      " 83%|█████████████████████████████████████▌       | 5/6 [00:00<00:00,  6.47it/s]\u001b[A\n",
      "                                                                                \u001b[A\n",
      "\u001b[A{'eval_loss': 0.1654905527830124, 'eval_telecom-ir-eval_cosine_accuracy@1': 0.9012016021361816, 'eval_telecom-ir-eval_cosine_accuracy@3': 0.9626168224299065, 'eval_telecom-ir-eval_cosine_accuracy@5': 0.9692923898531375, 'eval_telecom-ir-eval_cosine_accuracy@10': 0.9813084112149533, 'eval_telecom-ir-eval_cosine_precision@1': 0.9012016021361816, 'eval_telecom-ir-eval_cosine_recall@1': 0.9012016021361816, 'eval_telecom-ir-eval_cosine_ndcg@10': 0.9452688430649757, 'eval_telecom-ir-eval_cosine_mrr@3': 0.9301290609701824, 'eval_telecom-ir-eval_cosine_mrr@5': 0.9317311971517579, 'eval_telecom-ir-eval_cosine_mrr@10': 0.9333492275414839, 'eval_telecom-ir-eval_cosine_map@100': 0.9337592504832983, 'eval_runtime': 2.136, 'eval_samples_per_second': 350.659, 'eval_steps_per_second': 2.809, 'epoch': 4.38}\n",
      " 44%|█████████████████▉                       | 105/240 [01:13<01:13,  1.85it/s]\n",
      "100%|█████████████████████████████████████████████| 6/6 [00:02<00:00,  6.66it/s]\u001b[A\n",
      "{'loss': 0.0412, 'grad_norm': 0.07884089648723602, 'learning_rate': 2.9698818860002797e-05, 'epoch': 5.0}\n",
      " 50%|████████████████████▌                    | 120/240 [01:21<00:53,  2.25it/s]\n",
      "  0%|                                                     | 0/6 [00:00<?, ?it/s]\u001b[A\n",
      " 33%|███████████████                              | 2/6 [00:00<00:00, 10.51it/s]\u001b[A\n",
      " 67%|██████████████████████████████               | 4/6 [00:00<00:00,  6.55it/s]\u001b[A\n",
      " 83%|█████████████████████████████████████▌       | 5/6 [00:00<00:00,  6.27it/s]\u001b[A\n",
      "                                                                                \u001b[A\n",
      "\u001b[A{'eval_loss': 0.16357900202274323, 'eval_telecom-ir-eval_cosine_accuracy@1': 0.8998664886515354, 'eval_telecom-ir-eval_cosine_accuracy@3': 0.9626168224299065, 'eval_telecom-ir-eval_cosine_accuracy@5': 0.9732977303070761, 'eval_telecom-ir-eval_cosine_accuracy@10': 0.9813084112149533, 'eval_telecom-ir-eval_cosine_precision@1': 0.8998664886515354, 'eval_telecom-ir-eval_cosine_recall@1': 0.8998664886515354, 'eval_telecom-ir-eval_cosine_ndcg@10': 0.9452569203791973, 'eval_telecom-ir-eval_cosine_mrr@3': 0.9296840231419671, 'eval_telecom-ir-eval_cosine_mrr@5': 0.9321539830885625, 'eval_telecom-ir-eval_cosine_mrr@10': 0.9332305507872929, 'eval_telecom-ir-eval_cosine_map@100': 0.9336514793441574, 'eval_runtime': 2.1659, 'eval_samples_per_second': 345.819, 'eval_steps_per_second': 2.77, 'epoch': 5.0}\n",
      " 50%|████████████████████▌                    | 120/240 [01:23<00:53,  2.25it/s]\n",
      "100%|█████████████████████████████████████████████| 6/6 [00:02<00:00,  6.50it/s]\u001b[A\n",
      "{'loss': 0.0385, 'grad_norm': 0.7844586372375488, 'learning_rate': 2.4272882031422215e-05, 'epoch': 5.62}\n",
      " 56%|███████████████████████                  | 135/240 [01:32<00:56,  1.84it/s]\n",
      "  0%|                                                     | 0/6 [00:00<?, ?it/s]\u001b[A\n",
      " 33%|███████████████                              | 2/6 [00:00<00:00, 10.90it/s]\u001b[A\n",
      " 67%|██████████████████████████████               | 4/6 [00:00<00:00,  6.74it/s]\u001b[A\n",
      " 83%|█████████████████████████████████████▌       | 5/6 [00:00<00:00,  6.27it/s]\u001b[A\n",
      "                                                                                \u001b[A\n",
      "\u001b[A{'eval_loss': 0.16370518505573273, 'eval_telecom-ir-eval_cosine_accuracy@1': 0.8998664886515354, 'eval_telecom-ir-eval_cosine_accuracy@3': 0.9639519359145527, 'eval_telecom-ir-eval_cosine_accuracy@5': 0.9719626168224299, 'eval_telecom-ir-eval_cosine_accuracy@10': 0.9813084112149533, 'eval_telecom-ir-eval_cosine_precision@1': 0.8998664886515354, 'eval_telecom-ir-eval_cosine_recall@1': 0.8998664886515354, 'eval_telecom-ir-eval_cosine_ndcg@10': 0.9452925848016993, 'eval_telecom-ir-eval_cosine_mrr@3': 0.9301290609701824, 'eval_telecom-ir-eval_cosine_mrr@5': 0.931998219848687, 'eval_telecom-ir-eval_cosine_mrr@10': 0.9332824718672513, 'eval_telecom-ir-eval_cosine_map@100': 0.9336517078286297, 'eval_runtime': 2.1444, 'eval_samples_per_second': 349.287, 'eval_steps_per_second': 2.798, 'epoch': 5.62}\n",
      " 56%|███████████████████████                  | 135/240 [01:34<00:56,  1.84it/s]\n",
      "100%|█████████████████████████████████████████████| 6/6 [00:02<00:00,  6.49it/s]\u001b[A\n",
      "{'loss': 0.0329, 'grad_norm': 0.42235812544822693, 'learning_rate': 1.8881416401141904e-05, 'epoch': 6.25}\n",
      " 62%|█████████████████████████▋               | 150/240 [01:42<00:48,  1.87it/s]\n",
      "  0%|                                                     | 0/6 [00:00<?, ?it/s]\u001b[A\n",
      " 33%|███████████████                              | 2/6 [00:00<00:00, 11.14it/s]\u001b[A\n",
      " 67%|██████████████████████████████               | 4/6 [00:00<00:00,  6.94it/s]\u001b[A\n",
      " 83%|█████████████████████████████████████▌       | 5/6 [00:00<00:00,  6.53it/s]\u001b[A\n",
      "                                                                                \u001b[A\n",
      "\u001b[A{'eval_loss': 0.16434799134731293, 'eval_telecom-ir-eval_cosine_accuracy@1': 0.8998664886515354, 'eval_telecom-ir-eval_cosine_accuracy@3': 0.965287049399199, 'eval_telecom-ir-eval_cosine_accuracy@5': 0.9719626168224299, 'eval_telecom-ir-eval_cosine_accuracy@10': 0.9813084112149533, 'eval_telecom-ir-eval_cosine_precision@1': 0.8998664886515354, 'eval_telecom-ir-eval_cosine_recall@1': 0.8998664886515354, 'eval_telecom-ir-eval_cosine_ndcg@10': 0.9453426046420649, 'eval_telecom-ir-eval_cosine_mrr@3': 0.9305740987983978, 'eval_telecom-ir-eval_cosine_mrr@5': 0.9320427236315088, 'eval_telecom-ir-eval_cosine_mrr@10': 0.9333418102443467, 'eval_telecom-ir-eval_cosine_map@100': 0.9337037514431, 'eval_runtime': 2.1205, 'eval_samples_per_second': 353.211, 'eval_steps_per_second': 2.829, 'epoch': 6.25}\n",
      " 62%|█████████████████████████▋               | 150/240 [01:44<00:48,  1.87it/s]\n",
      "100%|█████████████████████████████████████████████| 6/6 [00:02<00:00,  6.69it/s]\u001b[A\n",
      "{'loss': 0.0285, 'grad_norm': 0.22089162468910217, 'learning_rate': 1.3780020494988446e-05, 'epoch': 6.88}\n",
      " 69%|████████████████████████████▏            | 165/240 [01:53<00:40,  1.84it/s]\n",
      "  0%|                                                     | 0/6 [00:00<?, ?it/s]\u001b[A\n",
      " 33%|███████████████                              | 2/6 [00:00<00:00, 10.77it/s]\u001b[A\n",
      " 67%|██████████████████████████████               | 4/6 [00:00<00:00,  6.79it/s]\u001b[A\n",
      " 83%|█████████████████████████████████████▌       | 5/6 [00:00<00:00,  6.42it/s]\u001b[A\n",
      "                                                                                \u001b[A\n",
      "\u001b[A{'eval_loss': 0.1644931435585022, 'eval_telecom-ir-eval_cosine_accuracy@1': 0.8998664886515354, 'eval_telecom-ir-eval_cosine_accuracy@3': 0.965287049399199, 'eval_telecom-ir-eval_cosine_accuracy@5': 0.9719626168224299, 'eval_telecom-ir-eval_cosine_accuracy@10': 0.9813084112149533, 'eval_telecom-ir-eval_cosine_precision@1': 0.8998664886515354, 'eval_telecom-ir-eval_cosine_recall@1': 0.8998664886515354, 'eval_telecom-ir-eval_cosine_ndcg@10': 0.9453731438326852, 'eval_telecom-ir-eval_cosine_mrr@3': 0.9305740987983978, 'eval_telecom-ir-eval_cosine_mrr@5': 0.9320427236315088, 'eval_telecom-ir-eval_cosine_mrr@10': 0.9333735986606478, 'eval_telecom-ir-eval_cosine_map@100': 0.9337282883358005, 'eval_runtime': 2.1335, 'eval_samples_per_second': 351.063, 'eval_steps_per_second': 2.812, 'epoch': 6.88}\n",
      " 69%|████████████████████████████▏            | 165/240 [01:55<00:40,  1.84it/s]\n",
      "100%|█████████████████████████████████████████████| 6/6 [00:02<00:00,  6.61it/s]\u001b[A\n",
      "{'loss': 0.0293, 'grad_norm': 0.3959081768989563, 'learning_rate': 9.210541217437565e-06, 'epoch': 7.5}\n",
      " 75%|██████████████████████████████▊          | 180/240 [02:03<00:32,  1.84it/s]\n",
      "  0%|                                                     | 0/6 [00:00<?, ?it/s]\u001b[A\n",
      " 33%|███████████████                              | 2/6 [00:00<00:00, 11.08it/s]\u001b[A\n",
      " 67%|██████████████████████████████               | 4/6 [00:00<00:00,  6.72it/s]\u001b[A\n",
      " 83%|█████████████████████████████████████▌       | 5/6 [00:00<00:00,  6.27it/s]\u001b[A\n",
      "                                                                                \u001b[A\n",
      "\u001b[A{'eval_loss': 0.16359546780586243, 'eval_telecom-ir-eval_cosine_accuracy@1': 0.8985313751668892, 'eval_telecom-ir-eval_cosine_accuracy@3': 0.965287049399199, 'eval_telecom-ir-eval_cosine_accuracy@5': 0.9719626168224299, 'eval_telecom-ir-eval_cosine_accuracy@10': 0.9813084112149533, 'eval_telecom-ir-eval_cosine_precision@1': 0.8985313751668892, 'eval_telecom-ir-eval_cosine_recall@1': 0.8985313751668892, 'eval_telecom-ir-eval_cosine_ndcg@10': 0.9452154409972858, 'eval_telecom-ir-eval_cosine_mrr@3': 0.9303515798842901, 'eval_telecom-ir-eval_cosine_mrr@5': 0.9318202047174009, 'eval_telecom-ir-eval_cosine_mrr@10': 0.9331341259245128, 'eval_telecom-ir-eval_cosine_map@100': 0.9335208389143386, 'eval_runtime': 2.1568, 'eval_samples_per_second': 347.269, 'eval_steps_per_second': 2.782, 'epoch': 7.5}\n",
      " 75%|██████████████████████████████▊          | 180/240 [02:05<00:32,  1.84it/s]\n",
      "100%|█████████████████████████████████████████████| 6/6 [00:02<00:00,  6.49it/s]\u001b[A\n",
      "{'loss': 0.0277, 'grad_norm': 0.6709655523300171, 'learning_rate': 5.389608377010608e-06, 'epoch': 8.12}\n",
      " 81%|█████████████████████████████████▎       | 195/240 [02:14<00:23,  1.94it/s]\n",
      "  0%|                                                     | 0/6 [00:00<?, ?it/s]\u001b[A\n",
      " 33%|███████████████                              | 2/6 [00:00<00:00, 10.36it/s]\u001b[A\n",
      " 67%|██████████████████████████████               | 4/6 [00:00<00:00,  6.60it/s]\u001b[A\n",
      " 83%|█████████████████████████████████████▌       | 5/6 [00:00<00:00,  6.30it/s]\u001b[A\n",
      "                                                                                \u001b[A\n",
      "\u001b[A{'eval_loss': 0.16339808702468872, 'eval_telecom-ir-eval_cosine_accuracy@1': 0.9012016021361816, 'eval_telecom-ir-eval_cosine_accuracy@3': 0.965287049399199, 'eval_telecom-ir-eval_cosine_accuracy@5': 0.9719626168224299, 'eval_telecom-ir-eval_cosine_accuracy@10': 0.9813084112149533, 'eval_telecom-ir-eval_cosine_precision@1': 0.9012016021361816, 'eval_telecom-ir-eval_cosine_recall@1': 0.9012016021361816, 'eval_telecom-ir-eval_cosine_ndcg@10': 0.9460261362433282, 'eval_telecom-ir-eval_cosine_mrr@3': 0.9314641744548287, 'eval_telecom-ir-eval_cosine_mrr@5': 0.9329327992879395, 'eval_telecom-ir-eval_cosine_mrr@10': 0.9342467204950514, 'eval_telecom-ir-eval_cosine_map@100': 0.9346323727246086, 'eval_runtime': 2.1593, 'eval_samples_per_second': 346.864, 'eval_steps_per_second': 2.779, 'epoch': 8.12}\n",
      " 81%|█████████████████████████████████▎       | 195/240 [02:16<00:23,  1.94it/s]\n",
      "100%|█████████████████████████████████████████████| 6/6 [00:02<00:00,  6.52it/s]\u001b[A\n",
      "{'loss': 0.0282, 'grad_norm': 0.39386340975761414, 'learning_rate': 2.4983647033969714e-06, 'epoch': 8.75}\n",
      " 88%|███████████████████████████████████▉     | 210/240 [02:24<00:16,  1.85it/s]\n",
      "  0%|                                                     | 0/6 [00:00<?, ?it/s]\u001b[A\n",
      " 33%|███████████████                              | 2/6 [00:00<00:00, 11.02it/s]\u001b[A\n",
      " 67%|██████████████████████████████               | 4/6 [00:00<00:00,  6.72it/s]\u001b[A\n",
      " 83%|█████████████████████████████████████▌       | 5/6 [00:00<00:00,  6.33it/s]\u001b[A\n",
      "                                                                                \u001b[A\n",
      "\u001b[A{'eval_loss': 0.16346855461597443, 'eval_telecom-ir-eval_cosine_accuracy@1': 0.8998664886515354, 'eval_telecom-ir-eval_cosine_accuracy@3': 0.965287049399199, 'eval_telecom-ir-eval_cosine_accuracy@5': 0.9719626168224299, 'eval_telecom-ir-eval_cosine_accuracy@10': 0.9813084112149533, 'eval_telecom-ir-eval_cosine_precision@1': 0.8998664886515354, 'eval_telecom-ir-eval_cosine_recall@1': 0.8998664886515354, 'eval_telecom-ir-eval_cosine_ndcg@10': 0.9455333855805396, 'eval_telecom-ir-eval_cosine_mrr@3': 0.9307966177125055, 'eval_telecom-ir-eval_cosine_mrr@5': 0.9322652425456164, 'eval_telecom-ir-eval_cosine_mrr@10': 0.9335791637527283, 'eval_telecom-ir-eval_cosine_map@100': 0.93396630493165, 'eval_runtime': 2.1482, 'eval_samples_per_second': 348.671, 'eval_steps_per_second': 2.793, 'epoch': 8.75}\n",
      " 88%|███████████████████████████████████▉     | 210/240 [02:27<00:16,  1.85it/s]\n",
      "100%|█████████████████████████████████████████████| 6/6 [00:02<00:00,  6.53it/s]\u001b[A\n",
      "{'loss': 0.0225, 'grad_norm': 0.6989458799362183, 'learning_rate': 6.738782355044049e-07, 'epoch': 9.38}\n",
      " 94%|██████████████████████████████████████▍  | 225/240 [02:35<00:08,  1.84it/s]\n",
      "  0%|                                                     | 0/6 [00:00<?, ?it/s]\u001b[A\n",
      " 33%|███████████████                              | 2/6 [00:00<00:00, 10.97it/s]\u001b[A\n",
      " 67%|██████████████████████████████               | 4/6 [00:00<00:00,  6.87it/s]\u001b[A\n",
      " 83%|█████████████████████████████████████▌       | 5/6 [00:00<00:00,  6.48it/s]\u001b[A\n",
      "                                                                                \u001b[A\n",
      "\u001b[A{'eval_loss': 0.16353869438171387, 'eval_telecom-ir-eval_cosine_accuracy@1': 0.8998664886515354, 'eval_telecom-ir-eval_cosine_accuracy@3': 0.965287049399199, 'eval_telecom-ir-eval_cosine_accuracy@5': 0.9719626168224299, 'eval_telecom-ir-eval_cosine_accuracy@10': 0.9813084112149533, 'eval_telecom-ir-eval_cosine_precision@1': 0.8998664886515354, 'eval_telecom-ir-eval_cosine_recall@1': 0.8998664886515354, 'eval_telecom-ir-eval_cosine_ndcg@10': 0.9455333855805396, 'eval_telecom-ir-eval_cosine_mrr@3': 0.9307966177125055, 'eval_telecom-ir-eval_cosine_mrr@5': 0.9322652425456164, 'eval_telecom-ir-eval_cosine_mrr@10': 0.9335791637527283, 'eval_telecom-ir-eval_cosine_map@100': 0.9339527977526844, 'eval_runtime': 2.1224, 'eval_samples_per_second': 352.9, 'eval_steps_per_second': 2.827, 'epoch': 9.38}\n",
      " 94%|██████████████████████████████████████▍  | 225/240 [02:37<00:08,  1.84it/s]\n",
      "100%|█████████████████████████████████████████████| 6/6 [00:02<00:00,  6.66it/s]\u001b[A\n",
      "{'loss': 0.0267, 'grad_norm': 0.2707007825374603, 'learning_rate': 2.6442018223132857e-09, 'epoch': 10.0}\n",
      "100%|█████████████████████████████████████████| 240/240 [02:45<00:00,  2.26it/s]\n",
      "  0%|                                                     | 0/6 [00:00<?, ?it/s]\u001b[A\n",
      " 33%|███████████████                              | 2/6 [00:00<00:00, 11.13it/s]\u001b[A\n",
      " 67%|██████████████████████████████               | 4/6 [00:00<00:00,  6.92it/s]\u001b[A\n",
      " 83%|█████████████████████████████████████▌       | 5/6 [00:00<00:00,  6.49it/s]\u001b[A\n",
      "                                                                                \u001b[A\n",
      "\u001b[A{'eval_loss': 0.16355575621128082, 'eval_telecom-ir-eval_cosine_accuracy@1': 0.8998664886515354, 'eval_telecom-ir-eval_cosine_accuracy@3': 0.965287049399199, 'eval_telecom-ir-eval_cosine_accuracy@5': 0.9719626168224299, 'eval_telecom-ir-eval_cosine_accuracy@10': 0.9813084112149533, 'eval_telecom-ir-eval_cosine_precision@1': 0.8998664886515354, 'eval_telecom-ir-eval_cosine_recall@1': 0.8998664886515354, 'eval_telecom-ir-eval_cosine_ndcg@10': 0.9455333855805396, 'eval_telecom-ir-eval_cosine_mrr@3': 0.9307966177125055, 'eval_telecom-ir-eval_cosine_mrr@5': 0.9322652425456164, 'eval_telecom-ir-eval_cosine_mrr@10': 0.9335791637527283, 'eval_telecom-ir-eval_cosine_map@100': 0.9339541170347838, 'eval_runtime': 2.1217, 'eval_samples_per_second': 353.017, 'eval_steps_per_second': 2.828, 'epoch': 10.0}\n",
      "100%|█████████████████████████████████████████| 240/240 [02:47<00:00,  2.26it/s]\n",
      "100%|█████████████████████████████████████████████| 6/6 [00:02<00:00,  6.65it/s]\u001b[A\n",
      "{'train_runtime': 168.3517, 'train_samples_per_second': 177.961, 'train_steps_per_second': 1.426, 'train_loss': 0.11412840969860553, 'epoch': 10.0}\n",
      "100%|█████████████████████████████████████████| 240/240 [02:48<00:00,  1.43it/s]\n",
      "Training completed.\n",
      "Saving the trained model...\n",
      "Model saved successfully.\n",
      "Process completed successfully.\n",
      "\u001b[1;34mwandb\u001b[0m: \n",
      "\u001b[1;34mwandb\u001b[0m: 🚀 View run \u001b[33mbge-small-clapnq_10e_128bs\u001b[0m at: \u001b[34mhttps://wandb.ai/dinho15971-unicamp/SBBD_embeddings/runs/q59lpj9i\u001b[0m\n",
      "\u001b[1;34mwandb\u001b[0m: Find logs at: \u001b[1;35mwandb/run-20250427_035145-q59lpj9i/logs\u001b[0m\n"
     ]
    }
   ],
   "source": [
    "!python  ../scripts/train_embedding.py \\\n",
    "  --name_dataset \"clapnq\" \\\n",
    "  --model_name \"BAAI/bge-small-en-v1.5\" \\\n",
    "  --new_model_name \"bge-small-clapnq\" \\\n",
    "  --epochs 10 \\\n",
    "  --batch_size 128 \\\n",
    "  --output_dir \"../models/clapnq/embedding/\""
   ]
  },
  {
   "cell_type": "markdown",
   "id": "e07508b1-0d1d-4bb5-bfd8-c0c6a60949a0",
   "metadata": {},
   "source": [
    "## Evaluate Embedding "
   ]
  },
  {
   "cell_type": "code",
   "execution_count": 4,
   "id": "0145c8bc-7e97-4517-8eba-955e7b097f53",
   "metadata": {},
   "outputs": [
    {
     "name": "stdout",
     "output_type": "stream",
     "text": [
      "Cargando modelos...\n",
      "Models loaded\n",
      "Loading datasets...\n",
      "Loading and preparing datasets...\n",
      "Datasets loaded and prepared.\n",
      "Loaded dataset\n",
      "Creating evaluator...\n",
      "Evaluator created.\n",
      "Evaluating models\n",
      "Save results...\n"
     ]
    }
   ],
   "source": [
    "!python  ../scripts/evaluate_embedding.py \\\n",
    "  --name_dataset \"clapnq\" \\\n",
    "  --output_dir \"../results/clapnq/\" \\\n",
    "  --models_dir \"../models/clapnq/embedding/\""
   ]
  },
  {
   "cell_type": "markdown",
   "id": "2831fded-b089-456a-848b-4da1fd8880ce",
   "metadata": {},
   "source": [
    "## Creating new Vector Store"
   ]
  },
  {
   "cell_type": "code",
   "execution_count": 3,
   "id": "ddd969c8-cc50-4cb5-9885-876960f44b3c",
   "metadata": {},
   "outputs": [
    {
     "name": "stdout",
     "output_type": "stream",
     "text": [
      "Load model embedding\n",
      "Using device: cuda\n",
      "  0%|                                     | 330/178890 [00:00<03:36, 824.61it/s]Token indices sequence length is longer than the specified maximum sequence length for this model (571 > 512). Running this sequence through the model will result in indexing errors\n",
      "100%|██████████████████████████████████| 178890/178890 [04:25<00:00, 675.02it/s]\n",
      "Total number of passages: 263742\n",
      "Removing duplicate passages\n",
      "Total number of passages created: 261999\n",
      "Creating vector store\n",
      "Generando embeddings: 100%|███████████████████| 256/256 [03:49<00:00,  1.12it/s]\n",
      "✅ Índice FAISS creado exitosamente.\n",
      "💾 Vector store guardado en ../vector_stores/clapnq/ft_vector_store_clapnq\n"
     ]
    }
   ],
   "source": [
    "!python ../scripts/create_vector_store.py \\\n",
    "  --dataset \"clapnq\" \\\n",
    "  --emb_model \"../models/clapnq/embedding/bge-small-clapnq_10e_128bs/checkpoint-60\" \\\n",
    "  --cs 150 \\\n",
    "  --co 20 \\\n",
    "  --bs_emb 1024 \\\n",
    "  --output_dir \"../vector_stores/clapnq/ft_\""
   ]
  },
  {
   "cell_type": "code",
   "execution_count": 23,
   "id": "4941205f-ec9b-467d-a014-865fbf36e5e9",
   "metadata": {},
   "outputs": [
    {
     "name": "stderr",
     "output_type": "stream",
     "text": [
      "4817.53s - pydevd: Sending message related to process being replaced timed-out after 5 seconds\n"
     ]
    },
    {
     "name": "stdout",
     "output_type": "stream",
     "text": [
      "Load model embedding\n",
      "Using device: cuda\n",
      "  0%|                                     | 331/178890 [00:00<03:35, 829.29it/s]Token indices sequence length is longer than the specified maximum sequence length for this model (571 > 512). Running this sequence through the model will result in indexing errors\n",
      "100%|██████████████████████████████████| 178890/178890 [04:23<00:00, 679.64it/s]\n",
      "Total number of passages: 263742\n",
      "Removing duplicate passages\n",
      "Total number of passages created: 261999\n",
      "Creating vector store\n",
      "Generando embeddings: 100%|███████████████████| 256/256 [03:48<00:00,  1.12it/s]\n",
      "✅ Índice FAISS creado exitosamente.\n",
      "💾 Vector store guardado en ../vector_stores/clapnq/ft_vector_store_clapnq\n"
     ]
    }
   ],
   "source": [
    "!python ../scripts/create_vector_store.py \\\n",
    "  --dataset \"clapnq\" \\\n",
    "  --emb_model \"../models/clapnq/embedding/bge-small-clapnq_10e_128bs/checkpoint-60\" \\\n",
    "  --cs 150 \\\n",
    "  --co 20 \\\n",
    "  --bs_emb 1024 \\\n",
    "  --output_dir \"../vector_stores/clapnq/ft_\""
   ]
  },
  {
   "cell_type": "markdown",
   "id": "1dec2237-5382-498a-923a-29e8d124ffc5",
   "metadata": {},
   "source": [
    "## Train Phi-2"
   ]
  },
  {
   "cell_type": "code",
   "execution_count": 1,
   "id": "8be29613-3cd1-465c-a627-0e879243190c",
   "metadata": {
    "scrolled": true
   },
   "outputs": [
    {
     "name": "stdout",
     "output_type": "stream",
     "text": [
      "\u001b[34m\u001b[1mwandb\u001b[0m: Currently logged in as: \u001b[33mdinho15971\u001b[0m (\u001b[33mdinho15971-unicamp\u001b[0m) to \u001b[32mhttps://api.wandb.ai\u001b[0m. Use \u001b[1m`wandb login --relogin`\u001b[0m to force relogin\n",
      "\u001b[34m\u001b[1mwandb\u001b[0m: Tracking run with wandb version 0.19.10\n",
      "\u001b[34m\u001b[1mwandb\u001b[0m: Run data is saved locally in \u001b[35m\u001b[1m/local1/ronaldinho/projects/FinalSBBD/notebooks/wandb/run-20250428_162709-0u6scqrj\u001b[0m\n",
      "\u001b[34m\u001b[1mwandb\u001b[0m: Run \u001b[1m`wandb offline`\u001b[0m to turn off syncing.\n",
      "\u001b[34m\u001b[1mwandb\u001b[0m: Syncing run \u001b[33mphi-2-rag-k1_clapnq-5e_10bs\u001b[0m\n",
      "\u001b[34m\u001b[1mwandb\u001b[0m: ⭐️ View project at \u001b[34m\u001b[4mhttps://wandb.ai/dinho15971-unicamp/SBBD_phi-2-adapters\u001b[0m\n",
      "\u001b[34m\u001b[1mwandb\u001b[0m: 🚀 View run at \u001b[34m\u001b[4mhttps://wandb.ai/dinho15971-unicamp/SBBD_phi-2-adapters/runs/0u6scqrj\u001b[0m\n",
      "Usando dispositivo: cuda\n",
      "💾  Vector store cargado desde ../vector_stores/clapnq/ft_vector_store_clapnq\n",
      "Generating dataset\n",
      "Using k = 1 passages\n",
      "Loading and preparing datasets...\n",
      "Train: 2996\n",
      "Val: 749\n",
      "Test: 600\n",
      "Datasets loaded and prepared.\n",
      "🔍 Buscando: 100%|████████████████████████████| 375/375 [00:17<00:00, 21.82it/s]\n",
      "Map:  41%|███████████                | 1222/2996 [04:27<06:10,  4.79 examples/s]Token indices sequence length is longer than the specified maximum sequence length for this model (619 > 512). Running this sequence through the model will result in indexing errors\n",
      "Map:  46%|████████████▎              | 1365/2996 [05:00<05:39,  4.80 examples/s]Token indices sequence length is longer than the specified maximum sequence length for this model (616 > 512). Running this sequence through the model will result in indexing errors\n",
      "Map:  87%|███████████████████████▍   | 2601/2996 [09:34<01:22,  4.77 examples/s]Token indices sequence length is longer than the specified maximum sequence length for this model (617 > 512). Running this sequence through the model will result in indexing errors\n",
      "Map: 100%|███████████████████████████| 2996/2996 [11:01<00:00,  4.53 examples/s]\n",
      "Loading model\n",
      "Loading checkpoint shards: 100%|██████████████████| 2/2 [00:01<00:00,  1.70it/s]\n",
      "Training\n",
      "Converting train dataset to ChatML: 100%|█| 2996/2996 [00:00<00:00, 17334.90 exa\n",
      "Adding EOS to train dataset: 100%|█| 2996/2996 [00:00<00:00, 16494.26 examples/s\n",
      "Tokenizing train dataset: 100%|████| 2996/2996 [00:02<00:00, 1070.00 examples/s]\n",
      "Truncating train dataset: 100%|███| 2996/2996 [00:00<00:00, 13024.48 examples/s]\n",
      "No label_names provided for model class `PeftModelForCausalLM`. Since `PeftModel` hides base models input arguments, if label_names is not given, label_names can't be set automatically within `Trainer`. Note that empty label_names list will be used instead.\n",
      "\u001b[34m\u001b[1mwandb\u001b[0m: \u001b[33mWARNING\u001b[0m The `run_name` is currently set to the same value as `TrainingArguments.output_dir`. If this was not intended, please specify a different run name by setting the `TrainingArguments.run_name` parameter.\n",
      "{'loss': 0.4452, 'grad_norm': 0.5444897413253784, 'learning_rate': 0.00019946119873266613, 'num_tokens': 445887.0, 'mean_token_accuracy': 0.8961644512414932, 'epoch': 0.33}\n",
      "{'loss': 0.368, 'grad_norm': 0.4569409191608429, 'learning_rate': 0.00019491669984901379, 'num_tokens': 855606.0, 'mean_token_accuracy': 0.9042676138877869, 'epoch': 0.67}\n",
      "{'loss': 0.3117, 'grad_norm': 0.46875521540641785, 'learning_rate': 0.00018594617189587512, 'num_tokens': 1247580.0, 'mean_token_accuracy': 0.9164076936244965, 'epoch': 1.0}\n",
      "{'loss': 0.288, 'grad_norm': 0.34619414806365967, 'learning_rate': 0.000172967916579403, 'num_tokens': 1694602.0, 'mean_token_accuracy': 0.9240151959657669, 'epoch': 1.33}\n",
      "{'loss': 0.2874, 'grad_norm': 0.5454594492912292, 'learning_rate': 0.0001565871186078025, 'num_tokens': 2103712.0, 'mean_token_accuracy': 0.9221971374750138, 'epoch': 1.67}\n",
      "{'loss': 0.2713, 'grad_norm': 0.5414539575576782, 'learning_rate': 0.00013756762552443553, 'num_tokens': 2495160.0, 'mean_token_accuracy': 0.9260111385583878, 'epoch': 2.0}\n",
      "{'loss': 0.2387, 'grad_norm': 0.3809460699558258, 'learning_rate': 0.00011679632898701649, 'num_tokens': 2940123.0, 'mean_token_accuracy': 0.9319377708435058, 'epoch': 2.33}\n",
      "{'loss': 0.2463, 'grad_norm': 0.47515058517456055, 'learning_rate': 9.524180841762577e-05, 'num_tokens': 3349298.0, 'mean_token_accuracy': 0.9316478550434113, 'epoch': 2.67}\n",
      "{'loss': 0.2485, 'grad_norm': 0.42197421193122864, 'learning_rate': 7.390916549774536e-05, 'num_tokens': 3742740.0, 'mean_token_accuracy': 0.9314826202392578, 'epoch': 3.0}\n",
      "{'loss': 0.2179, 'grad_norm': 0.6785258650779724, 'learning_rate': 5.379315560596038e-05, 'num_tokens': 4188382.0, 'mean_token_accuracy': 0.9376376795768738, 'epoch': 3.33}\n",
      "{'loss': 0.2051, 'grad_norm': 0.5478200316429138, 'learning_rate': 3.583180171067101e-05, 'num_tokens': 4596061.0, 'mean_token_accuracy': 0.938967434167862, 'epoch': 3.67}\n",
      "{'loss': 0.2006, 'grad_norm': 0.7611032724380493, 'learning_rate': 2.0862653732958915e-05, 'num_tokens': 4990320.0, 'mean_token_accuracy': 0.9415907555818558, 'epoch': 4.0}\n",
      "{'loss': 0.212, 'grad_norm': 0.39650586247444153, 'learning_rate': 9.583733034714981e-06, 'num_tokens': 5437338.0, 'mean_token_accuracy': 0.9400356924533844, 'epoch': 4.33}\n",
      "{'loss': 0.1852, 'grad_norm': 0.418770432472229, 'learning_rate': 2.520983216615047e-06, 'num_tokens': 5845705.0, 'mean_token_accuracy': 0.9437911874055862, 'epoch': 4.67}\n",
      "{'loss': 0.1792, 'grad_norm': 0.8033353090286255, 'learning_rate': 3.745016960665648e-09, 'num_tokens': 6237900.0, 'mean_token_accuracy': 0.9484418028593063, 'epoch': 5.0}\n",
      "{'train_runtime': 3438.3273, 'train_samples_per_second': 4.357, 'train_steps_per_second': 0.109, 'train_loss': 0.26033912404378257, 'epoch': 5.0}\n",
      "100%|█████████████████████████████████████████| 375/375 [57:18<00:00,  9.17s/it]\n",
      "Parámetros entrenables finales: 26214400\n",
      "\u001b[1;34mwandb\u001b[0m: \n",
      "\u001b[1;34mwandb\u001b[0m: 🚀 View run \u001b[33mphi-2-rag-k1_clapnq-5e_10bs\u001b[0m at: \u001b[34mhttps://wandb.ai/dinho15971-unicamp/SBBD_phi-2-adapters/runs/0u6scqrj\u001b[0m\n",
      "\u001b[1;34mwandb\u001b[0m: Find logs at: \u001b[1;35mwandb/run-20250428_162709-0u6scqrj/logs\u001b[0m\n"
     ]
    }
   ],
   "source": [
    "!python  ../scripts/ft_phi.py \\\n",
    "  --new_model_name \"phi-2-rag-k1_clapnq-5e_10bs\" \\\n",
    "  --num_epochs 5 \\\n",
    "  --batch_size 10 \\\n",
    "  --dataset_name \"clapnq\" \\\n",
    "  --include_docs \\\n",
    "  --top_k 1 \\\n",
    "  --save_path \"../models/clapnq/adapters/\" \\\n",
    "  --vector_store_path \"../vector_stores/clapnq/ft_vector_store_clapnq\" \\\n",
    "  --emb_model \"../models/clapnq/embedding/bge-small-clapnq_10e_128bs/checkpoint-60\""
   ]
  },
  {
   "cell_type": "code",
   "execution_count": null,
   "id": "ca6eb5a2-1596-47c8-900b-5709ef210345",
   "metadata": {},
   "outputs": [],
   "source": []
  }
 ],
 "metadata": {
  "kernelspec": {
   "display_name": "Python 3.10 (env_1)",
   "language": "python",
   "name": "env_1"
  },
  "language_info": {
   "codemirror_mode": {
    "name": "ipython",
    "version": 3
   },
   "file_extension": ".py",
   "mimetype": "text/x-python",
   "name": "python",
   "nbconvert_exporter": "python",
   "pygments_lexer": "ipython3",
   "version": "3.10.14"
  }
 },
 "nbformat": 4,
 "nbformat_minor": 5
}
