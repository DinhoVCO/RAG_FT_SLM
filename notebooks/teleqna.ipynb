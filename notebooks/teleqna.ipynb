{
 "cells": [
  {
   "cell_type": "markdown",
   "id": "37ca0ed0-c01d-402b-9bc0-d1578c646e75",
   "metadata": {},
   "source": [
    "# TeleQnA"
   ]
  },
  {
   "cell_type": "markdown",
   "id": "bd22152b-ca99-4688-a5f0-6e3be6a4c4cd",
   "metadata": {},
   "source": [
    "## Create vector Store"
   ]
  },
  {
   "cell_type": "code",
   "execution_count": 9,
   "id": "553a16dc-4d7c-4a96-b3b7-9b460a1e0077",
   "metadata": {},
   "outputs": [
    {
     "name": "stdout",
     "output_type": "stream",
     "text": [
      "Load model embedding\n",
      "Using device: cuda\n",
      "Total number of documents: 554\n",
      "Creating passages\n",
      "  5%|█▉                                        | 26/554 [00:25<17:08,  1.95s/it]Token indices sequence length is longer than the specified maximum sequence length for this model (832 > 512). Running this sequence through the model will result in indexing errors\n",
      "100%|█████████████████████████████████████████| 554/554 [11:00<00:00,  1.19s/it]\n",
      "Removing duplicate passages\n",
      "Total number of passages created: 378571\n",
      "Creating vector store\n",
      "Generando embeddings: 100%|███████████████████| 185/185 [05:32<00:00,  1.80s/it]\n",
      "✅ Índice FAISS creado exitosamente.\n",
      "💾 Vector store guardado en ../vector_stores/teleqna/base_vector_store_teleqna\n"
     ]
    }
   ],
   "source": [
    "!python ../scripts/create_vector_store.py \\\n",
    "  --dataset \"teleqna\" \\\n",
    "  --emb_model \"BAAI/bge-small-en-v1.5\" \\\n",
    "  --cs 150 \\\n",
    "  --co 20 \\\n",
    "  --bs_emb 2048 \\\n",
    "  --output_dir \"../vector_stores/teleqna/base_\""
   ]
  },
  {
   "cell_type": "markdown",
   "id": "c2982078-9bc8-4904-8654-ec6bb9db8b4b",
   "metadata": {},
   "source": [
    "## Training embedding"
   ]
  },
  {
   "cell_type": "code",
   "execution_count": 6,
   "id": "2420ab28-8ec2-4061-959c-48506a268295",
   "metadata": {
    "scrolled": true
   },
   "outputs": [
    {
     "name": "stdout",
     "output_type": "stream",
     "text": [
      "\u001b[34m\u001b[1mwandb\u001b[0m: Currently logged in as: \u001b[33mdinho15971\u001b[0m (\u001b[33mdinho15971-unicamp\u001b[0m) to \u001b[32mhttps://api.wandb.ai\u001b[0m. Use \u001b[1m`wandb login --relogin`\u001b[0m to force relogin\n",
      "Starting main process...\n",
      "Loading and preparing datasets...\n",
      "Datasets loaded and prepared.\n",
      "Creating evaluator...\n",
      "Evaluator created.\n",
      "\u001b[34m\u001b[1mwandb\u001b[0m: Tracking run with wandb version 0.19.10\n",
      "\u001b[34m\u001b[1mwandb\u001b[0m: Run data is saved locally in \u001b[35m\u001b[1m/local1/ronaldinho/projects/FinalSBBD/notebooks/wandb/run-20250427_021758-fgc0qdb6\u001b[0m\n",
      "\u001b[34m\u001b[1mwandb\u001b[0m: Run \u001b[1m`wandb offline`\u001b[0m to turn off syncing.\n",
      "\u001b[34m\u001b[1mwandb\u001b[0m: Syncing run \u001b[33mbge-small-3gpp_10e_128bs\u001b[0m\n",
      "\u001b[34m\u001b[1mwandb\u001b[0m: ⭐️ View project at \u001b[34m\u001b[4mhttps://wandb.ai/dinho15971-unicamp/SBBD_embeddings\u001b[0m\n",
      "\u001b[34m\u001b[1mwandb\u001b[0m: 🚀 View run at \u001b[34m\u001b[4mhttps://wandb.ai/dinho15971-unicamp/SBBD_embeddings/runs/fgc0qdb6\u001b[0m\n",
      "Loading model: BAAI/bge-small-en-v1.5\n",
      "Model and loss function initialized.\n",
      "Configuring training arguments...\n",
      "Training arguments configured.\n",
      "Starting training process...\n",
      "{'loss': 0.3891, 'grad_norm': 1.2274510860443115, 'learning_rate': 4.734081600808531e-05, 'epoch': 2.5}\n",
      " 25%|██████████▊                                | 15/60 [00:02<00:04,  9.48it/s]\n",
      "                                                                                \u001b[A\n",
      "\u001b[A{'eval_loss': 0.06870950758457184, 'eval_telecom-ir-eval_cosine_accuracy@1': 0.9834254143646409, 'eval_telecom-ir-eval_cosine_accuracy@3': 0.994475138121547, 'eval_telecom-ir-eval_cosine_accuracy@5': 1.0, 'eval_telecom-ir-eval_cosine_accuracy@10': 1.0, 'eval_telecom-ir-eval_cosine_precision@1': 0.9834254143646409, 'eval_telecom-ir-eval_cosine_recall@1': 0.9834254143646409, 'eval_telecom-ir-eval_cosine_ndcg@10': 0.9927764423492613, 'eval_telecom-ir-eval_cosine_mrr@3': 0.988950276243094, 'eval_telecom-ir-eval_cosine_mrr@5': 0.9903314917127072, 'eval_telecom-ir-eval_cosine_mrr@10': 0.9903314917127072, 'eval_telecom-ir-eval_cosine_map@100': 0.9903314917127072, 'eval_runtime': 0.2964, 'eval_samples_per_second': 610.673, 'eval_steps_per_second': 6.748, 'epoch': 2.5}\n",
      " 25%|██████████▊                                | 15/60 [00:02<00:04,  9.48it/s]\n",
      "100%|█████████████████████████████████████████████| 2/2 [00:00<00:00,  7.76it/s]\u001b[A\n",
      "{'loss': 0.0459, 'grad_norm': 0.2939002513885498, 'learning_rate': 3.076539676856101e-05, 'epoch': 5.0}\n",
      " 50%|█████████████████████▌                     | 30/60 [00:04<00:03,  8.42it/s]\n",
      "                                                                                \u001b[A\n",
      "\u001b[A{'eval_loss': 0.052123747766017914, 'eval_telecom-ir-eval_cosine_accuracy@1': 0.988950276243094, 'eval_telecom-ir-eval_cosine_accuracy@3': 0.994475138121547, 'eval_telecom-ir-eval_cosine_accuracy@5': 0.994475138121547, 'eval_telecom-ir-eval_cosine_accuracy@10': 1.0, 'eval_telecom-ir-eval_cosine_precision@1': 0.988950276243094, 'eval_telecom-ir-eval_cosine_recall@1': 0.988950276243094, 'eval_telecom-ir-eval_cosine_ndcg@10': 0.9944040714954667, 'eval_telecom-ir-eval_cosine_mrr@3': 0.9917127071823204, 'eval_telecom-ir-eval_cosine_mrr@5': 0.9917127071823204, 'eval_telecom-ir-eval_cosine_mrr@10': 0.9926335174953961, 'eval_telecom-ir-eval_cosine_map@100': 0.9926335174953959, 'eval_runtime': 0.29, 'eval_samples_per_second': 624.111, 'eval_steps_per_second': 6.896, 'epoch': 5.0}\n",
      " 50%|█████████████████████▌                     | 30/60 [00:04<00:03,  8.42it/s]\n",
      "100%|█████████████████████████████████████████████| 2/2 [00:00<00:00,  7.95it/s]\u001b[A\n",
      "{'loss': 0.0246, 'grad_norm': 0.2363736778497696, 'learning_rate': 1.0071035207430352e-05, 'epoch': 7.5}\n",
      " 75%|████████████████████████████████▎          | 45/60 [00:06<00:01,  8.31it/s]\n",
      "                                                                                \u001b[A\n",
      "\u001b[A{'eval_loss': 0.05150328204035759, 'eval_telecom-ir-eval_cosine_accuracy@1': 0.988950276243094, 'eval_telecom-ir-eval_cosine_accuracy@3': 0.994475138121547, 'eval_telecom-ir-eval_cosine_accuracy@5': 0.994475138121547, 'eval_telecom-ir-eval_cosine_accuracy@10': 1.0, 'eval_telecom-ir-eval_cosine_precision@1': 0.988950276243094, 'eval_telecom-ir-eval_cosine_recall@1': 0.988950276243094, 'eval_telecom-ir-eval_cosine_ndcg@10': 0.9944040714954667, 'eval_telecom-ir-eval_cosine_mrr@3': 0.9917127071823204, 'eval_telecom-ir-eval_cosine_mrr@5': 0.9917127071823204, 'eval_telecom-ir-eval_cosine_mrr@10': 0.9926335174953961, 'eval_telecom-ir-eval_cosine_map@100': 0.9926335174953959, 'eval_runtime': 0.2963, 'eval_samples_per_second': 610.88, 'eval_steps_per_second': 6.75, 'epoch': 7.5}\n",
      " 75%|████████████████████████████████▎          | 45/60 [00:07<00:01,  8.31it/s]\n",
      "100%|█████████████████████████████████████████████| 2/2 [00:00<00:00,  7.77it/s]\u001b[A\n",
      "{'loss': 0.0158, 'grad_norm': 0.1372489035129547, 'learning_rate': 4.229604321829561e-08, 'epoch': 10.0}\n",
      "100%|███████████████████████████████████████████| 60/60 [00:09<00:00,  9.35it/s]\n",
      "                                                                                \u001b[A\n",
      "\u001b[A{'eval_loss': 0.052012063562870026, 'eval_telecom-ir-eval_cosine_accuracy@1': 0.988950276243094, 'eval_telecom-ir-eval_cosine_accuracy@3': 0.994475138121547, 'eval_telecom-ir-eval_cosine_accuracy@5': 0.994475138121547, 'eval_telecom-ir-eval_cosine_accuracy@10': 1.0, 'eval_telecom-ir-eval_cosine_precision@1': 0.988950276243094, 'eval_telecom-ir-eval_cosine_recall@1': 0.988950276243094, 'eval_telecom-ir-eval_cosine_ndcg@10': 0.9944040714954667, 'eval_telecom-ir-eval_cosine_mrr@3': 0.9917127071823204, 'eval_telecom-ir-eval_cosine_mrr@5': 0.9917127071823204, 'eval_telecom-ir-eval_cosine_mrr@10': 0.9926335174953961, 'eval_telecom-ir-eval_cosine_map@100': 0.9926335174953959, 'eval_runtime': 0.2908, 'eval_samples_per_second': 622.323, 'eval_steps_per_second': 6.876, 'epoch': 10.0}\n",
      "100%|███████████████████████████████████████████| 60/60 [00:09<00:00,  9.35it/s]\n",
      "100%|█████████████████████████████████████████████| 2/2 [00:00<00:00,  7.92it/s]\u001b[A\n",
      "{'train_runtime': 10.0702, 'train_samples_per_second': 718.956, 'train_steps_per_second': 5.958, 'train_loss': 0.11883130272229513, 'epoch': 10.0}\n",
      "100%|███████████████████████████████████████████| 60/60 [00:10<00:00,  5.94it/s]\n",
      "Training completed.\n",
      "Saving the trained model...\n",
      "Model saved successfully.\n",
      "Process completed successfully.\n",
      "\u001b[1;34mwandb\u001b[0m: \n",
      "\u001b[1;34mwandb\u001b[0m: 🚀 View run \u001b[33mbge-small-3gpp_10e_128bs\u001b[0m at: \u001b[34mhttps://wandb.ai/dinho15971-unicamp/SBBD_embeddings/runs/fgc0qdb6\u001b[0m\n",
      "\u001b[1;34mwandb\u001b[0m: Find logs at: \u001b[1;35mwandb/run-20250427_021758-fgc0qdb6/logs\u001b[0m\n"
     ]
    }
   ],
   "source": [
    "!python  ../scripts/train_embedding.py \\\n",
    "  --name_dataset \"teleqna\" \\\n",
    "  --model_name \"BAAI/bge-small-en-v1.5\" \\\n",
    "  --new_model_name \"bge-small-3gpp\" \\\n",
    "  --epochs 10 \\\n",
    "  --batch_size 128 \\\n",
    "  --output_dir \"../models/teleqna/embedding/\""
   ]
  },
  {
   "cell_type": "markdown",
   "id": "ef126dff-ef3a-47b5-b9c2-ee66307c70b6",
   "metadata": {},
   "source": [
    "## Evaluate Embeddings"
   ]
  },
  {
   "cell_type": "code",
   "execution_count": 12,
   "id": "1865da05-66b4-4a94-a9c4-b4d7e3504258",
   "metadata": {},
   "outputs": [
    {
     "name": "stdout",
     "output_type": "stream",
     "text": [
      "Cargando modelos...\n",
      "Models loaded\n",
      "Loading datasets...\n",
      "Loading and preparing datasets...\n",
      "Datasets loaded and prepared.\n",
      "Loaded dataset\n",
      "Creating evaluator...\n",
      "Evaluator created.\n",
      "Evaluating models\n",
      "Save results...\n"
     ]
    }
   ],
   "source": [
    "!python  ../scripts/evaluate_embedding.py \\\n",
    "  --name_dataset \"teleqna\" \\\n",
    "  --output_dir \"../results/teleqna/\" \\\n",
    "  --models_dir \"../models/teleqna/embedding/\""
   ]
  },
  {
   "cell_type": "markdown",
   "id": "c7c923fc-55f2-448a-bedc-e85d52b14277",
   "metadata": {},
   "source": [
    "## Create new vector Store"
   ]
  },
  {
   "cell_type": "code",
   "execution_count": 13,
   "id": "be730a07-012a-48ea-ad16-1bc697ff3f41",
   "metadata": {},
   "outputs": [
    {
     "name": "stdout",
     "output_type": "stream",
     "text": [
      "Load model embedding\n",
      "Using device: cuda\n",
      "Total number of documents: 554\n",
      "Creating passages\n",
      "  5%|█▉                                        | 26/554 [00:24<16:45,  1.90s/it]Token indices sequence length is longer than the specified maximum sequence length for this model (832 > 512). Running this sequence through the model will result in indexing errors\n",
      "100%|█████████████████████████████████████████| 554/554 [10:47<00:00,  1.17s/it]\n",
      "Number of documents: 389606\n",
      "Removing duplicate passages\n",
      "Total number of passages created: 378571\n",
      "Creating vector store\n",
      "Generando embeddings: 100%|███████████████████| 185/185 [05:35<00:00,  1.82s/it]\n",
      "✅ Índice FAISS creado exitosamente.\n",
      "💾 Vector store guardado en ../vector_stores/teleqna/ft_vector_store_teleqna\n"
     ]
    }
   ],
   "source": [
    "!python ../scripts/create_vector_store.py \\\n",
    "  --dataset \"teleqna\" \\\n",
    "  --emb_model \"../models/teleqna/embedding/bge-small-3gpp_10e_128bs/checkpoint-30\" \\\n",
    "  --cs 150 \\\n",
    "  --co 20 \\\n",
    "  --bs_emb 2048 \\\n",
    "  --output_dir \"../vector_stores/teleqna/ft_\""
   ]
  },
  {
   "cell_type": "code",
   "execution_count": null,
   "id": "610ed137-a6de-4edf-9b62-c054be3100d0",
   "metadata": {},
   "outputs": [],
   "source": []
  }
 ],
 "metadata": {
  "kernelspec": {
   "display_name": "Python 3.10 (env_1)",
   "language": "python",
   "name": "env_1"
  },
  "language_info": {
   "codemirror_mode": {
    "name": "ipython",
    "version": 3
   },
   "file_extension": ".py",
   "mimetype": "text/x-python",
   "name": "python",
   "nbconvert_exporter": "python",
   "pygments_lexer": "ipython3",
   "version": "3.10.14"
  }
 },
 "nbformat": 4,
 "nbformat_minor": 5
}
