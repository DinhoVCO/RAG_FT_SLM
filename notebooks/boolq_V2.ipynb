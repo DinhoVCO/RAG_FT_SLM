{
 "cells": [
  {
   "cell_type": "markdown",
   "id": "6758009f-4e9a-4b74-8cb1-14797cf0ec24",
   "metadata": {},
   "source": [
    "# BoolQ"
   ]
  },
  {
   "cell_type": "markdown",
   "id": "f8ee3d4a-51b7-40b1-9e8e-6dc21b4646ac",
   "metadata": {},
   "source": [
    "## Creating vector store"
   ]
  },
  {
   "cell_type": "code",
   "execution_count": 1,
   "id": "4f549513-c14a-4999-8470-4d00342e8669",
   "metadata": {},
   "outputs": [
    {
     "name": "stdout",
     "output_type": "stream",
     "text": [
      "Load model embedding\n",
      "Using device: cuda\n",
      "100%|██████████████████████████████████| 12697/12697 [00:00<00:00, 23279.52it/s]\n",
      "100%|████████████████████████████████████| 12697/12697 [00:13<00:00, 971.19it/s]\n",
      "Total number of passages: 16519\n",
      "Removing duplicate passages\n",
      "Total number of passages created: 13091\n",
      "Creating vector store\n",
      "Load model embedding : BAAI/bge-small-en-v1.5\n",
      "Using device: cuda\n",
      "Generando embeddings: 100%|█████████████████████| 13/13 [00:11<00:00,  1.16it/s]\n",
      "✅ Índice FAISS creado exitosamente.\n",
      "💾 Vector store saved in ../vector_stores/boolq/base_vs_boolq_150_20\n"
     ]
    }
   ],
   "source": [
    "!python ../scripts/create_vector_store.py \\\n",
    "  --dataset \"boolq\" \\\n",
    "  --emb_model \"BAAI/bge-small-en-v1.5\" \\\n",
    "  --cs 150 \\\n",
    "  --co 20 \\\n",
    "  --bs_emb 1024 \\\n",
    "  --output_dir \"../vector_stores/boolq/base_\""
   ]
  },
  {
   "cell_type": "markdown",
   "id": "a130d25b-3536-42c5-b826-6dbe476d0d8e",
   "metadata": {},
   "source": [
    "## Train embedding"
   ]
  },
  {
   "cell_type": "code",
   "execution_count": 2,
   "id": "0db0208c-56aa-4ff3-a8f2-71424c0ef977",
   "metadata": {
    "scrolled": true
   },
   "outputs": [
    {
     "name": "stdout",
     "output_type": "stream",
     "text": [
      "\u001b[34m\u001b[1mwandb\u001b[0m: Currently logged in as: \u001b[33mdinho15971\u001b[0m (\u001b[33mdinho15971-unicamp\u001b[0m) to \u001b[32mhttps://api.wandb.ai\u001b[0m. Use \u001b[1m`wandb login --relogin`\u001b[0m to force relogin\n",
      "Starting main process...\n",
      "Loading dataset splits for boolq\n",
      "Loading and preparing datasets...\n",
      "Train: 7541\n",
      "Val: 1886\n",
      "Test: 3270\n",
      "Datasets loaded and prepared.\n",
      "Datasets loaded and prepared.\n",
      "Creating evaluator...\n",
      "Evaluator created.\n",
      "\u001b[34m\u001b[1mwandb\u001b[0m: Tracking run with wandb version 0.19.10\n",
      "\u001b[34m\u001b[1mwandb\u001b[0m: Run data is saved locally in \u001b[35m\u001b[1m/local1/ronaldinho/projects/test_sbbd/notebooks2/wandb/run-20250503_181644-c0dq8gdx\u001b[0m\n",
      "\u001b[34m\u001b[1mwandb\u001b[0m: Run \u001b[1m`wandb offline`\u001b[0m to turn off syncing.\n",
      "\u001b[34m\u001b[1mwandb\u001b[0m: Syncing run \u001b[33mbge-small-boolq_10e_128bs\u001b[0m\n",
      "\u001b[34m\u001b[1mwandb\u001b[0m: ⭐️ View project at \u001b[34m\u001b[4mhttps://wandb.ai/dinho15971-unicamp/SBBD_embeddings\u001b[0m\n",
      "\u001b[34m\u001b[1mwandb\u001b[0m: 🚀 View run at \u001b[34m\u001b[4mhttps://wandb.ai/dinho15971-unicamp/SBBD_embeddings/runs/c0dq8gdx\u001b[0m\n",
      "Loading model: BAAI/bge-small-en-v1.5\n",
      "Model and loss function initialized.\n",
      "Configuring training arguments...\n",
      "Training arguments configured.\n",
      "Starting training process...\n",
      "{'loss': 0.632, 'grad_norm': 3.0354115962982178, 'learning_rate': 1.1864406779661018e-05, 'epoch': 0.2542372881355932}\n",
      "{'eval_loss': 0.25120070576667786, 'eval_telecom-ir-eval_cosine_accuracy@1': 0.8191940615058324, 'eval_telecom-ir-eval_cosine_accuracy@3': 0.9390243902439024, 'eval_telecom-ir-eval_cosine_accuracy@5': 0.9628844114528102, 'eval_telecom-ir-eval_cosine_accuracy@10': 0.9803817603393425, 'eval_telecom-ir-eval_cosine_precision@1': 0.8191940615058324, 'eval_telecom-ir-eval_cosine_recall@1': 0.8191940615058324, 'eval_telecom-ir-eval_cosine_ndcg@10': 0.9066217204407344, 'eval_telecom-ir-eval_cosine_mrr@3': 0.8742488511841636, 'eval_telecom-ir-eval_cosine_mrr@5': 0.8797896783315657, 'eval_telecom-ir-eval_cosine_mrr@10': 0.8822038748337794, 'eval_telecom-ir-eval_cosine_map@100': 0.8829810417166317, 'eval_runtime': 4.5054, 'eval_samples_per_second': 418.611, 'eval_steps_per_second': 3.329, 'epoch': 0.2542372881355932}\n",
      "{'loss': 0.2923, 'grad_norm': 1.5719223022460938, 'learning_rate': 2.457627118644068e-05, 'epoch': 0.5084745762711864}\n",
      "{'eval_loss': 0.12299519032239914, 'eval_telecom-ir-eval_cosine_accuracy@1': 0.8335100742311771, 'eval_telecom-ir-eval_cosine_accuracy@3': 0.9475079533404029, 'eval_telecom-ir-eval_cosine_accuracy@5': 0.9644750795334041, 'eval_telecom-ir-eval_cosine_accuracy@10': 0.9830328738069989, 'eval_telecom-ir-eval_cosine_precision@1': 0.8335100742311771, 'eval_telecom-ir-eval_cosine_recall@1': 0.8335100742311771, 'eval_telecom-ir-eval_cosine_ndcg@10': 0.9144844936426684, 'eval_telecom-ir-eval_cosine_mrr@3': 0.8852067868504767, 'eval_telecom-ir-eval_cosine_mrr@5': 0.8891039236479319, 'eval_telecom-ir-eval_cosine_mrr@10': 0.891791647730142, 'eval_telecom-ir-eval_cosine_map@100': 0.8926701906555882, 'eval_runtime': 4.4989, 'eval_samples_per_second': 419.209, 'eval_steps_per_second': 3.334, 'epoch': 0.5084745762711864}\n",
      "{'loss': 0.1743, 'grad_norm': 1.642971158027649, 'learning_rate': 3.728813559322034e-05, 'epoch': 0.7627118644067796}\n",
      "{'eval_loss': 0.09541121125221252, 'eval_telecom-ir-eval_cosine_accuracy@1': 0.8234358430540827, 'eval_telecom-ir-eval_cosine_accuracy@3': 0.9490986214209968, 'eval_telecom-ir-eval_cosine_accuracy@5': 0.9697773064687168, 'eval_telecom-ir-eval_cosine_accuracy@10': 0.9840933191940615, 'eval_telecom-ir-eval_cosine_precision@1': 0.8234358430540827, 'eval_telecom-ir-eval_cosine_recall@1': 0.8234358430540827, 'eval_telecom-ir-eval_cosine_ndcg@10': 0.9108316337715097, 'eval_telecom-ir-eval_cosine_mrr@3': 0.8798161894662421, 'eval_telecom-ir-eval_cosine_mrr@5': 0.884641215977377, 'eval_telecom-ir-eval_cosine_mrr@10': 0.88649804743389, 'eval_telecom-ir-eval_cosine_map@100': 0.887353696950164, 'eval_runtime': 4.584, 'eval_samples_per_second': 411.434, 'eval_steps_per_second': 3.272, 'epoch': 0.7627118644067796}\n",
      "{'loss': 0.1518, 'grad_norm': 1.033809781074524, 'learning_rate': 5e-05, 'epoch': 1.0169491525423728}\n",
      "{'eval_loss': 0.08071626722812653, 'eval_telecom-ir-eval_cosine_accuracy@1': 0.8329798515376459, 'eval_telecom-ir-eval_cosine_accuracy@3': 0.9517497348886532, 'eval_telecom-ir-eval_cosine_accuracy@5': 0.9713679745493107, 'eval_telecom-ir-eval_cosine_accuracy@10': 0.9872746553552492, 'eval_telecom-ir-eval_cosine_precision@1': 0.8329798515376459, 'eval_telecom-ir-eval_cosine_recall@1': 0.8329798515376459, 'eval_telecom-ir-eval_cosine_ndcg@10': 0.9166771455272412, 'eval_telecom-ir-eval_cosine_mrr@3': 0.8865323435843048, 'eval_telecom-ir-eval_cosine_mrr@5': 0.891092258748674, 'eval_telecom-ir-eval_cosine_mrr@10': 0.8932686966621214, 'eval_telecom-ir-eval_cosine_map@100': 0.8939894256924201, 'eval_runtime': 4.4842, 'eval_samples_per_second': 420.59, 'eval_steps_per_second': 3.345, 'epoch': 1.0169491525423728}\n",
      "{'loss': 0.1201, 'grad_norm': 1.1396143436431885, 'learning_rate': 4.9901617425775067e-05, 'epoch': 1.271186440677966}\n",
      "{'eval_loss': 0.07391515374183655, 'eval_telecom-ir-eval_cosine_accuracy@1': 0.8340402969247084, 'eval_telecom-ir-eval_cosine_accuracy@3': 0.9538706256627784, 'eval_telecom-ir-eval_cosine_accuracy@5': 0.9761399787910923, 'eval_telecom-ir-eval_cosine_accuracy@10': 0.9888653234358431, 'eval_telecom-ir-eval_cosine_precision@1': 0.8340402969247084, 'eval_telecom-ir-eval_cosine_recall@1': 0.8340402969247084, 'eval_telecom-ir-eval_cosine_ndcg@10': 0.9188104270291673, 'eval_telecom-ir-eval_cosine_mrr@3': 0.8886532343584299, 'eval_telecom-ir-eval_cosine_mrr@5': 0.8937433722163305, 'eval_telecom-ir-eval_cosine_mrr@10': 0.8954861637125685, 'eval_telecom-ir-eval_cosine_map@100': 0.8961501286592772, 'eval_runtime': 4.5576, 'eval_samples_per_second': 413.818, 'eval_steps_per_second': 3.291, 'epoch': 1.271186440677966}\n",
      "{'loss': 0.0944, 'grad_norm': 1.242139458656311, 'learning_rate': 4.9607244033573156e-05, 'epoch': 1.5254237288135593}\n",
      "{'eval_loss': 0.0695817619562149, 'eval_telecom-ir-eval_cosine_accuracy@1': 0.8319194061505832, 'eval_telecom-ir-eval_cosine_accuracy@3': 0.9575821845174973, 'eval_telecom-ir-eval_cosine_accuracy@5': 0.9750795334040296, 'eval_telecom-ir-eval_cosine_accuracy@10': 0.9893955461293743, 'eval_telecom-ir-eval_cosine_precision@1': 0.8319194061505832, 'eval_telecom-ir-eval_cosine_recall@1': 0.8319194061505832, 'eval_telecom-ir-eval_cosine_ndcg@10': 0.9182505227896142, 'eval_telecom-ir-eval_cosine_mrr@3': 0.8884764934605861, 'eval_telecom-ir-eval_cosine_mrr@5': 0.8925061859314241, 'eval_telecom-ir-eval_cosine_mrr@10': 0.8945311316467195, 'eval_telecom-ir-eval_cosine_map@100': 0.8951915551924656, 'eval_runtime': 4.5488, 'eval_samples_per_second': 414.619, 'eval_steps_per_second': 3.298, 'epoch': 1.5254237288135593}\n",
      "{'loss': 0.091, 'grad_norm': 0.9131594300270081, 'learning_rate': 4.91191967203629e-05, 'epoch': 1.7796610169491527}\n",
      "{'eval_loss': 0.06715857982635498, 'eval_telecom-ir-eval_cosine_accuracy@1': 0.8393425238600212, 'eval_telecom-ir-eval_cosine_accuracy@3': 0.9565217391304348, 'eval_telecom-ir-eval_cosine_accuracy@5': 0.9782608695652174, 'eval_telecom-ir-eval_cosine_accuracy@10': 0.9893955461293743, 'eval_telecom-ir-eval_cosine_precision@1': 0.8393425238600212, 'eval_telecom-ir-eval_cosine_recall@1': 0.8393425238600212, 'eval_telecom-ir-eval_cosine_ndcg@10': 0.9216172379107318, 'eval_telecom-ir-eval_cosine_mrr@3': 0.8924531636620711, 'eval_telecom-ir-eval_cosine_mrr@5': 0.8974637681159419, 'eval_telecom-ir-eval_cosine_mrr@10': 0.8990043596088133, 'eval_telecom-ir-eval_cosine_map@100': 0.8996969766703791, 'eval_runtime': 4.5141, 'eval_samples_per_second': 417.805, 'eval_steps_per_second': 3.323, 'epoch': 1.7796610169491527}\n",
      "{'loss': 0.0713, 'grad_norm': 0.7989069223403931, 'learning_rate': 4.84413167142257e-05, 'epoch': 2.0338983050847457}\n",
      "{'eval_loss': 0.06504423916339874, 'eval_telecom-ir-eval_cosine_accuracy@1': 0.8414634146341463, 'eval_telecom-ir-eval_cosine_accuracy@3': 0.9575821845174973, 'eval_telecom-ir-eval_cosine_accuracy@5': 0.9766702014846236, 'eval_telecom-ir-eval_cosine_accuracy@10': 0.9915164369034994, 'eval_telecom-ir-eval_cosine_precision@1': 0.8414634146341463, 'eval_telecom-ir-eval_cosine_recall@1': 0.8414634146341463, 'eval_telecom-ir-eval_cosine_ndcg@10': 0.9231754399553902, 'eval_telecom-ir-eval_cosine_mrr@3': 0.893867090844821, 'eval_telecom-ir-eval_cosine_mrr@5': 0.8982679392011308, 'eval_telecom-ir-eval_cosine_mrr@10': 0.900445429143732, 'eval_telecom-ir-eval_cosine_map@100': 0.9009779912751703, 'eval_runtime': 4.605, 'eval_samples_per_second': 409.558, 'eval_steps_per_second': 3.257, 'epoch': 2.0338983050847457}\n",
      "{'loss': 0.0619, 'grad_norm': 0.830883264541626, 'learning_rate': 4.7578939341563095e-05, 'epoch': 2.288135593220339}\n",
      "{'eval_loss': 0.06661351025104523, 'eval_telecom-ir-eval_cosine_accuracy@1': 0.8340402969247084, 'eval_telecom-ir-eval_cosine_accuracy@3': 0.9581124072110286, 'eval_telecom-ir-eval_cosine_accuracy@5': 0.9782608695652174, 'eval_telecom-ir-eval_cosine_accuracy@10': 0.9920466595970308, 'eval_telecom-ir-eval_cosine_precision@1': 0.8340402969247084, 'eval_telecom-ir-eval_cosine_recall@1': 0.8340402969247084, 'eval_telecom-ir-eval_cosine_ndcg@10': 0.920387947008008, 'eval_telecom-ir-eval_cosine_mrr@3': 0.8900671615411803, 'eval_telecom-ir-eval_cosine_mrr@5': 0.894600565570873, 'eval_telecom-ir-eval_cosine_mrr@10': 0.896533563938124, 'eval_telecom-ir-eval_cosine_map@100': 0.8969825611457017, 'eval_runtime': 4.6305, 'eval_samples_per_second': 407.298, 'eval_steps_per_second': 3.239, 'epoch': 2.288135593220339}\n",
      "{'loss': 0.0587, 'grad_norm': 1.047088623046875, 'learning_rate': 4.653885203484515e-05, 'epoch': 2.542372881355932}\n",
      "{'eval_loss': 0.065971240401268, 'eval_telecom-ir-eval_cosine_accuracy@1': 0.8308589607635207, 'eval_telecom-ir-eval_cosine_accuracy@3': 0.957051961823966, 'eval_telecom-ir-eval_cosine_accuracy@5': 0.9787910922587487, 'eval_telecom-ir-eval_cosine_accuracy@10': 0.9909862142099682, 'eval_telecom-ir-eval_cosine_precision@1': 0.8308589607635207, 'eval_telecom-ir-eval_cosine_recall@1': 0.8308589607635207, 'eval_telecom-ir-eval_cosine_ndcg@10': 0.9184867558534875, 'eval_telecom-ir-eval_cosine_mrr@3': 0.8876811594202892, 'eval_telecom-ir-eval_cosine_mrr@5': 0.8925592082007774, 'eval_telecom-ir-eval_cosine_mrr@10': 0.8943059974077998, 'eval_telecom-ir-eval_cosine_map@100': 0.8948376793076551, 'eval_runtime': 4.7041, 'eval_samples_per_second': 400.924, 'eval_steps_per_second': 3.189, 'epoch': 2.542372881355932}\n",
      "{'loss': 0.0626, 'grad_norm': 1.453856348991394, 'learning_rate': 4.532924091140417e-05, 'epoch': 2.7966101694915255}\n",
      "{'eval_loss': 0.06386549025774002, 'eval_telecom-ir-eval_cosine_accuracy@1': 0.8366914103923648, 'eval_telecom-ir-eval_cosine_accuracy@3': 0.9559915164369035, 'eval_telecom-ir-eval_cosine_accuracy@5': 0.9782608695652174, 'eval_telecom-ir-eval_cosine_accuracy@10': 0.9920466595970308, 'eval_telecom-ir-eval_cosine_precision@1': 0.8366914103923648, 'eval_telecom-ir-eval_cosine_recall@1': 0.8366914103923648, 'eval_telecom-ir-eval_cosine_ndcg@10': 0.9214408834638891, 'eval_telecom-ir-eval_cosine_mrr@3': 0.8909508660303989, 'eval_telecom-ir-eval_cosine_mrr@5': 0.8960410038882997, 'eval_telecom-ir-eval_cosine_mrr@10': 0.8979639027756735, 'eval_telecom-ir-eval_cosine_map@100': 0.8984125068632705, 'eval_runtime': 4.5708, 'eval_samples_per_second': 412.622, 'eval_steps_per_second': 3.282, 'epoch': 2.7966101694915255}\n",
      "{'loss': 0.0552, 'grad_norm': 0.6143512725830078, 'learning_rate': 4.395962634373097e-05, 'epoch': 3.0508474576271185}\n",
      "{'eval_loss': 0.06200556084513664, 'eval_telecom-ir-eval_cosine_accuracy@1': 0.83881230116649, 'eval_telecom-ir-eval_cosine_accuracy@3': 0.9554612937433722, 'eval_telecom-ir-eval_cosine_accuracy@5': 0.9787910922587487, 'eval_telecom-ir-eval_cosine_accuracy@10': 0.9915164369034994, 'eval_telecom-ir-eval_cosine_precision@1': 0.83881230116649, 'eval_telecom-ir-eval_cosine_recall@1': 0.83881230116649, 'eval_telecom-ir-eval_cosine_ndcg@10': 0.9219347799837267, 'eval_telecom-ir-eval_cosine_mrr@3': 0.891569459172852, 'eval_telecom-ir-eval_cosine_mrr@5': 0.8969777306468713, 'eval_telecom-ir-eval_cosine_mrr@10': 0.8987819606456928, 'eval_telecom-ir-eval_cosine_map@100': 0.899317152764979, 'eval_runtime': 4.5557, 'eval_samples_per_second': 413.985, 'eval_steps_per_second': 3.293, 'epoch': 3.0508474576271185}\n",
      "{'loss': 0.0484, 'grad_norm': 1.1464781761169434, 'learning_rate': 4.2440788028374624e-05, 'epoch': 3.305084745762712}\n",
      "{'eval_loss': 0.0629207044839859, 'eval_telecom-ir-eval_cosine_accuracy@1': 0.8404029692470838, 'eval_telecom-ir-eval_cosine_accuracy@3': 0.9575821845174973, 'eval_telecom-ir-eval_cosine_accuracy@5': 0.9793213149522799, 'eval_telecom-ir-eval_cosine_accuracy@10': 0.9920466595970308, 'eval_telecom-ir-eval_cosine_precision@1': 0.8404029692470838, 'eval_telecom-ir-eval_cosine_recall@1': 0.8404029692470838, 'eval_telecom-ir-eval_cosine_ndcg@10': 0.9232524907025144, 'eval_telecom-ir-eval_cosine_mrr@3': 0.8936019794980553, 'eval_telecom-ir-eval_cosine_mrr@5': 0.8985330505478966, 'eval_telecom-ir-eval_cosine_mrr@10': 0.9003471696207643, 'eval_telecom-ir-eval_cosine_map@100': 0.9008688593892282, 'eval_runtime': 4.6375, 'eval_samples_per_second': 406.685, 'eval_steps_per_second': 3.235, 'epoch': 3.305084745762712}\n",
      "{'loss': 0.054, 'grad_norm': 0.5050941109657288, 'learning_rate': 4.0784680143198836e-05, 'epoch': 3.559322033898305}\n",
      "{'eval_loss': 0.0626569464802742, 'eval_telecom-ir-eval_cosine_accuracy@1': 0.8404029692470838, 'eval_telecom-ir-eval_cosine_accuracy@3': 0.9559915164369035, 'eval_telecom-ir-eval_cosine_accuracy@5': 0.9787910922587487, 'eval_telecom-ir-eval_cosine_accuracy@10': 0.9931071049840933, 'eval_telecom-ir-eval_cosine_precision@1': 0.8404029692470838, 'eval_telecom-ir-eval_cosine_recall@1': 0.8404029692470838, 'eval_telecom-ir-eval_cosine_ndcg@10': 0.923603283172475, 'eval_telecom-ir-eval_cosine_mrr@3': 0.893248497702368, 'eval_telecom-ir-eval_cosine_mrr@5': 0.8985507246376809, 'eval_telecom-ir-eval_cosine_mrr@10': 0.900521175242808, 'eval_telecom-ir-eval_cosine_map@100': 0.9009474729053202, 'eval_runtime': 4.6308, 'eval_samples_per_second': 407.273, 'eval_steps_per_second': 3.239, 'epoch': 3.559322033898305}\n",
      "{'loss': 0.0427, 'grad_norm': 0.9773609042167664, 'learning_rate': 3.900433726075865e-05, 'epoch': 3.8135593220338984}\n",
      "{'eval_loss': 0.06366901844739914, 'eval_telecom-ir-eval_cosine_accuracy@1': 0.8377518557794273, 'eval_telecom-ir-eval_cosine_accuracy@3': 0.957051961823966, 'eval_telecom-ir-eval_cosine_accuracy@5': 0.9782608695652174, 'eval_telecom-ir-eval_cosine_accuracy@10': 0.9931071049840933, 'eval_telecom-ir-eval_cosine_precision@1': 0.8377518557794273, 'eval_telecom-ir-eval_cosine_recall@1': 0.8377518557794273, 'eval_telecom-ir-eval_cosine_ndcg@10': 0.9223379554294857, 'eval_telecom-ir-eval_cosine_mrr@3': 0.8920113114174617, 'eval_telecom-ir-eval_cosine_mrr@5': 0.8968098267939202, 'eval_telecom-ir-eval_cosine_mrr@10': 0.8988473968590617, 'eval_telecom-ir-eval_cosine_map@100': 0.8992534446481096, 'eval_runtime': 4.5809, 'eval_samples_per_second': 411.713, 'eval_steps_per_second': 3.274, 'epoch': 3.8135593220338984}\n",
      "{'loss': 0.0409, 'grad_norm': 0.5982393026351929, 'learning_rate': 3.711377175831626e-05, 'epoch': 4.067796610169491}\n",
      "{'eval_loss': 0.061890386044979095, 'eval_telecom-ir-eval_cosine_accuracy@1': 0.8335100742311771, 'eval_telecom-ir-eval_cosine_accuracy@3': 0.9575821845174973, 'eval_telecom-ir-eval_cosine_accuracy@5': 0.9787910922587487, 'eval_telecom-ir-eval_cosine_accuracy@10': 0.9931071049840933, 'eval_telecom-ir-eval_cosine_precision@1': 0.8335100742311771, 'eval_telecom-ir-eval_cosine_recall@1': 0.8335100742311771, 'eval_telecom-ir-eval_cosine_ndcg@10': 0.9206853929882036, 'eval_telecom-ir-eval_cosine_mrr@3': 0.8898020501944147, 'eval_telecom-ir-eval_cosine_mrr@5': 0.8946800989749026, 'eval_telecom-ir-eval_cosine_mrr@10': 0.8966036290797688, 'eval_telecom-ir-eval_cosine_map@100': 0.8970125329051004, 'eval_runtime': 4.622, 'eval_samples_per_second': 408.05, 'eval_steps_per_second': 3.245, 'epoch': 4.067796610169491}\n",
      "{'loss': 0.0383, 'grad_norm': 0.46752336621284485, 'learning_rate': 3.512786353194134e-05, 'epoch': 4.322033898305085}\n",
      "{'eval_loss': 0.06197793781757355, 'eval_telecom-ir-eval_cosine_accuracy@1': 0.8345705196182397, 'eval_telecom-ir-eval_cosine_accuracy@3': 0.9565217391304348, 'eval_telecom-ir-eval_cosine_accuracy@5': 0.9793213149522799, 'eval_telecom-ir-eval_cosine_accuracy@10': 0.9909862142099682, 'eval_telecom-ir-eval_cosine_precision@1': 0.8345705196182397, 'eval_telecom-ir-eval_cosine_recall@1': 0.8345705196182397, 'eval_telecom-ir-eval_cosine_ndcg@10': 0.920461300474771, 'eval_telecom-ir-eval_cosine_mrr@3': 0.8900671615411804, 'eval_telecom-ir-eval_cosine_mrr@5': 0.8953693884764934, 'eval_telecom-ir-eval_cosine_mrr@10': 0.8969350182632257, 'eval_telecom-ir-eval_cosine_map@100': 0.8975111135680531, 'eval_runtime': 4.602, 'eval_samples_per_second': 409.819, 'eval_steps_per_second': 3.259, 'epoch': 4.322033898305085}\n",
      "{'loss': 0.0343, 'grad_norm': 0.47018736600875854, 'learning_rate': 3.3062242882712724e-05, 'epoch': 4.576271186440678}\n",
      "{'eval_loss': 0.06089777126908302, 'eval_telecom-ir-eval_cosine_accuracy@1': 0.8382820784729587, 'eval_telecom-ir-eval_cosine_accuracy@3': 0.9602332979851538, 'eval_telecom-ir-eval_cosine_accuracy@5': 0.9787910922587487, 'eval_telecom-ir-eval_cosine_accuracy@10': 0.9909862142099682, 'eval_telecom-ir-eval_cosine_precision@1': 0.8382820784729587, 'eval_telecom-ir-eval_cosine_recall@1': 0.8382820784729587, 'eval_telecom-ir-eval_cosine_ndcg@10': 0.9227299566384896, 'eval_telecom-ir-eval_cosine_mrr@3': 0.893955461293743, 'eval_telecom-ir-eval_cosine_mrr@5': 0.8982502651113466, 'eval_telecom-ir-eval_cosine_mrr@10': 0.8999156272618624, 'eval_telecom-ir-eval_cosine_map@100': 0.9004986479646225, 'eval_runtime': 4.5882, 'eval_samples_per_second': 411.056, 'eval_steps_per_second': 3.269, 'epoch': 4.576271186440678}\n",
      "{'loss': 0.0436, 'grad_norm': 0.8472787737846375, 'learning_rate': 3.093316749677788e-05, 'epoch': 4.830508474576272}\n",
      "{'eval_loss': 0.05857888609170914, 'eval_telecom-ir-eval_cosine_accuracy@1': 0.8398727465535525, 'eval_telecom-ir-eval_cosine_accuracy@3': 0.9581124072110286, 'eval_telecom-ir-eval_cosine_accuracy@5': 0.9782608695652174, 'eval_telecom-ir-eval_cosine_accuracy@10': 0.9925768822905621, 'eval_telecom-ir-eval_cosine_precision@1': 0.8398727465535525, 'eval_telecom-ir-eval_cosine_recall@1': 0.8398727465535525, 'eval_telecom-ir-eval_cosine_ndcg@10': 0.9237996627374819, 'eval_telecom-ir-eval_cosine_mrr@3': 0.8942205726405088, 'eval_telecom-ir-eval_cosine_mrr@5': 0.8989130434782607, 'eval_telecom-ir-eval_cosine_mrr@10': 0.9008927519399416, 'eval_telecom-ir-eval_cosine_map@100': 0.9013697145917531, 'eval_runtime': 4.5301, 'eval_samples_per_second': 416.328, 'eval_steps_per_second': 3.311, 'epoch': 4.830508474576272}\n",
      "{'loss': 0.0322, 'grad_norm': 0.5920926332473755, 'learning_rate': 2.875739448751176e-05, 'epoch': 5.084745762711864}\n",
      "{'eval_loss': 0.06002654880285263, 'eval_telecom-ir-eval_cosine_accuracy@1': 0.8382820784729587, 'eval_telecom-ir-eval_cosine_accuracy@3': 0.9581124072110286, 'eval_telecom-ir-eval_cosine_accuracy@5': 0.9803817603393425, 'eval_telecom-ir-eval_cosine_accuracy@10': 0.9920466595970308, 'eval_telecom-ir-eval_cosine_precision@1': 0.8382820784729587, 'eval_telecom-ir-eval_cosine_recall@1': 0.8382820784729587, 'eval_telecom-ir-eval_cosine_ndcg@10': 0.9229288961171818, 'eval_telecom-ir-eval_cosine_mrr@3': 0.8931601272534462, 'eval_telecom-ir-eval_cosine_mrr@5': 0.8982502651113468, 'eval_telecom-ir-eval_cosine_mrr@10': 0.8998592384992172, 'eval_telecom-ir-eval_cosine_map@100': 0.9003685192492369, 'eval_runtime': 4.5502, 'eval_samples_per_second': 414.489, 'eval_steps_per_second': 3.297, 'epoch': 5.084745762711864}\n",
      "{'loss': 0.0278, 'grad_norm': 0.8291666507720947, 'learning_rate': 2.655204850688085e-05, 'epoch': 5.338983050847458}\n",
      "{'eval_loss': 0.060515932738780975, 'eval_telecom-ir-eval_cosine_accuracy@1': 0.8404029692470838, 'eval_telecom-ir-eval_cosine_accuracy@3': 0.9591728525980912, 'eval_telecom-ir-eval_cosine_accuracy@5': 0.9809119830328739, 'eval_telecom-ir-eval_cosine_accuracy@10': 0.9920466595970308, 'eval_telecom-ir-eval_cosine_precision@1': 0.8404029692470838, 'eval_telecom-ir-eval_cosine_recall@1': 0.8404029692470838, 'eval_telecom-ir-eval_cosine_ndcg@10': 0.9236485234421475, 'eval_telecom-ir-eval_cosine_mrr@3': 0.8943089430894305, 'eval_telecom-ir-eval_cosine_mrr@5': 0.8993725698126546, 'eval_telecom-ir-eval_cosine_mrr@10': 0.9008317342490193, 'eval_telecom-ir-eval_cosine_map@100': 0.9013378658309655, 'eval_runtime': 4.5376, 'eval_samples_per_second': 415.641, 'eval_steps_per_second': 3.306, 'epoch': 5.338983050847458}\n",
      "{'loss': 0.0289, 'grad_norm': 0.7349507212638855, 'learning_rate': 2.433448696405563e-05, 'epoch': 5.593220338983051}\n",
      "{'eval_loss': 0.060717884451150894, 'eval_telecom-ir-eval_cosine_accuracy@1': 0.837221633085896, 'eval_telecom-ir-eval_cosine_accuracy@3': 0.9565217391304348, 'eval_telecom-ir-eval_cosine_accuracy@5': 0.9798515376458112, 'eval_telecom-ir-eval_cosine_accuracy@10': 0.9915164369034994, 'eval_telecom-ir-eval_cosine_precision@1': 0.837221633085896, 'eval_telecom-ir-eval_cosine_recall@1': 0.837221633085896, 'eval_telecom-ir-eval_cosine_ndcg@10': 0.9222156839148049, 'eval_telecom-ir-eval_cosine_mrr@3': 0.8920113114174616, 'eval_telecom-ir-eval_cosine_mrr@5': 0.8975256274301873, 'eval_telecom-ir-eval_cosine_mrr@10': 0.8990819993603661, 'eval_telecom-ir-eval_cosine_map@100': 0.8996278004737482, 'eval_runtime': 4.517, 'eval_samples_per_second': 417.536, 'eval_steps_per_second': 3.321, 'epoch': 5.593220338983051}\n",
      "{'loss': 0.0359, 'grad_norm': 0.750963032245636, 'learning_rate': 2.2122163412082927e-05, 'epoch': 5.847457627118644}\n",
      "{'eval_loss': 0.058197397738695145, 'eval_telecom-ir-eval_cosine_accuracy@1': 0.8356309650053022, 'eval_telecom-ir-eval_cosine_accuracy@3': 0.9575821845174973, 'eval_telecom-ir-eval_cosine_accuracy@5': 0.9814422057264051, 'eval_telecom-ir-eval_cosine_accuracy@10': 0.9925768822905621, 'eval_telecom-ir-eval_cosine_precision@1': 0.8356309650053022, 'eval_telecom-ir-eval_cosine_recall@1': 0.8356309650053022, 'eval_telecom-ir-eval_cosine_ndcg@10': 0.9221121963387312, 'eval_telecom-ir-eval_cosine_mrr@3': 0.8914810887239303, 'eval_telecom-ir-eval_cosine_mrr@5': 0.8970749381406856, 'eval_telecom-ir-eval_cosine_mrr@10': 0.8985730276557422, 'eval_telecom-ir-eval_cosine_map@100': 0.8990465248844626, 'eval_runtime': 4.5677, 'eval_samples_per_second': 412.901, 'eval_steps_per_second': 3.284, 'epoch': 5.847457627118644}\n",
      "{'loss': 0.0289, 'grad_norm': 0.5136109590530396, 'learning_rate': 1.993249017784766e-05, 'epoch': 6.101694915254237}\n",
      "{'eval_loss': 0.05844445526599884, 'eval_telecom-ir-eval_cosine_accuracy@1': 0.8377518557794273, 'eval_telecom-ir-eval_cosine_accuracy@3': 0.9581124072110286, 'eval_telecom-ir-eval_cosine_accuracy@5': 0.9814422057264051, 'eval_telecom-ir-eval_cosine_accuracy@10': 0.9925768822905621, 'eval_telecom-ir-eval_cosine_precision@1': 0.8377518557794273, 'eval_telecom-ir-eval_cosine_recall@1': 0.8377518557794273, 'eval_telecom-ir-eval_cosine_ndcg@10': 0.9230441533499018, 'eval_telecom-ir-eval_cosine_mrr@3': 0.8928950159066804, 'eval_telecom-ir-eval_cosine_mrr@5': 0.8983297985153762, 'eval_telecom-ir-eval_cosine_mrr@10': 0.8998241007254791, 'eval_telecom-ir-eval_cosine_map@100': 0.9002935941536054, 'eval_runtime': 4.5901, 'eval_samples_per_second': 410.883, 'eval_steps_per_second': 3.268, 'epoch': 6.101694915254237}\n",
      "{'loss': 0.0377, 'grad_norm': 1.1311360597610474, 'learning_rate': 1.778270131650948e-05, 'epoch': 6.3559322033898304}\n",
      "{'eval_loss': 0.060523223131895065, 'eval_telecom-ir-eval_cosine_accuracy@1': 0.8382820784729587, 'eval_telecom-ir-eval_cosine_accuracy@3': 0.9581124072110286, 'eval_telecom-ir-eval_cosine_accuracy@5': 0.9798515376458112, 'eval_telecom-ir-eval_cosine_accuracy@10': 0.9920466595970308, 'eval_telecom-ir-eval_cosine_precision@1': 0.8382820784729587, 'eval_telecom-ir-eval_cosine_recall@1': 0.8382820784729587, 'eval_telecom-ir-eval_cosine_ndcg@10': 0.9232371318672231, 'eval_telecom-ir-eval_cosine_mrr@3': 0.8935136090491336, 'eval_telecom-ir-eval_cosine_mrr@5': 0.8985772357723575, 'eval_telecom-ir-eval_cosine_mrr@10': 0.9002510141561041, 'eval_telecom-ir-eval_cosine_map@100': 0.9007365250912909, 'eval_runtime': 4.5404, 'eval_samples_per_second': 415.382, 'eval_steps_per_second': 3.304, 'epoch': 6.3559322033898304}\n",
      "{'loss': 0.0318, 'grad_norm': 0.5638301372528076, 'learning_rate': 1.5689716969045848e-05, 'epoch': 6.610169491525424}\n",
      "{'eval_loss': 0.05908677354454994, 'eval_telecom-ir-eval_cosine_accuracy@1': 0.8361611876988335, 'eval_telecom-ir-eval_cosine_accuracy@3': 0.9602332979851538, 'eval_telecom-ir-eval_cosine_accuracy@5': 0.9803817603393425, 'eval_telecom-ir-eval_cosine_accuracy@10': 0.9931071049840933, 'eval_telecom-ir-eval_cosine_precision@1': 0.8361611876988335, 'eval_telecom-ir-eval_cosine_recall@1': 0.8361611876988335, 'eval_telecom-ir-eval_cosine_ndcg@10': 0.9226490658360096, 'eval_telecom-ir-eval_cosine_mrr@3': 0.8928066454577587, 'eval_telecom-ir-eval_cosine_mrr@5': 0.8973930717568045, 'eval_telecom-ir-eval_cosine_mrr@10': 0.8991339696005656, 'eval_telecom-ir-eval_cosine_map@100': 0.8995389663650712, 'eval_runtime': 4.5616, 'eval_samples_per_second': 413.448, 'eval_steps_per_second': 3.288, 'epoch': 6.610169491525424}\n",
      "{'loss': 0.0264, 'grad_norm': 0.5699006915092468, 'learning_rate': 1.3670010190490073e-05, 'epoch': 6.864406779661017}\n",
      "{'eval_loss': 0.059176068753004074, 'eval_telecom-ir-eval_cosine_accuracy@1': 0.837221633085896, 'eval_telecom-ir-eval_cosine_accuracy@3': 0.9597030752916225, 'eval_telecom-ir-eval_cosine_accuracy@5': 0.9814422057264051, 'eval_telecom-ir-eval_cosine_accuracy@10': 0.9925768822905621, 'eval_telecom-ir-eval_cosine_precision@1': 0.837221633085896, 'eval_telecom-ir-eval_cosine_recall@1': 0.837221633085896, 'eval_telecom-ir-eval_cosine_ndcg@10': 0.9231114386325796, 'eval_telecom-ir-eval_cosine_mrr@3': 0.8933368681512898, 'eval_telecom-ir-eval_cosine_mrr@5': 0.8983209614704841, 'eval_telecom-ir-eval_cosine_mrr@10': 0.8998762813715093, 'eval_telecom-ir-eval_cosine_map@100': 0.9003280772958854, 'eval_runtime': 4.6334, 'eval_samples_per_second': 407.048, 'eval_steps_per_second': 3.237, 'epoch': 6.864406779661017}\n",
      "{'loss': 0.0299, 'grad_norm': 1.0362683534622192, 'learning_rate': 1.173947729700644e-05, 'epoch': 7.11864406779661}\n",
      "{'eval_loss': 0.05936604365706444, 'eval_telecom-ir-eval_cosine_accuracy@1': 0.8366914103923648, 'eval_telecom-ir-eval_cosine_accuracy@3': 0.9597030752916225, 'eval_telecom-ir-eval_cosine_accuracy@5': 0.9814422057264051, 'eval_telecom-ir-eval_cosine_accuracy@10': 0.9925768822905621, 'eval_telecom-ir-eval_cosine_precision@1': 0.8366914103923648, 'eval_telecom-ir-eval_cosine_recall@1': 0.8366914103923648, 'eval_telecom-ir-eval_cosine_ndcg@10': 0.9231411429549312, 'eval_telecom-ir-eval_cosine_mrr@3': 0.8933368681512898, 'eval_telecom-ir-eval_cosine_mrr@5': 0.8983209614704841, 'eval_telecom-ir-eval_cosine_mrr@10': 0.8998931138379704, 'eval_telecom-ir-eval_cosine_map@100': 0.9003294038158371, 'eval_runtime': 4.57, 'eval_samples_per_second': 412.693, 'eval_steps_per_second': 3.282, 'epoch': 7.11864406779661}\n",
      "{'loss': 0.0295, 'grad_norm': 0.38756847381591797, 'learning_rate': 9.913312752249903e-06, 'epoch': 7.372881355932203}\n",
      "{'eval_loss': 0.059729453176259995, 'eval_telecom-ir-eval_cosine_accuracy@1': 0.83881230116649, 'eval_telecom-ir-eval_cosine_accuracy@3': 0.9591728525980912, 'eval_telecom-ir-eval_cosine_accuracy@5': 0.9809119830328739, 'eval_telecom-ir-eval_cosine_accuracy@10': 0.9925768822905621, 'eval_telecom-ir-eval_cosine_precision@1': 0.83881230116649, 'eval_telecom-ir-eval_cosine_recall@1': 0.83881230116649, 'eval_telecom-ir-eval_cosine_ndcg@10': 0.9239725512235657, 'eval_telecom-ir-eval_cosine_mrr@3': 0.8943089430894307, 'eval_telecom-ir-eval_cosine_mrr@5': 0.8993460586779781, 'eval_telecom-ir-eval_cosine_mrr@10': 0.9010156289451093, 'eval_telecom-ir-eval_cosine_map@100': 0.9014447051298197, 'eval_runtime': 4.5621, 'eval_samples_per_second': 413.405, 'eval_steps_per_second': 3.288, 'epoch': 7.372881355932203}\n",
      "{'loss': 0.0292, 'grad_norm': 0.7066934108734131, 'learning_rate': 8.20588957773018e-06, 'epoch': 7.627118644067797}\n",
      "{'eval_loss': 0.059068065136671066, 'eval_telecom-ir-eval_cosine_accuracy@1': 0.8404029692470838, 'eval_telecom-ir-eval_cosine_accuracy@3': 0.9591728525980912, 'eval_telecom-ir-eval_cosine_accuracy@5': 0.9809119830328739, 'eval_telecom-ir-eval_cosine_accuracy@10': 0.9931071049840933, 'eval_telecom-ir-eval_cosine_precision@1': 0.8404029692470838, 'eval_telecom-ir-eval_cosine_recall@1': 0.8404029692470838, 'eval_telecom-ir-eval_cosine_ndcg@10': 0.9245489383449487, 'eval_telecom-ir-eval_cosine_mrr@3': 0.8949275362318838, 'eval_telecom-ir-eval_cosine_mrr@5': 0.8999381406857545, 'eval_telecom-ir-eval_cosine_mrr@10': 0.9016601020047468, 'eval_telecom-ir-eval_cosine_map@100': 0.9020705695363647, 'eval_runtime': 4.6488, 'eval_samples_per_second': 405.692, 'eval_steps_per_second': 3.227, 'epoch': 7.627118644067797}\n",
      "{'loss': 0.0257, 'grad_norm': 0.32768335938453674, 'learning_rate': 6.6306462284233234e-06, 'epoch': 7.88135593220339}\n",
      "{'eval_loss': 0.058961909264326096, 'eval_telecom-ir-eval_cosine_accuracy@1': 0.83881230116649, 'eval_telecom-ir-eval_cosine_accuracy@3': 0.9581124072110286, 'eval_telecom-ir-eval_cosine_accuracy@5': 0.9809119830328739, 'eval_telecom-ir-eval_cosine_accuracy@10': 0.9931071049840933, 'eval_telecom-ir-eval_cosine_precision@1': 0.83881230116649, 'eval_telecom-ir-eval_cosine_recall@1': 0.83881230116649, 'eval_telecom-ir-eval_cosine_ndcg@10': 0.9236895648416054, 'eval_telecom-ir-eval_cosine_mrr@3': 0.8935136090491338, 'eval_telecom-ir-eval_cosine_mrr@5': 0.8987893248497703, 'eval_telecom-ir-eval_cosine_mrr@10': 0.9005207544311469, 'eval_telecom-ir-eval_cosine_map@100': 0.9009296655030216, 'eval_runtime': 4.5499, 'eval_samples_per_second': 414.511, 'eval_steps_per_second': 3.297, 'epoch': 7.88135593220339}\n",
      "{'loss': 0.0246, 'grad_norm': 0.27104997634887695, 'learning_rate': 5.199980823988157e-06, 'epoch': 8.135593220338983}\n",
      "{'eval_loss': 0.059015411883592606, 'eval_telecom-ir-eval_cosine_accuracy@1': 0.8398727465535525, 'eval_telecom-ir-eval_cosine_accuracy@3': 0.9581124072110286, 'eval_telecom-ir-eval_cosine_accuracy@5': 0.9814422057264051, 'eval_telecom-ir-eval_cosine_accuracy@10': 0.9931071049840933, 'eval_telecom-ir-eval_cosine_precision@1': 0.8398727465535525, 'eval_telecom-ir-eval_cosine_recall@1': 0.8398727465535525, 'eval_telecom-ir-eval_cosine_ndcg@10': 0.9241777227226335, 'eval_telecom-ir-eval_cosine_mrr@3': 0.8941322021915867, 'eval_telecom-ir-eval_cosine_mrr@5': 0.8995404736656061, 'eval_telecom-ir-eval_cosine_mrr@10': 0.9011709084482147, 'eval_telecom-ir-eval_cosine_map@100': 0.9015799420385113, 'eval_runtime': 4.5326, 'eval_samples_per_second': 416.096, 'eval_steps_per_second': 3.309, 'epoch': 8.135593220338983}\n",
      "{'loss': 0.0231, 'grad_norm': 0.36227932572364807, 'learning_rate': 3.925153568052123e-06, 'epoch': 8.389830508474576}\n",
      "{'eval_loss': 0.05920473486185074, 'eval_telecom-ir-eval_cosine_accuracy@1': 0.83881230116649, 'eval_telecom-ir-eval_cosine_accuracy@3': 0.95864262990456, 'eval_telecom-ir-eval_cosine_accuracy@5': 0.9814422057264051, 'eval_telecom-ir-eval_cosine_accuracy@10': 0.9925768822905621, 'eval_telecom-ir-eval_cosine_precision@1': 0.83881230116649, 'eval_telecom-ir-eval_cosine_recall@1': 0.83881230116649, 'eval_telecom-ir-eval_cosine_ndcg@10': 0.9239073912299008, 'eval_telecom-ir-eval_cosine_mrr@3': 0.8941322021915867, 'eval_telecom-ir-eval_cosine_mrr@5': 0.8993548957228702, 'eval_telecom-ir-eval_cosine_mrr@10': 0.9009381995993871, 'eval_telecom-ir-eval_cosine_map@100': 0.9013861619884644, 'eval_runtime': 4.5393, 'eval_samples_per_second': 415.48, 'eval_steps_per_second': 3.304, 'epoch': 8.389830508474576}\n",
      "{'loss': 0.0258, 'grad_norm': 0.3361363410949707, 'learning_rate': 2.8161981235857143e-06, 'epoch': 8.64406779661017}\n",
      "{'eval_loss': 0.05959071218967438, 'eval_telecom-ir-eval_cosine_accuracy@1': 0.83881230116649, 'eval_telecom-ir-eval_cosine_accuracy@3': 0.9591728525980912, 'eval_telecom-ir-eval_cosine_accuracy@5': 0.9809119830328739, 'eval_telecom-ir-eval_cosine_accuracy@10': 0.9925768822905621, 'eval_telecom-ir-eval_cosine_precision@1': 0.83881230116649, 'eval_telecom-ir-eval_cosine_recall@1': 0.83881230116649, 'eval_telecom-ir-eval_cosine_ndcg@10': 0.9238104591506848, 'eval_telecom-ir-eval_cosine_mrr@3': 0.8942205726405086, 'eval_telecom-ir-eval_cosine_mrr@5': 0.8991781548250264, 'eval_telecom-ir-eval_cosine_mrr@10': 0.9008256324799271, 'eval_telecom-ir-eval_cosine_map@100': 0.9012697774679171, 'eval_runtime': 4.542, 'eval_samples_per_second': 415.237, 'eval_steps_per_second': 3.303, 'epoch': 8.64406779661017}\n",
      "{'loss': 0.0319, 'grad_norm': 0.43444928526878357, 'learning_rate': 1.881842641895104e-06, 'epoch': 8.898305084745763}\n",
      "{'eval_loss': 0.05989158898591995, 'eval_telecom-ir-eval_cosine_accuracy@1': 0.8398727465535525, 'eval_telecom-ir-eval_cosine_accuracy@3': 0.9591728525980912, 'eval_telecom-ir-eval_cosine_accuracy@5': 0.9809119830328739, 'eval_telecom-ir-eval_cosine_accuracy@10': 0.9925768822905621, 'eval_telecom-ir-eval_cosine_precision@1': 0.8398727465535525, 'eval_telecom-ir-eval_cosine_recall@1': 0.8398727465535525, 'eval_telecom-ir-eval_cosine_ndcg@10': 0.9239352583954543, 'eval_telecom-ir-eval_cosine_mrr@3': 0.8943973135383524, 'eval_telecom-ir-eval_cosine_mrr@5': 0.8993814068575469, 'eval_telecom-ir-eval_cosine_mrr@10': 0.9010162601626016, 'eval_telecom-ir-eval_cosine_map@100': 0.9014553159110134, 'eval_runtime': 4.5831, 'eval_samples_per_second': 411.514, 'eval_steps_per_second': 3.273, 'epoch': 8.898305084745763}\n",
      "{'loss': 0.0264, 'grad_norm': 0.6247660517692566, 'learning_rate': 1.129441066782702e-06, 'epoch': 9.152542372881356}\n",
      "{'eval_loss': 0.059962816536426544, 'eval_telecom-ir-eval_cosine_accuracy@1': 0.8377518557794273, 'eval_telecom-ir-eval_cosine_accuracy@3': 0.9591728525980912, 'eval_telecom-ir-eval_cosine_accuracy@5': 0.9809119830328739, 'eval_telecom-ir-eval_cosine_accuracy@10': 0.9925768822905621, 'eval_telecom-ir-eval_cosine_precision@1': 0.8377518557794273, 'eval_telecom-ir-eval_cosine_recall@1': 0.8377518557794273, 'eval_telecom-ir-eval_cosine_ndcg@10': 0.9231063151354083, 'eval_telecom-ir-eval_cosine_mrr@3': 0.893248497702368, 'eval_telecom-ir-eval_cosine_mrr@5': 0.8982591021562389, 'eval_telecom-ir-eval_cosine_mrr@10': 0.8998939554612937, 'eval_telecom-ir-eval_cosine_map@100': 0.9003370280482929, 'eval_runtime': 4.5977, 'eval_samples_per_second': 410.208, 'eval_steps_per_second': 3.263, 'epoch': 9.152542372881356}\n",
      "{'loss': 0.0311, 'grad_norm': 0.41750574111938477, 'learning_rate': 5.649152545533332e-07, 'epoch': 9.40677966101695}\n",
      "{'eval_loss': 0.059979088604450226, 'eval_telecom-ir-eval_cosine_accuracy@1': 0.83881230116649, 'eval_telecom-ir-eval_cosine_accuracy@3': 0.9581124072110286, 'eval_telecom-ir-eval_cosine_accuracy@5': 0.9809119830328739, 'eval_telecom-ir-eval_cosine_accuracy@10': 0.9925768822905621, 'eval_telecom-ir-eval_cosine_precision@1': 0.83881230116649, 'eval_telecom-ir-eval_cosine_recall@1': 0.83881230116649, 'eval_telecom-ir-eval_cosine_ndcg@10': 0.9234009439043187, 'eval_telecom-ir-eval_cosine_mrr@3': 0.8934252386002117, 'eval_telecom-ir-eval_cosine_mrr@5': 0.8986744432661717, 'eval_telecom-ir-eval_cosine_mrr@10': 0.9003092965712266, 'eval_telecom-ir-eval_cosine_map@100': 0.9007523691582257, 'eval_runtime': 4.567, 'eval_samples_per_second': 412.965, 'eval_steps_per_second': 3.284, 'epoch': 9.40677966101695}\n",
      "{'loss': 0.028, 'grad_norm': 0.5269842743873596, 'learning_rate': 1.927083654168854e-07, 'epoch': 9.661016949152543}\n",
      "{'eval_loss': 0.05999757722020149, 'eval_telecom-ir-eval_cosine_accuracy@1': 0.83881230116649, 'eval_telecom-ir-eval_cosine_accuracy@3': 0.95864262990456, 'eval_telecom-ir-eval_cosine_accuracy@5': 0.9809119830328739, 'eval_telecom-ir-eval_cosine_accuracy@10': 0.9925768822905621, 'eval_telecom-ir-eval_cosine_precision@1': 0.83881230116649, 'eval_telecom-ir-eval_cosine_recall@1': 0.83881230116649, 'eval_telecom-ir-eval_cosine_ndcg@10': 0.9234377007664218, 'eval_telecom-ir-eval_cosine_mrr@3': 0.8936019794980554, 'eval_telecom-ir-eval_cosine_mrr@5': 0.8987186284906327, 'eval_telecom-ir-eval_cosine_mrr@10': 0.9003534817956875, 'eval_telecom-ir-eval_cosine_map@100': 0.9007925375440993, 'eval_runtime': 4.598, 'eval_samples_per_second': 410.182, 'eval_steps_per_second': 3.262, 'epoch': 9.661016949152543}\n",
      "{'loss': 0.0281, 'grad_norm': 0.6419966816902161, 'learning_rate': 1.5749893125160954e-08, 'epoch': 9.915254237288135}\n",
      "{'eval_loss': 0.05999290570616722, 'eval_telecom-ir-eval_cosine_accuracy@1': 0.83881230116649, 'eval_telecom-ir-eval_cosine_accuracy@3': 0.9591728525980912, 'eval_telecom-ir-eval_cosine_accuracy@5': 0.9809119830328739, 'eval_telecom-ir-eval_cosine_accuracy@10': 0.9925768822905621, 'eval_telecom-ir-eval_cosine_precision@1': 0.83881230116649, 'eval_telecom-ir-eval_cosine_recall@1': 0.83881230116649, 'eval_telecom-ir-eval_cosine_ndcg@10': 0.9236365378289396, 'eval_telecom-ir-eval_cosine_mrr@3': 0.893955461293743, 'eval_telecom-ir-eval_cosine_mrr@5': 0.898966065747614, 'eval_telecom-ir-eval_cosine_mrr@10': 0.9006009190526687, 'eval_telecom-ir-eval_cosine_map@100': 0.9010399748010806, 'eval_runtime': 4.5622, 'eval_samples_per_second': 413.399, 'eval_steps_per_second': 3.288, 'epoch': 9.915254237288135}\n",
      "{'train_runtime': 442.7166, 'train_samples_per_second': 170.335, 'train_steps_per_second': 1.333, 'train_loss': 0.07020064908064018, 'epoch': 10.0}\n",
      "Training completed.\n",
      "Saving the trained model...\n",
      "Model saved successfully.\n",
      "Process completed successfully.\n",
      "\u001b[1;34mwandb\u001b[0m: \n",
      "\u001b[1;34mwandb\u001b[0m: 🚀 View run \u001b[33mbge-small-boolq_10e_128bs\u001b[0m at: \u001b[34mhttps://wandb.ai/dinho15971-unicamp/SBBD_embeddings/runs/c0dq8gdx\u001b[0m\n",
      "\u001b[1;34mwandb\u001b[0m: Find logs at: \u001b[1;35mwandb/run-20250503_181644-c0dq8gdx/logs\u001b[0m\n"
     ]
    }
   ],
   "source": [
    "!python  ../scripts/train_embedding.py \\\n",
    "  --name_dataset \"boolq\" \\\n",
    "  --model_name \"BAAI/bge-small-en-v1.5\" \\\n",
    "  --new_model_name \"bge-small-boolq\" \\\n",
    "  --epochs 10 \\\n",
    "  --batch_size 128 \\\n",
    "  --output_dir \"../models/boolq/embedding/\""
   ]
  },
  {
   "cell_type": "markdown",
   "id": "2beb87e2-2a25-4afa-ba11-7ae2e6f00966",
   "metadata": {},
   "source": [
    "## Evaluate embedding"
   ]
  },
  {
   "cell_type": "code",
   "execution_count": 3,
   "id": "c23c194f-d8eb-4865-b395-517c988ed894",
   "metadata": {},
   "outputs": [
    {
     "name": "stdout",
     "output_type": "stream",
     "text": [
      "Cargando modelos...\n",
      "Models loaded\n",
      "Loading datasets...\n",
      "Loading dataset splits for boolq\n",
      "Loading and preparing datasets...\n",
      "Train: 7541\n",
      "Val: 1886\n",
      "Test: 3270\n",
      "Datasets loaded and prepared.\n",
      "Datasets loaded and prepared.\n",
      "Loaded dataset\n",
      "Creating evaluator...\n",
      "Evaluator created.\n",
      "Evaluating models\n",
      "Save results...\n"
     ]
    }
   ],
   "source": [
    "!python  ../scripts/evaluate_embedding.py \\\n",
    "  --name_dataset \"boolq\" \\\n",
    "  --output_dir \"../results/boolq/\" \\\n",
    "  --models_dir \"../models/boolq/embedding/\""
   ]
  },
  {
   "cell_type": "markdown",
   "id": "e463cb29-23fe-40f4-a659-5950c92ed3f0",
   "metadata": {},
   "source": [
    "## Creating New Vector Store"
   ]
  },
  {
   "cell_type": "code",
   "execution_count": 4,
   "id": "4190c6ab-3a23-4d32-a9e2-d9d031d3b29b",
   "metadata": {},
   "outputs": [
    {
     "name": "stdout",
     "output_type": "stream",
     "text": [
      "Load model embedding\n",
      "Using device: cuda\n",
      "100%|██████████████████████████████████| 12697/12697 [00:00<00:00, 24413.44it/s]\n",
      "100%|████████████████████████████████████| 12697/12697 [00:13<00:00, 947.80it/s]\n",
      "Total number of passages: 16519\n",
      "Removing duplicate passages\n",
      "Total number of passages created: 13091\n",
      "Creating vector store\n",
      "Load model embedding : ../models/boolq/embedding/bge-small-boolq_10e_128bs\n",
      "Using device: cuda\n",
      "Generando embeddings: 100%|█████████████████████| 13/13 [00:11<00:00,  1.13it/s]\n",
      "✅ Índice FAISS creado exitosamente.\n",
      "💾 Vector store saved in ../vector_stores/boolq/ft_vs_boolq_150_20\n"
     ]
    }
   ],
   "source": [
    "!python ../scripts/create_vector_store.py \\\n",
    "  --dataset \"boolq\" \\\n",
    "  --emb_model \"../models/boolq/embedding/bge-small-boolq_10e_128bs\" \\\n",
    "  --cs 150 \\\n",
    "  --co 20 \\\n",
    "  --bs_emb 1024 \\\n",
    "  --output_dir \"../vector_stores/boolq/ft_\""
   ]
  },
  {
   "cell_type": "markdown",
   "id": "30d509ad-3a91-486e-8819-b2adf0b7d35d",
   "metadata": {},
   "source": [
    "## Train Phi-2"
   ]
  },
  {
   "cell_type": "code",
   "execution_count": 5,
   "id": "57df9876-8309-4421-8a09-ba81359975f0",
   "metadata": {},
   "outputs": [
    {
     "name": "stdout",
     "output_type": "stream",
     "text": [
      "Load model embedding : ../models/boolq/embedding/bge-small-boolq_10e_128bs\n",
      "Using device: cuda\n",
      "💾 Vector store loaded from../vector_stores/boolq/ft_vs_boolq_150_20\n",
      "Creating dataset for boolq\n",
      "Loading dataset splits for boolq\n",
      "Loading and preparing datasets...\n",
      "Train: 7541\n",
      "Val: 1886\n",
      "Test: 3270\n",
      "Datasets loaded and prepared.\n"
     ]
    },
    {
     "name": "stderr",
     "output_type": "stream",
     "text": [
      "🔍 Buscando: 100%|████████████████████████| 943/943 [00:11<00:00, 80.77it/s]\n"
     ]
    },
    {
     "data": {
      "application/vnd.jupyter.widget-view+json": {
       "model_id": "aa8fc2d9c3124f16ab89f8e1a551467b",
       "version_major": 2,
       "version_minor": 0
      },
      "text/plain": [
       "Map:   0%|          | 0/7541 [00:00<?, ? examples/s]"
      ]
     },
     "metadata": {},
     "output_type": "display_data"
    },
    {
     "name": "stderr",
     "output_type": "stream",
     "text": [
      "🔍 Buscando: 100%|████████████████████████| 236/236 [00:02<00:00, 85.32it/s]\n"
     ]
    },
    {
     "data": {
      "application/vnd.jupyter.widget-view+json": {
       "model_id": "89ab0d46785244eeae56fdf260173c8e",
       "version_major": 2,
       "version_minor": 0
      },
      "text/plain": [
       "Flattening the indices:   0%|          | 0/1886 [00:00<?, ? examples/s]"
      ]
     },
     "metadata": {},
     "output_type": "display_data"
    },
    {
     "data": {
      "application/vnd.jupyter.widget-view+json": {
       "model_id": "79f6e2cf13414952bb87e8e12820fe02",
       "version_major": 2,
       "version_minor": 0
      },
      "text/plain": [
       "Map:   0%|          | 0/1886 [00:00<?, ? examples/s]"
      ]
     },
     "metadata": {},
     "output_type": "display_data"
    }
   ],
   "source": [
    "import sys\n",
    "from utils.data_for_train_phi import get_dataset_for_train_phi\n",
    "from vector_stores.faiss import VectorStoreFaiss\n",
    "vector_store = VectorStoreFaiss.load_local(\"../vector_stores/boolq/ft_vs_boolq_150_20\")\n",
    "train_ds, test_ds = get_dataset_for_train_phi('boolq', True, vector_store,4, 8)"
   ]
  },
  {
   "cell_type": "code",
   "execution_count": 6,
   "id": "f55cde55-f6e2-4231-956a-c04e4ef3c261",
   "metadata": {},
   "outputs": [
    {
     "name": "stdout",
     "output_type": "stream",
     "text": [
      "Instruct: You are given a context and a question. Answer only \"yes\" or \"no\" based solely on the information contained in the context. If the context does not provide enough information to answer confidently, answer based on the most likely interpretation from the given text.\n",
      "\n",
      "Context:\n",
      "\n",
      "Document 0:. Its primary inlet is the Niagara River from Lake Erie. The last in the Great Lakes chain, Lake Ontario serves as the outlet to the Atlantic Ocean via the Saint Lawrence River.\n",
      "Document 1:The Great Lakes Waterway is a system of natural channels and canals which enable navigation between the North American Great Lakes. Though all of the lakes are naturally connected as a chain, water travel between the lakes was impeded for centuries by obstacles such as Niagara Falls and the rapids of the St. Marys River.\n",
      "Document 2:The Welland Canal is a ship canal in Ontario, Canada, connecting Lake Ontario and Lake Erie. It forms a key section of the St. Lawrence Seaway. Traversing the Niagara Peninsula from Port Weller to Port Colborne, it enables ships to ascend and descend the Niagara Escarpment and bypass Niagara Falls.\n",
      "Document 3:Lake Ontario is one of the five Great Lakes of North America. It is surrounded on the north, west, and southwest by the Canadian province of Ontario, and on the south and east by the American state of New York, whose water boundaries meet in the middle of the lake. Ontario, Canada's most populous province, was named for the lake. Many of Ontario's most populous cities, including Toronto, Canada's most populous city, and Hamilton, are on the lake's northern or western shores. In the Huron language, the name Ontarí'io means ``Lake of Shining Waters''. Its primary inlet is the Niagara River from Lake Erie\n",
      "Document 4:The Welland Canal is a ship canal in Ontario, Canada, connecting Lake Ontario and Lake Erie. It forms a key section of the St. Lawrence Seaway. Traversing the Niagara Peninsula from Port Weller to Port Colborne, it enables ships to ascend and descend the Niagara Escarpment and bypass Niagara Falls.\n",
      "\n",
      "Question:\n",
      "can you sail from lake ontario to lake erie\n",
      "\n",
      "Output:\n",
      "Yes\n",
      "<|endoftext|>\n"
     ]
    }
   ],
   "source": [
    "print(train_ds[0]['text'])"
   ]
  },
  {
   "cell_type": "code",
   "execution_count": null,
   "id": "c281713a-af93-483c-b7d5-c94a40786ea6",
   "metadata": {
    "scrolled": true
   },
   "outputs": [
    {
     "name": "stdout",
     "output_type": "stream",
     "text": [
      "\u001b[34m\u001b[1mwandb\u001b[0m: Currently logged in as: \u001b[33mdinho15971\u001b[0m (\u001b[33mdinho15971-unicamp\u001b[0m) to \u001b[32mhttps://api.wandb.ai\u001b[0m. Use \u001b[1m`wandb login --relogin`\u001b[0m to force relogin\n",
      "\u001b[34m\u001b[1mwandb\u001b[0m: Tracking run with wandb version 0.19.10\n",
      "\u001b[34m\u001b[1mwandb\u001b[0m: Run data is saved locally in \u001b[35m\u001b[1m/local1/ronaldinho/projects/test_sbbd/notebooks2/wandb/run-20250503_200104-8y4x7p82\u001b[0m\n",
      "\u001b[34m\u001b[1mwandb\u001b[0m: Run \u001b[1m`wandb offline`\u001b[0m to turn off syncing.\n",
      "\u001b[34m\u001b[1mwandb\u001b[0m: Syncing run \u001b[33mphi_2_rag_k1_boolq_2e_10bs\u001b[0m\n",
      "\u001b[34m\u001b[1mwandb\u001b[0m: ⭐️ View project at \u001b[34m\u001b[4mhttps://wandb.ai/dinho15971-unicamp/SBBD_phi-2-adapters\u001b[0m\n",
      "\u001b[34m\u001b[1mwandb\u001b[0m: 🚀 View run at \u001b[34m\u001b[4mhttps://wandb.ai/dinho15971-unicamp/SBBD_phi-2-adapters/runs/8y4x7p82\u001b[0m\n",
      "Usando dispositivo: cuda\n",
      "Load model embedding : ../models/boolq/embedding/bge-small-boolq_10e_128bs\n",
      "Using device: cuda\n",
      "💾 Vector store loaded from../vector_stores/boolq/ft_vs_boolq_150_20\n",
      "Using k = 1 passages\n",
      "Creating dataset for boolq\n",
      "Loading dataset splits for boolq\n",
      "Loading and preparing datasets...\n",
      "Train: 7541\n",
      "Val: 1886\n",
      "Test: 3270\n",
      "Datasets loaded and prepared.\n",
      "🔍 Buscando: 100%|████████████████████████████| 943/943 [00:10<00:00, 86.87it/s]\n",
      "Map: 100%|███████████████████████████| 7541/7541 [28:01<00:00,  4.49 examples/s]\n",
      "🔍 Buscando: 100%|████████████████████████████| 236/236 [00:02<00:00, 91.19it/s]\n",
      "Map: 100%|███████████████████████████| 1886/1886 [07:11<00:00,  4.37 examples/s]\n",
      "Input Example:\n",
      "Instruct: You are given a context and a question. Answer only \"yes\" or \"no\" based solely on the information contained in the context. If the context does not provide enough information to answer confidently, answer based on the most likely interpretation from the given text.\n",
      "\n",
      "Context:\n",
      "\n",
      "Document 0:. Its primary inlet is the Niagara River from Lake Erie. The last in the Great Lakes chain, Lake Ontario serves as the outlet to the Atlantic Ocean via the Saint Lawrence River.\n",
      "Document 1:The Welland Canal is a ship canal in Ontario, Canada, connecting Lake Ontario and Lake Erie. It forms a key section of the St. Lawrence Seaway. Traversing the Niagara Peninsula from Port Weller to Port Colborne, it enables ships to ascend and descend the Niagara Escarpment and bypass Niagara Falls.\n",
      "\n",
      "Question:\n",
      "can you sail from lake ontario to lake erie\n",
      "\n",
      "Output:\n",
      "yes\n",
      "<|endoftext|>\n",
      "Loading model\n",
      "Loading checkpoint shards: 100%|██████████████████| 2/2 [00:01<00:00,  1.67it/s]\n",
      "Training\n",
      "No label_names provided for model class `PeftModelForCausalLM`. Since `PeftModel` hides base models input arguments, if label_names is not given, label_names can't be set automatically within `Trainer`. Note that empty label_names list will be used instead.\n",
      "🟢 No checkpoints found. Starting training from scratch.\n",
      "\u001b[34m\u001b[1mwandb\u001b[0m: \u001b[33mWARNING\u001b[0m The `run_name` is currently set to the same value as `TrainingArguments.output_dir`. If this was not intended, please specify a different run name by setting the `TrainingArguments.run_name` parameter.\n",
      "{'loss': 0.9835, 'grad_norm': 0.16191741824150085, 'learning_rate': 0.0001994641524695193, 'epoch': 0.13245033112582782}\n",
      "{'eval_loss': 0.6789440512657166, 'eval_runtime': 94.6509, 'eval_samples_per_second': 19.926, 'eval_steps_per_second': 1.997, 'eval_num_tokens': 373091.0, 'eval_mean_token_accuracy': 0.8498708426006256, 'epoch': 0.13245033112582782}\n"
     ]
    }
   ],
   "source": [
    "!python  ../scripts/ft_phi.py \\\n",
    "  --new_model_name \"phi_2_rag_k1_boolq_2e_10bs\" \\\n",
    "  --num_epochs 2 \\\n",
    "  --batch_size 10 \\\n",
    "  --dataset_name \"boolq\" \\\n",
    "  --include_docs \\\n",
    "  --top_k 1 \\\n",
    "  --save_path \"../models/boolq/adapters/\" \\\n",
    "  --vector_store_path \"../vector_stores/boolq/ft_vs_boolq_150_20\""
   ]
  },
  {
   "cell_type": "markdown",
   "id": "3cea41c1-ee75-4a87-bf34-2ca473d7c9dc",
   "metadata": {},
   "source": [
    "## Inference"
   ]
  },
  {
   "cell_type": "code",
   "execution_count": 4,
   "id": "c0e33752-ad7d-40e2-aaa0-3c1f26be604a",
   "metadata": {
    "scrolled": true
   },
   "outputs": [
    {
     "name": "stdout",
     "output_type": "stream",
     "text": [
      "Using device: cuda\n",
      "Loading base model from LoRA adapter: ../models/boolq/adapters/best_phi_2_rag_k1_boolq_2e_10bs\n",
      "Loading checkpoint shards: 100%|██████████████████| 2/2 [00:00<00:00, 18.77it/s]\n",
      "Load model embedding : ../models/boolq/embedding/bge-small-boolq_10e_128bs\n",
      "Using device: cuda\n",
      "💾 Vector store loaded from../vector_stores/boolq/ft_vs_boolq_150_20\n",
      "Device set to use cuda:0\n",
      "Loading dataset splits for boolq\n",
      "Loading and preparing datasets...\n",
      "Train: 7541\n",
      "Val: 1886\n",
      "Test: 3270\n",
      "Datasets loaded and prepared.\n",
      "Dataset({\n",
      "    features: ['question', 'answer', 'passage'],\n",
      "    num_rows: 3270\n",
      "})\n",
      "🔍 Buscando: 100%|██████████████████████████████| 66/66 [00:01<00:00, 54.46it/s]\n",
      "Generating prompts: 100%|████████████████| 3270/3270 [00:00<00:00, 16677.44it/s]\n",
      "Example prompt\n",
      "Instruct: You are given a context and a question. Answer only \"yes\" or \"no\" based solely on the information contained in the context. If the context does not provide enough information to answer confidently, answer based on the most likely interpretation from the given text.\n",
      "\n",
      "Context:\n",
      "\n",
      "Document 1:.4×10 U.S. gal; 1.1×10 imp gal). From 2007 to 2008, the share of ethanol in global gasoline type fuel use increased from 3.7% to 5.4%. In 2011 worldwide ethanol fuel production reached 8.46×10 liters (2.23×10 U.S. gal; 1.86×10 imp gal) with the United States of America and Brazil being the top producers, accounting for 62.2% and 25% of global production, respectively. US ethanol production reached 57.54×10 liters (1.520×10 U.S. gal; 1.266×10 imp gal) in 2017-04.\n",
      "Document 2:All biomass goes through at least some of these steps: it needs to be grown, collected, dried, fermented, distilled, and burned. All of these steps require resources and an infrastructure. The total amount of energy input into the process compared to the energy released by burning the resulting ethanol fuel is known as the energy balance (or ``energy returned on energy invested''). Figures compiled in a 2007 report by National Geographic Magazine point to modest results for corn ethanol produced in the US: one unit of fossil-fuel energy is required to create 1.3 energy units from the resulting ethanol\n",
      "Document 3:Ethanol fuel is ethyl alcohol, the same type of alcohol found in alcoholic beverages, used as fuel. It is most often used as a motor fuel, mainly as a biofuel additive for gasoline. The first production car running entirely on ethanol was the Fiat 147, introduced in 1978 in Brazil by Fiat. Ethanol is commonly made from biomass such as corn or sugarcane. World ethanol production for transport fuel tripled between 2000 and 2007 from 17×10 liters (4.5×10 U.S. gal; 3.7×10 imp gal) to more than 52×10 liters (1.4×10 U.S. gal; 1.1×10 imp gal)\n",
      "Document 4:.3 energy units from the resulting ethanol. The energy balance for sugarcane ethanol produced in Brazil is more favorable, with one unit of fossil-fuel energy required to create 8 from the ethanol. Energy balance estimates are not easily produced, thus numerous such reports have been generated that are contradictory. For instance, a separate survey reports that production of ethanol from sugarcane, which requires a tropical climate to grow productively, returns from 8 to 9 units of energy for each unit expended, as compared to corn, which only returns about 1.34 units of fuel energy for each unit of energy expended. A 2006 University of California Berkeley study, after analyzing six separate studies, concluded that producing ethanol from corn uses much less petroleum than producing gasoline.\n",
      "Document 5:Primary producers convert an abiotic source of energy (e.g. light) into energy stored in organic compounds, which can be used by other organisms (e.g. heterotrophs). The primary producers can convert the energy in the light (phototroph and photoautotroph) or the energy in inorganic chemical compounds (chemolithotrophs) to build organic molecules, which is usually accumulated in the form of biomass and will be used as carbon and energy source by other organisms (e.g. heterotrophs and mixotrophs)\n",
      "Document 6:Historically called white gas (not white spirit), it is a liquid petroleum fuel (100% light hydrotreated distillate) usually sold in one gallon cans in the United States, in Europe it is usually sold in one litre bottles.\n",
      "Document 7:Although showing fermentation to be the result of the action of living microorganisms was a breakthrough, it did not explain the basic nature of the fermentation process, or prove that it is caused by the microorganisms that appear to be always present. Many scientists, including Pasteur, had unsuccessfully attempted to extract the fermentation enzyme from yeast. Success came in 1897 when the German chemist Eduard Buechner ground up yeast, extracted a juice from them, then found to his amazement that this ``dead'' liquid would ferment a sugar solution, forming carbon dioxide and alcohol much like living yeasts. Buechner's results are considered to mark the birth of biochemistry\n",
      "Document 8:However alcoholic beverages cannot be further purified to 0.00% alcohol by volume by distillation. In fact, most beverages labeled non-alcoholic contain 0.5% ABV as it is more profitable than distilling it to 0.05% ABV often found in products sold by companies specializing in non-alcoholic beverages.\n",
      "Document 9:Wood gasifiers can power either spark ignition engines, where 100% of the normal fuel can be replaced with little change to the carburation, or in a Diesel engine, feeding the gas into the air inlet that is modified to have a throttle valve, if it didn't have it already. On Diesel engines the Diesel fuel is still needed to ignite the gas mixture, so a mechanically regulated Diesel engine's ``stop'' linkage and probably ``throttle'' linkage must be modified to always give the engine a little bit of injected fuel, often under the standard idle per-injection volume. Wood can be used to power cars with ordinary internal combustion engines if a wood gasifier is attached\n",
      "Document 10:. Wood can be used to power cars with ordinary internal combustion engines if a wood gasifier is attached. This was quite popular during World War II in several European, African and Asian countries, because the war prevented easy and cost-effective access to oil. In more recent times, wood gas has been suggested as a clean and efficient method to heat and cook in developing countries, or even to produce electricity when combined with an internal combustion engine. Compared to World War II technology, gasifiers have become less dependent on constant attention due to the use of sophisticated electronic control systems, but it remains difficult to get clean gas from them. Purification of the gas and feeding it into natural gas pipelines is one variant to link it to the existing refueling infrastructure\n",
      "\n",
      "Question:\n",
      "does ethanol take more energy make that produces\n",
      "\n",
      "Output:\n",
      "Processing inference\n",
      "inference completed\n",
      "answer save in ../results/boolq/full_ft_k10_boolq.csv\n"
     ]
    }
   ],
   "source": [
    "!python ../scripts/inference_rag.py \\\n",
    "  --lora_adapter_path \"../models/boolq/adapters/best_phi_2_rag_k1_boolq_2e_10bs\" \\\n",
    "  --max_new_tokens 10 \\\n",
    "  --vector_store_path \"../vector_stores/boolq/ft_vs_boolq_150_20\" \\\n",
    "  --dataset_name \"boolq\" \\\n",
    "  --output_csv_path \"../results/boolq/full_ft_k10_boolq.csv\" \\\n",
    "  --bs_emb 50 \\\n",
    "  --bs_gen 8 \\\n",
    "  --top_k 10 \\\n",
    "  --use_rag"
   ]
  },
  {
   "cell_type": "markdown",
   "id": "3427c2ce-62e4-445d-b1e5-24c5c31165eb",
   "metadata": {},
   "source": [
    "## Evaluation"
   ]
  },
  {
   "cell_type": "code",
   "execution_count": 2,
   "id": "f26c51db-fdf5-4074-b04c-d7ca9828d45d",
   "metadata": {},
   "outputs": [
    {
     "name": "stdout",
     "output_type": "stream",
     "text": [
      "Loading dataset splits for boolq\n",
      "Loading and preparing datasets...\n",
      "Train: 7541\n",
      "Val: 1886\n",
      "Test: 3270\n",
      "Datasets loaded and prepared.\n",
      "Results saved in: ../results/boolq/full_ft_k10_boolq.csv\n"
     ]
    }
   ],
   "source": [
    "from utils.evaluate_inference import evaluate_answer\n",
    "evaluate_answer('boolq', '../results/boolq/full_ft_k10_boolq.csv')"
   ]
  }
 ],
 "metadata": {
  "kernelspec": {
   "display_name": "Python 3.10 (env_sbbd)",
   "language": "python",
   "name": "env_sbbd"
  },
  "language_info": {
   "codemirror_mode": {
    "name": "ipython",
    "version": 3
   },
   "file_extension": ".py",
   "mimetype": "text/x-python",
   "name": "python",
   "nbconvert_exporter": "python",
   "pygments_lexer": "ipython3",
   "version": "3.10.14"
  }
 },
 "nbformat": 4,
 "nbformat_minor": 5
}
